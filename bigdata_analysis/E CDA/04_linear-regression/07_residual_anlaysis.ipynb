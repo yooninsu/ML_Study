{
 "cells": [
  {
   "cell_type": "markdown",
   "metadata": {},
   "source": [
    "# 잔차 분석\n",
    "\n",
    "## 잔차분석의 이해\n",
    "\n",
    "#### 잔차\n",
    "\n",
    "실제 관측값과 예측값의 사이\n",
    "\n",
    "즉, 예측값에 대한 오차를 의미함\n",
    "\n",
    "$잔차 = 실제관측값 - 예측값$ \n",
    "\n",
    "#### 잔차 분석\n",
    "\n",
    "회귀분석 수행 후 회귀 분석이 적절하게 수행되었는지, 모델이 데이터에 적합한지를 평가하기 위해 사용\n",
    "\n",
    "1. 잔차의 선형성\n",
    "2. 잔차의 정규성\n",
    "3. 잔차의 등분산성\n",
    "4. 잔차의 독립성\n",
    "\n",
    "## 01. 작업준비\n",
    "\n",
    "패키지 참조\n"
   ]
  },
  {
   "cell_type": "code",
   "execution_count": 22,
   "metadata": {},
   "outputs": [],
   "source": [
    "from pandas import read_excel, DataFrame\n",
    "from matplotlib import pyplot as plt\n",
    "import seaborn as sb\n",
    "import numpy as np\n",
    "import sys\n",
    "import os\n",
    "import statsmodels.api as sm\n",
    "from statsmodels.stats.api import het_breuschpagan\n",
    "from scipy import stats\n",
    "from scipy.stats import shapiro, probplot\n",
    "\n",
    "\n",
    "sys.path.append(os.path.dirname(os.path.dirname(os.getcwd())))\n",
    "from helper import my_ols"
   ]
  },
  {
   "cell_type": "markdown",
   "metadata": {},
   "source": [
    "#### 그래프 초기화"
   ]
  },
  {
   "cell_type": "code",
   "execution_count": 11,
   "metadata": {},
   "outputs": [],
   "source": [
    "plt.rcParams[\"font.family\"] = 'AppleGothic' if sys.platform == 'darwin' else 'Malgun Gothic'\n",
    "plt.rcParams[\"font.size\"] = 12\n",
    "plt.rcParams[\"figure.figsize\"] = (10, 5)\n",
    "plt.rcParams[\"axes.unicode_minus\"] = False"
   ]
  },
  {
   "cell_type": "markdown",
   "metadata": {},
   "source": [
    "#### 데이터 가져오기"
   ]
  },
  {
   "cell_type": "code",
   "execution_count": 12,
   "metadata": {},
   "outputs": [
    {
     "data": {
      "text/html": [
       "<div>\n",
       "<style scoped>\n",
       "    .dataframe tbody tr th:only-of-type {\n",
       "        vertical-align: middle;\n",
       "    }\n",
       "\n",
       "    .dataframe tbody tr th {\n",
       "        vertical-align: top;\n",
       "    }\n",
       "\n",
       "    .dataframe thead th {\n",
       "        text-align: right;\n",
       "    }\n",
       "</style>\n",
       "<table border=\"1\" class=\"dataframe\">\n",
       "  <thead>\n",
       "    <tr style=\"text-align: right;\">\n",
       "      <th></th>\n",
       "      <th>speed</th>\n",
       "      <th>dist</th>\n",
       "    </tr>\n",
       "  </thead>\n",
       "  <tbody>\n",
       "    <tr>\n",
       "      <th>0</th>\n",
       "      <td>4</td>\n",
       "      <td>2</td>\n",
       "    </tr>\n",
       "    <tr>\n",
       "      <th>1</th>\n",
       "      <td>4</td>\n",
       "      <td>10</td>\n",
       "    </tr>\n",
       "    <tr>\n",
       "      <th>2</th>\n",
       "      <td>7</td>\n",
       "      <td>4</td>\n",
       "    </tr>\n",
       "    <tr>\n",
       "      <th>3</th>\n",
       "      <td>7</td>\n",
       "      <td>22</td>\n",
       "    </tr>\n",
       "    <tr>\n",
       "      <th>4</th>\n",
       "      <td>8</td>\n",
       "      <td>16</td>\n",
       "    </tr>\n",
       "  </tbody>\n",
       "</table>\n",
       "</div>"
      ],
      "text/plain": [
       "   speed  dist\n",
       "0      4     2\n",
       "1      4    10\n",
       "2      7     4\n",
       "3      7    22\n",
       "4      8    16"
      ]
     },
     "execution_count": 12,
     "metadata": {},
     "output_type": "execute_result"
    }
   ],
   "source": [
    "df = read_excel(\"https://data.hossam.kr/E04/cars.xlsx\")\n",
    "df.head()"
   ]
  },
  {
   "cell_type": "markdown",
   "metadata": {},
   "source": [
    "#### 회귀분석 수행"
   ]
  },
  {
   "cell_type": "code",
   "execution_count": 13,
   "metadata": {},
   "outputs": [
    {
     "name": "stdout",
     "output_type": "stream",
     "text": [
      "['speed', 'dist']\n"
     ]
    }
   ],
   "source": [
    "ols = my_ols(df, x='speed', y='dist')"
   ]
  },
  {
   "cell_type": "markdown",
   "metadata": {},
   "source": [
    "## 02. 잔차분석 수행\n",
    "\n",
    "#### 잔차 구하기\n",
    "\n",
    "예측값"
   ]
  },
  {
   "cell_type": "code",
   "execution_count": 14,
   "metadata": {},
   "outputs": [
    {
     "data": {
      "text/plain": [
       "0     -1.849460\n",
       "1     -1.849460\n",
       "2      9.947766\n",
       "3      9.947766\n",
       "4     13.880175\n",
       "5     17.812584\n",
       "6     21.744993\n",
       "7     21.744993\n",
       "8     21.744993\n",
       "9     25.677401\n",
       "10    25.677401\n",
       "11    29.609810\n",
       "12    29.609810\n",
       "13    29.609810\n",
       "14    29.609810\n",
       "15    33.542219\n",
       "16    33.542219\n",
       "17    33.542219\n",
       "18    33.542219\n",
       "19    37.474628\n",
       "20    37.474628\n",
       "21    37.474628\n",
       "22    37.474628\n",
       "23    41.407036\n",
       "24    41.407036\n",
       "25    41.407036\n",
       "26    45.339445\n",
       "27    45.339445\n",
       "28    49.271854\n",
       "29    49.271854\n",
       "30    49.271854\n",
       "31    53.204263\n",
       "32    53.204263\n",
       "33    53.204263\n",
       "34    53.204263\n",
       "35    57.136672\n",
       "36    57.136672\n",
       "37    57.136672\n",
       "38    61.069080\n",
       "39    61.069080\n",
       "40    61.069080\n",
       "41    61.069080\n",
       "42    61.069080\n",
       "43    68.933898\n",
       "44    72.866307\n",
       "45    76.798715\n",
       "46    76.798715\n",
       "47    76.798715\n",
       "48    76.798715\n",
       "49    80.731124\n",
       "dtype: float64"
      ]
     },
     "execution_count": 14,
     "metadata": {},
     "output_type": "execute_result"
    }
   ],
   "source": [
    "y_fitted = ols.fit.predict(df['speed'])\n",
    "y_fitted"
   ]
  },
  {
   "cell_type": "markdown",
   "metadata": {},
   "source": [
    "회귀분석 결과에 내장된 예측값\n",
    "\n",
    "`predict()` 함수의 결과와 동일함"
   ]
  },
  {
   "cell_type": "code",
   "execution_count": 15,
   "metadata": {},
   "outputs": [
    {
     "data": {
      "text/plain": [
       "0     -1.849460\n",
       "1     -1.849460\n",
       "2      9.947766\n",
       "3      9.947766\n",
       "4     13.880175\n",
       "5     17.812584\n",
       "6     21.744993\n",
       "7     21.744993\n",
       "8     21.744993\n",
       "9     25.677401\n",
       "10    25.677401\n",
       "11    29.609810\n",
       "12    29.609810\n",
       "13    29.609810\n",
       "14    29.609810\n",
       "15    33.542219\n",
       "16    33.542219\n",
       "17    33.542219\n",
       "18    33.542219\n",
       "19    37.474628\n",
       "20    37.474628\n",
       "21    37.474628\n",
       "22    37.474628\n",
       "23    41.407036\n",
       "24    41.407036\n",
       "25    41.407036\n",
       "26    45.339445\n",
       "27    45.339445\n",
       "28    49.271854\n",
       "29    49.271854\n",
       "30    49.271854\n",
       "31    53.204263\n",
       "32    53.204263\n",
       "33    53.204263\n",
       "34    53.204263\n",
       "35    57.136672\n",
       "36    57.136672\n",
       "37    57.136672\n",
       "38    61.069080\n",
       "39    61.069080\n",
       "40    61.069080\n",
       "41    61.069080\n",
       "42    61.069080\n",
       "43    68.933898\n",
       "44    72.866307\n",
       "45    76.798715\n",
       "46    76.798715\n",
       "47    76.798715\n",
       "48    76.798715\n",
       "49    80.731124\n",
       "dtype: float64"
      ]
     },
     "execution_count": 15,
     "metadata": {},
     "output_type": "execute_result"
    }
   ],
   "source": [
    "y_fitted = ols.fit.fittedvalues\n",
    "y_fitted"
   ]
  },
  {
   "cell_type": "markdown",
   "metadata": {},
   "source": [
    "잔차(직접계산)"
   ]
  },
  {
   "cell_type": "code",
   "execution_count": 17,
   "metadata": {},
   "outputs": [
    {
     "data": {
      "text/plain": [
       "0      3.849460\n",
       "1     11.849460\n",
       "2     -5.947766\n",
       "3     12.052234\n",
       "4      2.119825\n",
       "5     -7.812584\n",
       "6     -3.744993\n",
       "7      4.255007\n",
       "8     12.255007\n",
       "9     -8.677401\n",
       "10     2.322599\n",
       "11   -15.609810\n",
       "12    -9.609810\n",
       "13    -5.609810\n",
       "14    -1.609810\n",
       "15    -7.542219\n",
       "16     0.457781\n",
       "17     0.457781\n",
       "18    12.457781\n",
       "19   -11.474628\n",
       "20    -1.474628\n",
       "21    22.525372\n",
       "22    42.525372\n",
       "23   -21.407036\n",
       "24   -15.407036\n",
       "25    12.592964\n",
       "26   -13.339445\n",
       "27    -5.339445\n",
       "28   -17.271854\n",
       "29    -9.271854\n",
       "30     0.728146\n",
       "31   -11.204263\n",
       "32     2.795737\n",
       "33    22.795737\n",
       "34    30.795737\n",
       "35   -21.136672\n",
       "36   -11.136672\n",
       "37    10.863328\n",
       "38   -29.069080\n",
       "39   -13.069080\n",
       "40    -9.069080\n",
       "41    -5.069080\n",
       "42     2.930920\n",
       "43    -2.933898\n",
       "44   -18.866307\n",
       "45    -6.798715\n",
       "46    15.201285\n",
       "47    16.201285\n",
       "48    43.201285\n",
       "49     4.268876\n",
       "dtype: float64"
      ]
     },
     "execution_count": 17,
     "metadata": {},
     "output_type": "execute_result"
    }
   ],
   "source": [
    "residual = df['dist'] - y_fitted\n",
    "residual"
   ]
  },
  {
   "cell_type": "markdown",
   "metadata": {},
   "source": [
    "회귀분석 결과에 내장된 잔차값"
   ]
  },
  {
   "cell_type": "code",
   "execution_count": 18,
   "metadata": {},
   "outputs": [
    {
     "data": {
      "text/plain": [
       "0      3.849460\n",
       "1     11.849460\n",
       "2     -5.947766\n",
       "3     12.052234\n",
       "4      2.119825\n",
       "5     -7.812584\n",
       "6     -3.744993\n",
       "7      4.255007\n",
       "8     12.255007\n",
       "9     -8.677401\n",
       "10     2.322599\n",
       "11   -15.609810\n",
       "12    -9.609810\n",
       "13    -5.609810\n",
       "14    -1.609810\n",
       "15    -7.542219\n",
       "16     0.457781\n",
       "17     0.457781\n",
       "18    12.457781\n",
       "19   -11.474628\n",
       "20    -1.474628\n",
       "21    22.525372\n",
       "22    42.525372\n",
       "23   -21.407036\n",
       "24   -15.407036\n",
       "25    12.592964\n",
       "26   -13.339445\n",
       "27    -5.339445\n",
       "28   -17.271854\n",
       "29    -9.271854\n",
       "30     0.728146\n",
       "31   -11.204263\n",
       "32     2.795737\n",
       "33    22.795737\n",
       "34    30.795737\n",
       "35   -21.136672\n",
       "36   -11.136672\n",
       "37    10.863328\n",
       "38   -29.069080\n",
       "39   -13.069080\n",
       "40    -9.069080\n",
       "41    -5.069080\n",
       "42     2.930920\n",
       "43    -2.933898\n",
       "44   -18.866307\n",
       "45    -6.798715\n",
       "46    15.201285\n",
       "47    16.201285\n",
       "48    43.201285\n",
       "49     4.268876\n",
       "dtype: float64"
      ]
     },
     "execution_count": 18,
     "metadata": {},
     "output_type": "execute_result"
    }
   ],
   "source": [
    "residual = ols.fit.resid\n",
    "residual"
   ]
  },
  {
   "cell_type": "markdown",
   "metadata": {},
   "source": [
    "분석결과가 내장하고 있는 독립변수 데이터 셋"
   ]
  },
  {
   "cell_type": "code",
   "execution_count": 19,
   "metadata": {},
   "outputs": [
    {
     "data": {
      "text/plain": [
       "array([[ 1.,  4.],\n",
       "       [ 1.,  4.],\n",
       "       [ 1.,  7.],\n",
       "       [ 1.,  7.],\n",
       "       [ 1.,  8.],\n",
       "       [ 1.,  9.],\n",
       "       [ 1., 10.],\n",
       "       [ 1., 10.],\n",
       "       [ 1., 10.],\n",
       "       [ 1., 11.],\n",
       "       [ 1., 11.],\n",
       "       [ 1., 12.],\n",
       "       [ 1., 12.],\n",
       "       [ 1., 12.],\n",
       "       [ 1., 12.],\n",
       "       [ 1., 13.],\n",
       "       [ 1., 13.],\n",
       "       [ 1., 13.],\n",
       "       [ 1., 13.],\n",
       "       [ 1., 14.],\n",
       "       [ 1., 14.],\n",
       "       [ 1., 14.],\n",
       "       [ 1., 14.],\n",
       "       [ 1., 15.],\n",
       "       [ 1., 15.],\n",
       "       [ 1., 15.],\n",
       "       [ 1., 16.],\n",
       "       [ 1., 16.],\n",
       "       [ 1., 17.],\n",
       "       [ 1., 17.],\n",
       "       [ 1., 17.],\n",
       "       [ 1., 18.],\n",
       "       [ 1., 18.],\n",
       "       [ 1., 18.],\n",
       "       [ 1., 18.],\n",
       "       [ 1., 19.],\n",
       "       [ 1., 19.],\n",
       "       [ 1., 19.],\n",
       "       [ 1., 20.],\n",
       "       [ 1., 20.],\n",
       "       [ 1., 20.],\n",
       "       [ 1., 20.],\n",
       "       [ 1., 20.],\n",
       "       [ 1., 22.],\n",
       "       [ 1., 23.],\n",
       "       [ 1., 24.],\n",
       "       [ 1., 24.],\n",
       "       [ 1., 24.],\n",
       "       [ 1., 24.],\n",
       "       [ 1., 25.]])"
      ]
     },
     "execution_count": 19,
     "metadata": {},
     "output_type": "execute_result"
    }
   ],
   "source": [
    "ols.fit.model.exog"
   ]
  },
  {
   "cell_type": "markdown",
   "metadata": {},
   "source": [
    "원본 데이터프레임에 병합"
   ]
  },
  {
   "cell_type": "code",
   "execution_count": 20,
   "metadata": {},
   "outputs": [
    {
     "data": {
      "text/html": [
       "<div>\n",
       "<style scoped>\n",
       "    .dataframe tbody tr th:only-of-type {\n",
       "        vertical-align: middle;\n",
       "    }\n",
       "\n",
       "    .dataframe tbody tr th {\n",
       "        vertical-align: top;\n",
       "    }\n",
       "\n",
       "    .dataframe thead th {\n",
       "        text-align: right;\n",
       "    }\n",
       "</style>\n",
       "<table border=\"1\" class=\"dataframe\">\n",
       "  <thead>\n",
       "    <tr style=\"text-align: right;\">\n",
       "      <th></th>\n",
       "      <th>speed</th>\n",
       "      <th>dist</th>\n",
       "      <th>예측값</th>\n",
       "      <th>잔차</th>\n",
       "    </tr>\n",
       "  </thead>\n",
       "  <tbody>\n",
       "    <tr>\n",
       "      <th>0</th>\n",
       "      <td>4</td>\n",
       "      <td>2</td>\n",
       "      <td>-1.849460</td>\n",
       "      <td>3.849460</td>\n",
       "    </tr>\n",
       "    <tr>\n",
       "      <th>1</th>\n",
       "      <td>4</td>\n",
       "      <td>10</td>\n",
       "      <td>-1.849460</td>\n",
       "      <td>11.849460</td>\n",
       "    </tr>\n",
       "    <tr>\n",
       "      <th>2</th>\n",
       "      <td>7</td>\n",
       "      <td>4</td>\n",
       "      <td>9.947766</td>\n",
       "      <td>-5.947766</td>\n",
       "    </tr>\n",
       "    <tr>\n",
       "      <th>3</th>\n",
       "      <td>7</td>\n",
       "      <td>22</td>\n",
       "      <td>9.947766</td>\n",
       "      <td>12.052234</td>\n",
       "    </tr>\n",
       "    <tr>\n",
       "      <th>4</th>\n",
       "      <td>8</td>\n",
       "      <td>16</td>\n",
       "      <td>13.880175</td>\n",
       "      <td>2.119825</td>\n",
       "    </tr>\n",
       "  </tbody>\n",
       "</table>\n",
       "</div>"
      ],
      "text/plain": [
       "   speed  dist        예측값         잔차\n",
       "0      4     2  -1.849460   3.849460\n",
       "1      4    10  -1.849460  11.849460\n",
       "2      7     4   9.947766  -5.947766\n",
       "3      7    22   9.947766  12.052234\n",
       "4      8    16  13.880175   2.119825"
      ]
     },
     "execution_count": 20,
     "metadata": {},
     "output_type": "execute_result"
    }
   ],
   "source": [
    "df['예측값'] = y_fitted\n",
    "df['잔차'] = residual\n",
    "df.head()"
   ]
  },
  {
   "cell_type": "markdown",
   "metadata": {},
   "source": [
    "#### 잔차의 선형성\n",
    "\n",
    "잔차 시각화\n",
    "\n",
    "잔차도에서 잔차가 어떠한 패턴을 그리지 않고 고르게 분포되있다면 단순 선형모델이 잘 알맞는 것이며 등분산성을 만족하므로 잔차가 선형성을 가진다."
   ]
  },
  {
   "cell_type": "code",
   "execution_count": 21,
   "metadata": {},
   "outputs": [
    {
     "data": {
      "image/png": "[encoded data removed]",
      "text/plain": [
       "<Figure size 1000x500 with 1 Axes>"
      ]
     },
     "metadata": {},
     "output_type": "display_data"
    }
   ],
   "source": [
    "xmin = df['예측값'].min()\n",
    "xmax = df['예측값'].max()\n",
    "xrange = [xmin, xmax]\n",
    "yrange = [0,0]\n",
    "\n",
    "plt.figure()\n",
    "sb.regplot(data= df, x = '예측값', y = '잔차', lowess = True, line_kws={'color': 'red'})\n",
    "sb.lineplot(x=xrange, y=yrange, color = 'blue', linestyle= '--')\n",
    "plt.grid()\n",
    "plt.show()\n",
    "plt.close()"
   ]
  },
  {
   "cell_type": "markdown",
   "metadata": {},
   "source": [
    "### 잔차의 정규성\n",
    "잔차가 정규분포를 따르는지를 확인\n",
    "\n",
    "시각화\n",
    "\n",
    "Q-Q plot으로 확인\n",
    "\n",
    "잔차가 정규분포를 따르면 Q-Q Plot에서 점들이 점선을 따라 배치된다.\n",
    "\n",
    "구해 놓은 예측값을 활용하여 zscore 값을 구한다.\n"
   ]
  },
  {
   "cell_type": "code",
   "execution_count": 23,
   "metadata": {},
   "outputs": [
    {
     "data": {
      "image/png": "[encoded data removed]",
      "text/plain": [
       "<Figure size 1000x500 with 1 Axes>"
      ]
     },
     "metadata": {},
     "output_type": "display_data"
    }
   ],
   "source": [
    "def plot_qq(residuals):\n",
    "    probplot(residuals, dist=\"norm\", plot=plt)\n",
    "    plt.title(\"Q-Q Plot\")\n",
    "    plt.show()\n",
    "\n",
    "plot_qq(residual)"
   ]
  },
  {
   "cell_type": "code",
   "execution_count": null,
   "metadata": {},
   "outputs": [],
   "source": []
  }
 ],
 "metadata": {
  "kernelspec": {
   "display_name": "Python 3",
   "language": "python",
   "name": "python3"
  },
  "language_info": {
   "codemirror_mode": {
    "name": "ipython",
    "version": 3
   },
   "file_extension": ".py",
   "mimetype": "text/x-python",
   "name": "python",
   "nbconvert_exporter": "python",
   "pygments_lexer": "ipython3",
   "version": "3.11.4"
  },
  "orig_nbformat": 4
 },
 "nbformat": 4,
 "nbformat_minor": 2
}
