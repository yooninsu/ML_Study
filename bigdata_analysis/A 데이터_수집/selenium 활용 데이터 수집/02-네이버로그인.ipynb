{
 "cells": [
  {
   "cell_type": "code",
   "execution_count": 21,
   "metadata": {},
   "outputs": [],
   "source": [
    "# ChromeDriver 자동 설치 모듈\n",
    "import chromedriver_autoinstaller\n",
    "# Chrome을 제어하기 위한 객체\n",
    "from selenium import webdriver\n",
    "# Chrome이 웹 페이지 로딩을 완료 할 때까지 최대 n초간 대기하는 기능.\n",
    "from selenium.webdriver.support.ui import WebDriverWait \n",
    "# 원하는 부분을 추출할 수 있는 방식을 지정하는 객체\n",
    "from selenium.webdriver.common.by import By\n",
    "from bs4 import BeautifulSoup\n",
    "from pandas import DataFrame\n",
    "# 파이썬 프로그램에 지정된 시간동안 랙을 거는 기능을 위해 사용\n",
    "import time"
   ]
  },
  {
   "cell_type": "code",
   "execution_count": 22,
   "metadata": {},
   "outputs": [],
   "source": [
    "#크롬드라이버 자동 설치\n",
    "chromedriver_autoinstaller.install()\n",
    "# 크롬드라이버를 통해 크롬을 실행시킴\n",
    "# -> driver 객체는 Chrome 자체\n",
    "driver = webdriver.Chrome()\n",
    "# 크롬브라우저가 준비될 때 까지 최대 5초씩 대기\n",
    "driver.implicitly_wait(5)"
   ]
  },
  {
   "cell_type": "code",
   "execution_count": 23,
   "metadata": {},
   "outputs": [],
   "source": [
    "driver.get(\"https://nid.naver.com/nidlogin.login?mode=form&url=https://www.naver.com/\")\n",
    "time.sleep(1)"
   ]
  },
  {
   "cell_type": "code",
   "execution_count": 24,
   "metadata": {},
   "outputs": [],
   "source": [
    "id_input = WebDriverWait(driver,3).until(lambda x: x.find_element(By.CSS_SELECTOR,'#id'))\n",
    "id_input.send_keys('yis8248')"
   ]
  },
  {
   "cell_type": "code",
   "execution_count": 25,
   "metadata": {},
   "outputs": [],
   "source": [
    "pw_input = WebDriverWait(driver,3).until(lambda x: x.find_element(By.CSS_SELECTOR,'#pw'))\n",
    "pw_input.send_keys('alchemist6659')"
   ]
  },
  {
   "cell_type": "code",
   "execution_count": 26,
   "metadata": {},
   "outputs": [],
   "source": [
    "login_button = WebDriverWait(driver,3).until(lambda x: x.find_element(By.CSS_SELECTOR,'.btn_login'  ))\n",
    "login_button.click()\n",
    "time.sleep(3)\n",
    "  "
   ]
  },
  {
   "cell_type": "code",
   "execution_count": 27,
   "metadata": {},
   "outputs": [],
   "source": [
    "driver.get('https://order.pay.naver.com/home')\n",
    "time.sleep(1)"
   ]
  }
 ],
 "metadata": {
  "kernelspec": {
   "display_name": "Python 3",
   "language": "python",
   "name": "python3"
  },
  "language_info": {
   "codemirror_mode": {
    "name": "ipython",
    "version": 3
   },
   "file_extension": ".py",
   "mimetype": "text/x-python",
   "name": "python",
   "nbconvert_exporter": "python",
   "pygments_lexer": "ipython3",
   "version": "3.11.4"
  },
  "orig_nbformat": 4
 },
 "nbformat": 4,
 "nbformat_minor": 2
}
