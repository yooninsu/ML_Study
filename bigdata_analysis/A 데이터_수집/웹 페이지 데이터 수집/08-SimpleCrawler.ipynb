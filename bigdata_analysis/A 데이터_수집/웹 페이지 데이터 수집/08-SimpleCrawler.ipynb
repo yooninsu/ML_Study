{
 "cells": [
  {
   "cell_type": "code",
   "execution_count": 45,
   "metadata": {},
   "outputs": [],
   "source": [
    "import requests\n",
    "from bs4 import BeautifulSoup\n",
    "from selenium import webdriver"
   ]
  },
  {
   "cell_type": "code",
   "execution_count": 14,
   "metadata": {},
   "outputs": [],
   "source": [
    "userAgent =\"Mozilla/5.0 (Linux; Android 6.0; Nexus 5 Build/MRA58N) AppleWebKit/537.36 (KHTML, like Gecko) Chrome/114.0.0.0 Mobile Safari/537.36\"\n"
   ]
  },
  {
   "cell_type": "code",
   "execution_count": 31,
   "metadata": {},
   "outputs": [],
   "source": [
    "# 접속객체 생성\n",
    "session = requests.Session()\n",
    "\n",
    "# 접속객체 부가정보(header) 삽입하기\n",
    "session.headers.update({\n",
    "    \"Referer\" : \"\",\n",
    "    \"User-Agent\" : userAgent\n",
    "})"
   ]
  },
  {
   "cell_type": "code",
   "execution_count": 128,
   "metadata": {},
   "outputs": [],
   "source": [
    "url = \"https://data.hossam.kr/sample.html\""
   ]
  },
  {
   "cell_type": "code",
   "execution_count": 129,
   "metadata": {},
   "outputs": [],
   "source": [
    "# 생성한 접속객체를 활용하여 API에 접속\n",
    "r = session.get(url)\n",
    "\n",
    "# 접속에 실패한 경우\n",
    "if r.status_code != 200:\n",
    "    # 에러코드와 에러메시지 출력\n",
    "    msg = \"[%d Error] %s 에러가 발생함\" % (r.status_code, r.reason)\n",
    "    # 에러를 강제로 생성시킴\n",
    "    raise Exception(msg)"
   ]
  },
  {
   "cell_type": "code",
   "execution_count": 130,
   "metadata": {},
   "outputs": [
    {
     "data": {
      "text/plain": [
       "<!DOCTYPE html>\n",
       "\n",
       "<html lang=\"en\">\n",
       "<head>\n",
       "<meta charset=\"utf-8\"/>\n",
       "<meta content=\"width=device-width, initial-scale=1.0\" name=\"viewport\"/>\n",
       "<title>Document</title>\n",
       "<style>\n",
       "        /* HTML 태그 방식 */\n",
       "        h1 { color: #f0f; }\n",
       "        h2 { color: #06f; }\n",
       "\n",
       "        /** Class 방식 */\n",
       "        .myclass { color: #f00; }\n",
       "\n",
       "        /** id 방식 */\n",
       "        #myid { color: #f60; }\n",
       "\n",
       "        /** 자식 선택자  */\n",
       "        .syllabus > li > ol > li {\n",
       "            text-decoration: underline;\n",
       "        }\n",
       "\n",
       "        /** 자손 선택자 */\n",
       "        .syllabus ol {\n",
       "            font-weight: bold;\n",
       "        }\n",
       "\n",
       "        .part1 {\n",
       "            background-color: #eeeeee;\n",
       "        }\n",
       "\n",
       "        .part2 {\n",
       "            background-color: #d5d5d5;\n",
       "        }\n",
       "\n",
       "        /** 특정 대상을 구체적으로 명시  */\n",
       "        div.sub.part1 {\n",
       "            border: 1px dotted #000;\n",
       "        }\n",
       "\n",
       "        div.sub.part2#hello {\n",
       "            border: 1px solid #555;\n",
       "        }\n",
       "\n",
       "        /** 특정 속성을 갖고 있는 요소  */\n",
       "        a[href] {\n",
       "            font-size: 20px;\n",
       "        }\n",
       "\n",
       "        /** 특정 속성 값에 대한 적용  */\n",
       "        a[href='#'] {\n",
       "            color: green;\n",
       "        }\n",
       "    </style>\n",
       "</head>\n",
       "<body>\n",
       "<h1>Hello World</h1>\n",
       "<a>link0</a>\n",
       "<a href=\"#\">link1</a>\n",
       "<a href=\"https://www.naver.com\">link2</a>\n",
       "<h2 id=\"myid\">Python</h2>\n",
       "<div class=\"sub part1\">\n",
       "<ul class=\"syllabus\">\n",
       "<li>변수와 데이터 타입</li>\n",
       "<li class=\"myclass\">연산자</li>\n",
       "<li>\n",
       "                연속성 자료형\n",
       "                <ol>\n",
       "<li>리스트(list)</li>\n",
       "<li>딕셔너리(dict)</li>\n",
       "<li>집합(set)</li>\n",
       "</ol>\n",
       "</li>\n",
       "<li>프로그램 흐름제어</li>\n",
       "<li>함수</li>\n",
       "</ul>\n",
       "</div>\n",
       "<h2>Data Analysis</h2>\n",
       "<div class=\"sub part2\" id=\"hello\">\n",
       "<ul>\n",
       "<li>데이터 수집</li>\n",
       "<li class=\"myclass\">데이터 전처리</li>\n",
       "<li>\n",
       "                탐색적 데이터 분석\n",
       "                <ol class=\"myclass\">\n",
       "<li>기초통계</li>\n",
       "<li>데이터 시각화</li>\n",
       "</ol>\n",
       "</li>\n",
       "<li>확증적 데이터 분석</li>\n",
       "<li>데이터 마이닝</li>\n",
       "</ul>\n",
       "</div>\n",
       "</body>\n",
       "</html>"
      ]
     },
     "execution_count": 130,
     "metadata": {},
     "output_type": "execute_result"
    }
   ],
   "source": [
    "# 인코딩 형식 지정하여 beautifulsoup 객체를 생성\n",
    "r.encoding = 'utf-8'\n",
    "#print(r.text)\n",
    "soup = BeautifulSoup(r.text)\n",
    "soup"
   ]
  },
  {
   "cell_type": "code",
   "execution_count": 131,
   "metadata": {},
   "outputs": [
    {
     "data": {
      "text/plain": [
       "[<li>변수와 데이터 타입</li>,\n",
       " <li class=\"myclass\">연산자</li>,\n",
       " <li>\n",
       "                 연속성 자료형\n",
       "                 <ol>\n",
       " <li>리스트(list)</li>\n",
       " <li>딕셔너리(dict)</li>\n",
       " <li>집합(set)</li>\n",
       " </ol>\n",
       " </li>,\n",
       " <li>리스트(list)</li>,\n",
       " <li>딕셔너리(dict)</li>,\n",
       " <li>집합(set)</li>,\n",
       " <li>프로그램 흐름제어</li>,\n",
       " <li>함수</li>,\n",
       " <li>데이터 수집</li>,\n",
       " <li class=\"myclass\">데이터 전처리</li>,\n",
       " <li>\n",
       "                 탐색적 데이터 분석\n",
       "                 <ol class=\"myclass\">\n",
       " <li>기초통계</li>\n",
       " <li>데이터 시각화</li>\n",
       " </ol>\n",
       " </li>,\n",
       " <li>기초통계</li>,\n",
       " <li>데이터 시각화</li>,\n",
       " <li>확증적 데이터 분석</li>,\n",
       " <li>데이터 마이닝</li>]"
      ]
     },
     "execution_count": 131,
     "metadata": {},
     "output_type": "execute_result"
    }
   ],
   "source": [
    "test1 = soup.select('li')\n",
    "test1"
   ]
  },
  {
   "cell_type": "code",
   "execution_count": 132,
   "metadata": {},
   "outputs": [
    {
     "data": {
      "text/plain": [
       "<li>기초통계</li>"
      ]
     },
     "execution_count": 132,
     "metadata": {},
     "output_type": "execute_result"
    }
   ],
   "source": [
    "h1 = test1[11]\n",
    "h1"
   ]
  },
  {
   "cell_type": "code",
   "execution_count": 133,
   "metadata": {},
   "outputs": [
    {
     "data": {
      "text/plain": [
       "'기초통계'"
      ]
     },
     "execution_count": 133,
     "metadata": {},
     "output_type": "execute_result"
    }
   ],
   "source": [
    "result1 = h1.text.strip()\n",
    "result1"
   ]
  },
  {
   "cell_type": "code",
   "execution_count": 136,
   "metadata": {},
   "outputs": [
    {
     "data": {
      "text/plain": [
       "[<li>변수와 데이터 타입</li>,\n",
       " <li class=\"myclass\">연산자</li>,\n",
       " <li>\n",
       "                 연속성 자료형\n",
       "                 <ol>\n",
       " <li>리스트(list)</li>\n",
       " <li>딕셔너리(dict)</li>\n",
       " <li>집합(set)</li>\n",
       " </ol>\n",
       " </li>,\n",
       " <li>리스트(list)</li>,\n",
       " <li>딕셔너리(dict)</li>,\n",
       " <li>집합(set)</li>,\n",
       " <li>프로그램 흐름제어</li>,\n",
       " <li>함수</li>,\n",
       " <li>데이터 수집</li>,\n",
       " <li class=\"myclass\">데이터 전처리</li>,\n",
       " <li>\n",
       "                 탐색적 데이터 분석\n",
       "                 <ol class=\"myclass\">\n",
       " <li>기초통계</li>\n",
       " <li>데이터 시각화</li>\n",
       " </ol>\n",
       " </li>,\n",
       " <li>기초통계</li>,\n",
       " <li>데이터 시각화</li>,\n",
       " <li>확증적 데이터 분석</li>,\n",
       " <li>데이터 마이닝</li>]"
      ]
     },
     "execution_count": 136,
     "metadata": {},
     "output_type": "execute_result"
    }
   ],
   "source": [
    "test2 = soup.select(\"li\")\n",
    "test2\n"
   ]
  },
  {
   "cell_type": "code",
   "execution_count": 137,
   "metadata": {},
   "outputs": [
    {
     "name": "stdout",
     "output_type": "stream",
     "text": [
      "0번쨰 요소: 변수와 데이터 타입\n",
      "1번쨰 요소: 연산자\n",
      "2번쨰 요소: 연속성 자료형\n",
      "                \n",
      "리스트(list)\n",
      "딕셔너리(dict)\n",
      "집합(set)\n",
      "3번쨰 요소: 리스트(list)\n",
      "4번쨰 요소: 딕셔너리(dict)\n",
      "5번쨰 요소: 집합(set)\n",
      "6번쨰 요소: 프로그램 흐름제어\n",
      "7번쨰 요소: 함수\n",
      "8번쨰 요소: 데이터 수집\n",
      "9번쨰 요소: 데이터 전처리\n",
      "10번쨰 요소: 탐색적 데이터 분석\n",
      "                \n",
      "기초통계\n",
      "데이터 시각화\n",
      "11번쨰 요소: 기초통계\n",
      "12번쨰 요소: 데이터 시각화\n",
      "13번쨰 요소: 확증적 데이터 분석\n",
      "14번쨰 요소: 데이터 마이닝\n"
     ]
    }
   ],
   "source": [
    "for i,v in enumerate(test2):\n",
    "    print(\"%d번쨰 요소: %s\" %(i,v.text.strip()))"
   ]
  },
  {
   "cell_type": "code",
   "execution_count": 138,
   "metadata": {},
   "outputs": [
    {
     "data": {
      "text/plain": [
       "[<li class=\"myclass\">연산자</li>,\n",
       " <li class=\"myclass\">데이터 전처리</li>,\n",
       " <ol class=\"myclass\">\n",
       " <li>기초통계</li>\n",
       " <li>데이터 시각화</li>\n",
       " </ol>]"
      ]
     },
     "execution_count": 138,
     "metadata": {},
     "output_type": "execute_result"
    }
   ],
   "source": [
    "# id에 의한 추출\n",
    "test3 = soup.select('.myclass')\n",
    "test3"
   ]
  },
  {
   "cell_type": "code",
   "execution_count": null,
   "metadata": {},
   "outputs": [],
   "source": []
  }
 ],
 "metadata": {
  "kernelspec": {
   "display_name": "Python 3",
   "language": "python",
   "name": "python3"
  },
  "language_info": {
   "codemirror_mode": {
    "name": "ipython",
    "version": 3
   },
   "file_extension": ".py",
   "mimetype": "text/x-python",
   "name": "python",
   "nbconvert_exporter": "python",
   "pygments_lexer": "ipython3",
   "version": "3.11.4"
  },
  "orig_nbformat": 4
 },
 "nbformat": 4,
 "nbformat_minor": 2
}
