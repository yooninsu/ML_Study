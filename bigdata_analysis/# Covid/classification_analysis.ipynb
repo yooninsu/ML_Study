{
 "cells": [
  {
   "cell_type": "code",
   "execution_count": 122,
   "metadata": {},
   "outputs": [],
   "source": [
    "import numpy as np\n",
    "from pandas import read_excel, DataFrame, get_dummies\n",
    "from matplotlib import pyplot as plt\n",
    "import seaborn as sb\n",
    "\n",
    "from sklearn.model_selection import train_test_split\n",
    "from sklearn.preprocessing import StandardScaler\n",
    "\n",
    "from tensorflow.keras.models import Sequential\n",
    "from tensorflow.keras.layers import Dense\n",
    "from tensorflow.keras.callbacks import EarlyStopping\n",
    "from tensorflow.keras.callbacks import ReduceLROnPlateau"
   ]
  },
  {
   "cell_type": "code",
   "execution_count": 123,
   "metadata": {},
   "outputs": [
    {
     "name": "stdout",
     "output_type": "stream",
     "text": [
      "<class 'pandas.core.frame.DataFrame'>\n",
      "RangeIndex: 1009 entries, 0 to 1008\n",
      "Data columns (total 10 columns):\n",
      " #   Column       Non-Null Count  Dtype  \n",
      "---  ------       --------------  -----  \n",
      " 0   상권_코드        1009 non-null   int64  \n",
      " 1   상권_코드_명      1009 non-null   object \n",
      " 2   점포수_x        1009 non-null   float64\n",
      " 3   도심_x         1009 non-null   int64  \n",
      " 4   총_직장_인구_수_x  1009 non-null   float64\n",
      " 5   총_생활인구_수_x   1009 non-null   float64\n",
      " 6   점포수_y        1009 non-null   float64\n",
      " 7   총_직장_인구_수_y  1009 non-null   int64  \n",
      " 8   총_생활인구_수_y   1009 non-null   float64\n",
      " 9   매출증감         1009 non-null   int64  \n",
      "dtypes: float64(5), int64(4), object(1)\n",
      "memory usage: 79.0+ KB\n"
     ]
    }
   ],
   "source": [
    "origin = read_excel(\"tdf.xlsx\")\n",
    "origin.info()"
   ]
  },
  {
   "cell_type": "markdown",
   "metadata": {},
   "source": [
    "### 03. 데이터 전처리\n",
    "#### 결측치 확인"
   ]
  },
  {
   "cell_type": "code",
   "execution_count": 124,
   "metadata": {},
   "outputs": [
    {
     "data": {
      "text/plain": [
       "상권_코드          0\n",
       "상권_코드_명        0\n",
       "점포수_x          0\n",
       "도심_x           0\n",
       "총_직장_인구_수_x    0\n",
       "총_생활인구_수_x     0\n",
       "점포수_y          0\n",
       "총_직장_인구_수_y    0\n",
       "총_생활인구_수_y     0\n",
       "매출증감           0\n",
       "dtype: int64"
      ]
     },
     "execution_count": 124,
     "metadata": {},
     "output_type": "execute_result"
    }
   ],
   "source": [
    "origin.isna().sum()\n"
   ]
  },
  {
   "cell_type": "markdown",
   "metadata": {},
   "source": [
    "### 05. 데이터셋 분할하기\n",
    "#### 랜덤시드 고정"
   ]
  },
  {
   "cell_type": "code",
   "execution_count": 125,
   "metadata": {},
   "outputs": [],
   "source": [
    "np.random.seed(666)"
   ]
  },
  {
   "cell_type": "markdown",
   "metadata": {},
   "source": [
    "#### 훈련 데이터(독립변수)와 레이블(종속변수) 구분하기\n"
   ]
  },
  {
   "cell_type": "code",
   "execution_count": 126,
   "metadata": {},
   "outputs": [
    {
     "data": {
      "text/html": [
       "<div>\n",
       "<style scoped>\n",
       "    .dataframe tbody tr th:only-of-type {\n",
       "        vertical-align: middle;\n",
       "    }\n",
       "\n",
       "    .dataframe tbody tr th {\n",
       "        vertical-align: top;\n",
       "    }\n",
       "\n",
       "    .dataframe thead th {\n",
       "        text-align: right;\n",
       "    }\n",
       "</style>\n",
       "<table border=\"1\" class=\"dataframe\">\n",
       "  <thead>\n",
       "    <tr style=\"text-align: right;\">\n",
       "      <th></th>\n",
       "      <th>점포수_x</th>\n",
       "      <th>도심_x</th>\n",
       "      <th>총_직장_인구_수_x</th>\n",
       "      <th>총_생활인구_수_x</th>\n",
       "      <th>점포수_y</th>\n",
       "      <th>총_직장_인구_수_y</th>\n",
       "      <th>총_생활인구_수_y</th>\n",
       "    </tr>\n",
       "  </thead>\n",
       "  <tbody>\n",
       "    <tr>\n",
       "      <th>0</th>\n",
       "      <td>6.825688</td>\n",
       "      <td>1</td>\n",
       "      <td>21133.770642</td>\n",
       "      <td>1.063927e+06</td>\n",
       "      <td>6.564356</td>\n",
       "      <td>13700</td>\n",
       "      <td>1.108208e+06</td>\n",
       "    </tr>\n",
       "    <tr>\n",
       "      <th>1</th>\n",
       "      <td>4.519231</td>\n",
       "      <td>1</td>\n",
       "      <td>10343.230769</td>\n",
       "      <td>3.304633e+06</td>\n",
       "      <td>4.493333</td>\n",
       "      <td>11773</td>\n",
       "      <td>3.704169e+06</td>\n",
       "    </tr>\n",
       "    <tr>\n",
       "      <th>2</th>\n",
       "      <td>7.094340</td>\n",
       "      <td>1</td>\n",
       "      <td>43510.654088</td>\n",
       "      <td>2.169122e+06</td>\n",
       "      <td>7.382550</td>\n",
       "      <td>39506</td>\n",
       "      <td>1.775981e+06</td>\n",
       "    </tr>\n",
       "    <tr>\n",
       "      <th>3</th>\n",
       "      <td>4.418182</td>\n",
       "      <td>1</td>\n",
       "      <td>8267.454545</td>\n",
       "      <td>2.516156e+06</td>\n",
       "      <td>4.390000</td>\n",
       "      <td>1696</td>\n",
       "      <td>3.109088e+06</td>\n",
       "    </tr>\n",
       "    <tr>\n",
       "      <th>4</th>\n",
       "      <td>3.263158</td>\n",
       "      <td>1</td>\n",
       "      <td>2711.131579</td>\n",
       "      <td>3.022949e+05</td>\n",
       "      <td>3.417910</td>\n",
       "      <td>4252</td>\n",
       "      <td>4.745286e+05</td>\n",
       "    </tr>\n",
       "  </tbody>\n",
       "</table>\n",
       "</div>"
      ],
      "text/plain": [
       "      점포수_x  도심_x   총_직장_인구_수_x    총_생활인구_수_x     점포수_y  총_직장_인구_수_y  \\\n",
       "0  6.825688     1  21133.770642  1.063927e+06  6.564356        13700   \n",
       "1  4.519231     1  10343.230769  3.304633e+06  4.493333        11773   \n",
       "2  7.094340     1  43510.654088  2.169122e+06  7.382550        39506   \n",
       "3  4.418182     1   8267.454545  2.516156e+06  4.390000         1696   \n",
       "4  3.263158     1   2711.131579  3.022949e+05  3.417910         4252   \n",
       "\n",
       "     총_생활인구_수_y  \n",
       "0  1.108208e+06  \n",
       "1  3.704169e+06  \n",
       "2  1.775981e+06  \n",
       "3  3.109088e+06  \n",
       "4  4.745286e+05  "
      ]
     },
     "execution_count": 126,
     "metadata": {},
     "output_type": "execute_result"
    }
   ],
   "source": [
    "x= origin.drop(['상권_코드', '상권_코드_명', '매출증감'], axis=1)\n",
    "x.head()"
   ]
  },
  {
   "cell_type": "code",
   "execution_count": 127,
   "metadata": {},
   "outputs": [
    {
     "data": {
      "text/html": [
       "<div>\n",
       "<style scoped>\n",
       "    .dataframe tbody tr th:only-of-type {\n",
       "        vertical-align: middle;\n",
       "    }\n",
       "\n",
       "    .dataframe tbody tr th {\n",
       "        vertical-align: top;\n",
       "    }\n",
       "\n",
       "    .dataframe thead th {\n",
       "        text-align: right;\n",
       "    }\n",
       "</style>\n",
       "<table border=\"1\" class=\"dataframe\">\n",
       "  <thead>\n",
       "    <tr style=\"text-align: right;\">\n",
       "      <th></th>\n",
       "      <th>매출증감</th>\n",
       "    </tr>\n",
       "  </thead>\n",
       "  <tbody>\n",
       "    <tr>\n",
       "      <th>0</th>\n",
       "      <td>0</td>\n",
       "    </tr>\n",
       "    <tr>\n",
       "      <th>1</th>\n",
       "      <td>0</td>\n",
       "    </tr>\n",
       "    <tr>\n",
       "      <th>2</th>\n",
       "      <td>0</td>\n",
       "    </tr>\n",
       "    <tr>\n",
       "      <th>3</th>\n",
       "      <td>0</td>\n",
       "    </tr>\n",
       "    <tr>\n",
       "      <th>4</th>\n",
       "      <td>0</td>\n",
       "    </tr>\n",
       "  </tbody>\n",
       "</table>\n",
       "</div>"
      ],
      "text/plain": [
       "   매출증감\n",
       "0     0\n",
       "1     0\n",
       "2     0\n",
       "3     0\n",
       "4     0"
      ]
     },
     "execution_count": 127,
     "metadata": {},
     "output_type": "execute_result"
    }
   ],
   "source": [
    "y = origin[['매출증감']]\n",
    "y.head()"
   ]
  },
  {
   "cell_type": "markdown",
   "metadata": {},
   "source": [
    "#### 데이터 표준화\n",
    "명목형을 제거한 임시 데이터프레임을 생성"
   ]
  },
  {
   "cell_type": "code",
   "execution_count": 128,
   "metadata": {},
   "outputs": [],
   "source": [
    "numeric_df = x.drop('도심_x', axis=1)\n"
   ]
  },
  {
   "cell_type": "markdown",
   "metadata": {},
   "source": [
    "#### 임시 데이터프레임을 활용하여 표준화\n"
   ]
  },
  {
   "cell_type": "code",
   "execution_count": 129,
   "metadata": {},
   "outputs": [
    {
     "data": {
      "text/html": [
       "<div>\n",
       "<style scoped>\n",
       "    .dataframe tbody tr th:only-of-type {\n",
       "        vertical-align: middle;\n",
       "    }\n",
       "\n",
       "    .dataframe tbody tr th {\n",
       "        vertical-align: top;\n",
       "    }\n",
       "\n",
       "    .dataframe thead th {\n",
       "        text-align: right;\n",
       "    }\n",
       "</style>\n",
       "<table border=\"1\" class=\"dataframe\">\n",
       "  <thead>\n",
       "    <tr style=\"text-align: right;\">\n",
       "      <th></th>\n",
       "      <th>점포수_x</th>\n",
       "      <th>총_직장_인구_수_x</th>\n",
       "      <th>총_생활인구_수_x</th>\n",
       "      <th>점포수_y</th>\n",
       "      <th>총_직장_인구_수_y</th>\n",
       "      <th>총_생활인구_수_y</th>\n",
       "    </tr>\n",
       "  </thead>\n",
       "  <tbody>\n",
       "    <tr>\n",
       "      <th>0</th>\n",
       "      <td>1.466482</td>\n",
       "      <td>1.423805</td>\n",
       "      <td>-1.635368</td>\n",
       "      <td>1.082146</td>\n",
       "      <td>0.790915</td>\n",
       "      <td>-1.809769</td>\n",
       "    </tr>\n",
       "    <tr>\n",
       "      <th>1</th>\n",
       "      <td>0.114631</td>\n",
       "      <td>0.317615</td>\n",
       "      <td>-0.133935</td>\n",
       "      <td>-0.064296</td>\n",
       "      <td>0.578999</td>\n",
       "      <td>-0.461570</td>\n",
       "    </tr>\n",
       "    <tr>\n",
       "      <th>2</th>\n",
       "      <td>1.623943</td>\n",
       "      <td>3.717765</td>\n",
       "      <td>-0.894809</td>\n",
       "      <td>1.535069</td>\n",
       "      <td>3.628849</td>\n",
       "      <td>-1.462965</td>\n",
       "    </tr>\n",
       "    <tr>\n",
       "      <th>3</th>\n",
       "      <td>0.055405</td>\n",
       "      <td>0.104818</td>\n",
       "      <td>-0.662271</td>\n",
       "      <td>-0.121498</td>\n",
       "      <td>-0.529187</td>\n",
       "      <td>-0.770622</td>\n",
       "    </tr>\n",
       "    <tr>\n",
       "      <th>4</th>\n",
       "      <td>-0.621573</td>\n",
       "      <td>-0.464787</td>\n",
       "      <td>-2.145716</td>\n",
       "      <td>-0.659611</td>\n",
       "      <td>-0.248099</td>\n",
       "      <td>-2.138868</td>\n",
       "    </tr>\n",
       "    <tr>\n",
       "      <th>...</th>\n",
       "      <td>...</td>\n",
       "      <td>...</td>\n",
       "      <td>...</td>\n",
       "      <td>...</td>\n",
       "      <td>...</td>\n",
       "      <td>...</td>\n",
       "    </tr>\n",
       "    <tr>\n",
       "      <th>1004</th>\n",
       "      <td>-0.571948</td>\n",
       "      <td>-0.537758</td>\n",
       "      <td>0.334939</td>\n",
       "      <td>-0.556788</td>\n",
       "      <td>-0.482339</td>\n",
       "      <td>0.614503</td>\n",
       "    </tr>\n",
       "    <tr>\n",
       "      <th>1005</th>\n",
       "      <td>-0.179106</td>\n",
       "      <td>-0.300550</td>\n",
       "      <td>-1.856283</td>\n",
       "      <td>-0.164806</td>\n",
       "      <td>-0.609466</td>\n",
       "      <td>-1.672894</td>\n",
       "    </tr>\n",
       "    <tr>\n",
       "      <th>1006</th>\n",
       "      <td>0.593050</td>\n",
       "      <td>-0.272964</td>\n",
       "      <td>1.660022</td>\n",
       "      <td>0.648123</td>\n",
       "      <td>-0.440440</td>\n",
       "      <td>1.360518</td>\n",
       "    </tr>\n",
       "    <tr>\n",
       "      <th>1007</th>\n",
       "      <td>0.262246</td>\n",
       "      <td>-0.185773</td>\n",
       "      <td>2.216647</td>\n",
       "      <td>0.022808</td>\n",
       "      <td>-0.048830</td>\n",
       "      <td>2.162846</td>\n",
       "    </tr>\n",
       "    <tr>\n",
       "      <th>1008</th>\n",
       "      <td>-0.615105</td>\n",
       "      <td>-0.408288</td>\n",
       "      <td>2.374567</td>\n",
       "      <td>-0.323886</td>\n",
       "      <td>-0.413497</td>\n",
       "      <td>2.603360</td>\n",
       "    </tr>\n",
       "  </tbody>\n",
       "</table>\n",
       "<p>1009 rows × 6 columns</p>\n",
       "</div>"
      ],
      "text/plain": [
       "         점포수_x  총_직장_인구_수_x  총_생활인구_수_x     점포수_y  총_직장_인구_수_y  총_생활인구_수_y\n",
       "0     1.466482     1.423805   -1.635368  1.082146     0.790915   -1.809769\n",
       "1     0.114631     0.317615   -0.133935 -0.064296     0.578999   -0.461570\n",
       "2     1.623943     3.717765   -0.894809  1.535069     3.628849   -1.462965\n",
       "3     0.055405     0.104818   -0.662271 -0.121498    -0.529187   -0.770622\n",
       "4    -0.621573    -0.464787   -2.145716 -0.659611    -0.248099   -2.138868\n",
       "...        ...          ...         ...       ...          ...         ...\n",
       "1004 -0.571948    -0.537758    0.334939 -0.556788    -0.482339    0.614503\n",
       "1005 -0.179106    -0.300550   -1.856283 -0.164806    -0.609466   -1.672894\n",
       "1006  0.593050    -0.272964    1.660022  0.648123    -0.440440    1.360518\n",
       "1007  0.262246    -0.185773    2.216647  0.022808    -0.048830    2.162846\n",
       "1008 -0.615105    -0.408288    2.374567 -0.323886    -0.413497    2.603360\n",
       "\n",
       "[1009 rows x 6 columns]"
      ]
     },
     "execution_count": 129,
     "metadata": {},
     "output_type": "execute_result"
    }
   ],
   "source": [
    "x_scaler = StandardScaler()\n",
    "x_scale = x_scaler.fit_transform(numeric_df)\n",
    "x_scale_df = DataFrame(x_scale, columns=numeric_df.columns)\n",
    "x_scale_df"
   ]
  },
  {
   "cell_type": "code",
   "execution_count": 132,
   "metadata": {},
   "outputs": [
    {
     "data": {
      "text/plain": [
       "array([[ 1.46648186,  1.42380471, -1.6353683 ,  1.08214648,  0.79091511,\n",
       "        -1.80976947],\n",
       "       [ 0.11463098,  0.31761541, -0.13393546, -0.06429615,  0.57899937,\n",
       "        -0.46157   ],\n",
       "       [ 1.62394275,  3.71776493, -0.89480891,  1.53506869,  3.62884855,\n",
       "        -1.46296491],\n",
       "       ...,\n",
       "       [ 0.59304975, -0.27296388,  1.66002163,  0.6481232 , -0.44043964,\n",
       "         1.36051849],\n",
       "       [ 0.26224631, -0.18577288,  2.21664656,  0.02280794, -0.0488299 ,\n",
       "         2.16284638],\n",
       "       [-0.61510491, -0.40828779,  2.37456746, -0.32388589, -0.41349654,\n",
       "         2.60336023]])"
      ]
     },
     "execution_count": 132,
     "metadata": {},
     "output_type": "execute_result"
    }
   ],
   "source": [
    "x_scale"
   ]
  },
  {
   "cell_type": "code",
   "execution_count": 133,
   "metadata": {},
   "outputs": [
    {
     "ename": "ValueError",
     "evalue": "all the input array dimensions except for the concatenation axis must match exactly, but along dimension 0, the array at index 0 has size 973 and the array at index 1 has size 899",
     "output_type": "error",
     "traceback": [
      "\u001b[1;31m---------------------------------------------------------------------------\u001b[0m",
      "\u001b[1;31mValueError\u001b[0m                                Traceback (most recent call last)",
      "Cell \u001b[1;32mIn[133], line 17\u001b[0m\n\u001b[0;32m     14\u001b[0m     \u001b[39mreturn\u001b[39;00m np\u001b[39m.\u001b[39mcolumn_stack(cleaned_data)\n\u001b[0;32m     16\u001b[0m data \u001b[39m=\u001b[39m x_scale\n\u001b[1;32m---> 17\u001b[0m x_scale\u001b[39m=\u001b[39m remove_outliers_iqr(data)\n",
      "Cell \u001b[1;32mIn[133], line 14\u001b[0m, in \u001b[0;36mremove_outliers_iqr\u001b[1;34m(data)\u001b[0m\n\u001b[0;32m     12\u001b[0m     cleaned_column \u001b[39m=\u001b[39m [x \u001b[39mfor\u001b[39;00m x \u001b[39min\u001b[39;00m column_data \u001b[39mif\u001b[39;00m lower_bound \u001b[39m<\u001b[39m\u001b[39m=\u001b[39m x \u001b[39m<\u001b[39m\u001b[39m=\u001b[39m upper_bound]\n\u001b[0;32m     13\u001b[0m     cleaned_data\u001b[39m.\u001b[39mappend(cleaned_column)\n\u001b[1;32m---> 14\u001b[0m \u001b[39mreturn\u001b[39;00m np\u001b[39m.\u001b[39;49mcolumn_stack(cleaned_data)\n",
      "File \u001b[1;32m<__array_function__ internals>:200\u001b[0m, in \u001b[0;36mcolumn_stack\u001b[1;34m(*args, **kwargs)\u001b[0m\n",
      "File \u001b[1;32mc:\\Users\\yis82\\AppData\\Local\\Programs\\Python\\Python39\\lib\\site-packages\\numpy\\lib\\shape_base.py:656\u001b[0m, in \u001b[0;36mcolumn_stack\u001b[1;34m(tup)\u001b[0m\n\u001b[0;32m    654\u001b[0m         arr \u001b[39m=\u001b[39m array(arr, copy\u001b[39m=\u001b[39m\u001b[39mFalse\u001b[39;00m, subok\u001b[39m=\u001b[39m\u001b[39mTrue\u001b[39;00m, ndmin\u001b[39m=\u001b[39m\u001b[39m2\u001b[39m)\u001b[39m.\u001b[39mT\n\u001b[0;32m    655\u001b[0m     arrays\u001b[39m.\u001b[39mappend(arr)\n\u001b[1;32m--> 656\u001b[0m \u001b[39mreturn\u001b[39;00m _nx\u001b[39m.\u001b[39;49mconcatenate(arrays, \u001b[39m1\u001b[39;49m)\n",
      "File \u001b[1;32m<__array_function__ internals>:200\u001b[0m, in \u001b[0;36mconcatenate\u001b[1;34m(*args, **kwargs)\u001b[0m\n",
      "\u001b[1;31mValueError\u001b[0m: all the input array dimensions except for the concatenation axis must match exactly, but along dimension 0, the array at index 0 has size 973 and the array at index 1 has size 899"
     ]
    }
   ],
   "source": [
    "import numpy as np\n",
    "\n",
    "def remove_outliers_iqr(data):\n",
    "    cleaned_data = []\n",
    "    for col in range(data.shape[1]):  # Assuming data is a 2D array or DataFrame\n",
    "        column_data = data[:, col]\n",
    "        Q1 = np.percentile(column_data, 25)\n",
    "        Q3 = np.percentile(column_data, 75)\n",
    "        IQR = Q3 - Q1\n",
    "        lower_bound = Q1 - 1.5 * IQR\n",
    "        upper_bound = Q3 + 1.5 * IQR\n",
    "        cleaned_column = [x for x in column_data if lower_bound <= x <= upper_bound]\n",
    "        cleaned_data.append(cleaned_column)\n",
    "    return np.column_stack(cleaned_data)\n",
    "\n",
    "data = x_scale\n",
    "x_scale= remove_outliers_iqr(data)"
   ]
  },
  {
   "cell_type": "markdown",
   "metadata": {},
   "source": [
    "#### 표준화 결과에 명목형 변수를 결합\n"
   ]
  },
  {
   "cell_type": "code",
   "execution_count": null,
   "metadata": {},
   "outputs": [
    {
     "data": {
      "text/html": [
       "<div>\n",
       "<style scoped>\n",
       "    .dataframe tbody tr th:only-of-type {\n",
       "        vertical-align: middle;\n",
       "    }\n",
       "\n",
       "    .dataframe tbody tr th {\n",
       "        vertical-align: top;\n",
       "    }\n",
       "\n",
       "    .dataframe thead th {\n",
       "        text-align: right;\n",
       "    }\n",
       "</style>\n",
       "<table border=\"1\" class=\"dataframe\">\n",
       "  <thead>\n",
       "    <tr style=\"text-align: right;\">\n",
       "      <th></th>\n",
       "      <th>점포수_x</th>\n",
       "      <th>총_직장_인구_수_x</th>\n",
       "      <th>총_생활인구_수_x</th>\n",
       "      <th>점포수_y</th>\n",
       "      <th>총_직장_인구_수_y</th>\n",
       "      <th>총_생활인구_수_y</th>\n",
       "      <th>도심</th>\n",
       "    </tr>\n",
       "  </thead>\n",
       "  <tbody>\n",
       "    <tr>\n",
       "      <th>0</th>\n",
       "      <td>1.466482</td>\n",
       "      <td>1.423805</td>\n",
       "      <td>-1.635368</td>\n",
       "      <td>1.082146</td>\n",
       "      <td>0.790915</td>\n",
       "      <td>-1.809769</td>\n",
       "      <td>1</td>\n",
       "    </tr>\n",
       "    <tr>\n",
       "      <th>1</th>\n",
       "      <td>0.114631</td>\n",
       "      <td>0.317615</td>\n",
       "      <td>-0.133935</td>\n",
       "      <td>-0.064296</td>\n",
       "      <td>0.578999</td>\n",
       "      <td>-0.461570</td>\n",
       "      <td>1</td>\n",
       "    </tr>\n",
       "    <tr>\n",
       "      <th>2</th>\n",
       "      <td>1.623943</td>\n",
       "      <td>3.717765</td>\n",
       "      <td>-0.894809</td>\n",
       "      <td>1.535069</td>\n",
       "      <td>3.628849</td>\n",
       "      <td>-1.462965</td>\n",
       "      <td>1</td>\n",
       "    </tr>\n",
       "    <tr>\n",
       "      <th>3</th>\n",
       "      <td>0.055405</td>\n",
       "      <td>0.104818</td>\n",
       "      <td>-0.662271</td>\n",
       "      <td>-0.121498</td>\n",
       "      <td>-0.529187</td>\n",
       "      <td>-0.770622</td>\n",
       "      <td>1</td>\n",
       "    </tr>\n",
       "    <tr>\n",
       "      <th>4</th>\n",
       "      <td>-0.621573</td>\n",
       "      <td>-0.464787</td>\n",
       "      <td>-2.145716</td>\n",
       "      <td>-0.659611</td>\n",
       "      <td>-0.248099</td>\n",
       "      <td>-2.138868</td>\n",
       "      <td>1</td>\n",
       "    </tr>\n",
       "    <tr>\n",
       "      <th>...</th>\n",
       "      <td>...</td>\n",
       "      <td>...</td>\n",
       "      <td>...</td>\n",
       "      <td>...</td>\n",
       "      <td>...</td>\n",
       "      <td>...</td>\n",
       "      <td>...</td>\n",
       "    </tr>\n",
       "    <tr>\n",
       "      <th>1004</th>\n",
       "      <td>-0.571948</td>\n",
       "      <td>-0.537758</td>\n",
       "      <td>0.334939</td>\n",
       "      <td>-0.556788</td>\n",
       "      <td>-0.482339</td>\n",
       "      <td>0.614503</td>\n",
       "      <td>0</td>\n",
       "    </tr>\n",
       "    <tr>\n",
       "      <th>1005</th>\n",
       "      <td>-0.179106</td>\n",
       "      <td>-0.300550</td>\n",
       "      <td>-1.856283</td>\n",
       "      <td>-0.164806</td>\n",
       "      <td>-0.609466</td>\n",
       "      <td>-1.672894</td>\n",
       "      <td>0</td>\n",
       "    </tr>\n",
       "    <tr>\n",
       "      <th>1006</th>\n",
       "      <td>0.593050</td>\n",
       "      <td>-0.272964</td>\n",
       "      <td>1.660022</td>\n",
       "      <td>0.648123</td>\n",
       "      <td>-0.440440</td>\n",
       "      <td>1.360518</td>\n",
       "      <td>0</td>\n",
       "    </tr>\n",
       "    <tr>\n",
       "      <th>1007</th>\n",
       "      <td>0.262246</td>\n",
       "      <td>-0.185773</td>\n",
       "      <td>2.216647</td>\n",
       "      <td>0.022808</td>\n",
       "      <td>-0.048830</td>\n",
       "      <td>2.162846</td>\n",
       "      <td>0</td>\n",
       "    </tr>\n",
       "    <tr>\n",
       "      <th>1008</th>\n",
       "      <td>-0.615105</td>\n",
       "      <td>-0.408288</td>\n",
       "      <td>2.374567</td>\n",
       "      <td>-0.323886</td>\n",
       "      <td>-0.413497</td>\n",
       "      <td>2.603360</td>\n",
       "      <td>0</td>\n",
       "    </tr>\n",
       "  </tbody>\n",
       "</table>\n",
       "<p>1009 rows × 7 columns</p>\n",
       "</div>"
      ],
      "text/plain": [
       "         점포수_x  총_직장_인구_수_x  총_생활인구_수_x     점포수_y  총_직장_인구_수_y  총_생활인구_수_y  도심\n",
       "0     1.466482     1.423805   -1.635368  1.082146     0.790915   -1.809769   1\n",
       "1     0.114631     0.317615   -0.133935 -0.064296     0.578999   -0.461570   1\n",
       "2     1.623943     3.717765   -0.894809  1.535069     3.628849   -1.462965   1\n",
       "3     0.055405     0.104818   -0.662271 -0.121498    -0.529187   -0.770622   1\n",
       "4    -0.621573    -0.464787   -2.145716 -0.659611    -0.248099   -2.138868   1\n",
       "...        ...          ...         ...       ...          ...         ...  ..\n",
       "1004 -0.571948    -0.537758    0.334939 -0.556788    -0.482339    0.614503   0\n",
       "1005 -0.179106    -0.300550   -1.856283 -0.164806    -0.609466   -1.672894   0\n",
       "1006  0.593050    -0.272964    1.660022  0.648123    -0.440440    1.360518   0\n",
       "1007  0.262246    -0.185773    2.216647  0.022808    -0.048830    2.162846   0\n",
       "1008 -0.615105    -0.408288    2.374567 -0.323886    -0.413497    2.603360   0\n",
       "\n",
       "[1009 rows x 7 columns]"
      ]
     },
     "execution_count": 116,
     "metadata": {},
     "output_type": "execute_result"
    }
   ],
   "source": [
    "x_scale_df['도심'] = x['도심_x']\n",
    "x_scale_df"
   ]
  },
  {
   "cell_type": "markdown",
   "metadata": {},
   "source": [
    "#### 훈련 데이터와 검증 데이터로 분할\n"
   ]
  },
  {
   "cell_type": "code",
   "execution_count": null,
   "metadata": {},
   "outputs": [
    {
     "data": {
      "text/plain": [
       "((706, 7), (303, 7), (706, 1), (303, 1))"
      ]
     },
     "execution_count": 117,
     "metadata": {},
     "output_type": "execute_result"
    }
   ],
   "source": [
    "x_train, x_test, y_train, y_test = train_test_split(x_scale_df, y,test_size=0.3, random_state=666)\n",
    "x_train.shape, x_test.shape, y_train.shape, y_test.shape"
   ]
  },
  {
   "cell_type": "markdown",
   "metadata": {},
   "source": [
    "### 06. 모델 개발\n",
    "#### 모델 정의"
   ]
  },
  {
   "cell_type": "code",
   "execution_count": null,
   "metadata": {},
   "outputs": [
    {
     "name": "stdout",
     "output_type": "stream",
     "text": [
      "Model: \"sequential_8\"\n",
      "_________________________________________________________________\n",
      " Layer (type)                Output Shape              Param #   \n",
      "=================================================================\n",
      " dense_16 (Dense)            (None, 128)               1024      \n",
      "                                                                 \n",
      " dense_17 (Dense)            (None, 1)                 129       \n",
      "                                                                 \n",
      "=================================================================\n",
      "Total params: 1153 (4.50 KB)\n",
      "Trainable params: 1153 (4.50 KB)\n",
      "Non-trainable params: 0 (0.00 Byte)\n",
      "_________________________________________________________________\n"
     ]
    }
   ],
   "source": [
    "model = Sequential()\n",
    "model.add(Dense(128, activation = 'relu', input_shape = (7,)))\n",
    "model.add(Dense(1, activation = 'sigmoid'))\n",
    "model.compile(optimizer = 'adam', loss = 'binary_crossentropy', metrics = ['acc'])\n",
    "model.summary()"
   ]
  },
  {
   "cell_type": "markdown",
   "metadata": {},
   "source": [
    "#### 학습하기"
   ]
  },
  {
   "cell_type": "code",
   "execution_count": null,
   "metadata": {},
   "outputs": [
    {
     "name": "stdout",
     "output_type": "stream",
     "text": [
      "Epoch 1/500\n"
     ]
    },
    {
     "name": "stdout",
     "output_type": "stream",
     "text": [
      "23/23 [==============================] - 1s 14ms/step - loss: 0.7020 - acc: 0.5340 - val_loss: 0.6747 - val_acc: 0.5314 - lr: 0.0010\n",
      "Epoch 2/500\n",
      "23/23 [==============================] - 0s 6ms/step - loss: 0.6889 - acc: 0.5439 - val_loss: 0.6824 - val_acc: 0.5314 - lr: 0.0010\n",
      "Epoch 3/500\n",
      "23/23 [==============================] - 0s 4ms/step - loss: 0.6855 - acc: 0.5510 - val_loss: 0.6842 - val_acc: 0.5347 - lr: 0.0010\n",
      "Epoch 4/500\n",
      "23/23 [==============================] - 0s 5ms/step - loss: 0.6831 - acc: 0.5652 - val_loss: 0.6855 - val_acc: 0.5314 - lr: 0.0010\n",
      "Epoch 5/500\n",
      "23/23 [==============================] - 0s 4ms/step - loss: 0.6809 - acc: 0.5708 - val_loss: 0.6957 - val_acc: 0.5413 - lr: 0.0010\n",
      "Epoch 6/500\n",
      "23/23 [==============================] - 0s 5ms/step - loss: 0.6795 - acc: 0.5652 - val_loss: 0.6893 - val_acc: 0.5413 - lr: 0.0010\n",
      "Epoch 7/500\n",
      "23/23 [==============================] - 0s 4ms/step - loss: 0.6780 - acc: 0.5694 - val_loss: 0.6884 - val_acc: 0.5347 - lr: 0.0010\n",
      "Epoch 8/500\n",
      "23/23 [==============================] - 0s 4ms/step - loss: 0.6769 - acc: 0.5751 - val_loss: 0.6933 - val_acc: 0.5413 - lr: 0.0010\n",
      "Epoch 9/500\n",
      "23/23 [==============================] - 0s 6ms/step - loss: 0.6750 - acc: 0.5864 - val_loss: 0.6922 - val_acc: 0.5347 - lr: 0.0010\n",
      "Epoch 10/500\n",
      "23/23 [==============================] - 0s 4ms/step - loss: 0.6736 - acc: 0.5935 - val_loss: 0.6903 - val_acc: 0.5281 - lr: 0.0010\n",
      "Epoch 11/500\n",
      "23/23 [==============================] - 0s 4ms/step - loss: 0.6734 - acc: 0.5864 - val_loss: 0.6865 - val_acc: 0.5182 - lr: 0.0010\n",
      "Epoch 12/500\n",
      "23/23 [==============================] - 0s 6ms/step - loss: 0.6707 - acc: 0.6048 - val_loss: 0.6890 - val_acc: 0.5281 - lr: 0.0010\n",
      "Epoch 13/500\n",
      "23/23 [==============================] - 0s 5ms/step - loss: 0.6725 - acc: 0.6091 - val_loss: 0.6941 - val_acc: 0.5512 - lr: 0.0010\n",
      "Epoch 14/500\n",
      "23/23 [==============================] - 0s 4ms/step - loss: 0.6705 - acc: 0.6133 - val_loss: 0.6918 - val_acc: 0.5347 - lr: 0.0010\n",
      "Epoch 15/500\n",
      "23/23 [==============================] - 0s 5ms/step - loss: 0.6678 - acc: 0.5977 - val_loss: 0.6882 - val_acc: 0.5380 - lr: 0.0010\n",
      "Epoch 16/500\n",
      " 1/23 [>.............................] - ETA: 0s - loss: 0.6290 - acc: 0.7188\n",
      "Epoch 16: ReduceLROnPlateau reducing learning rate to 0.00010000000474974513.\n",
      "23/23 [==============================] - 0s 5ms/step - loss: 0.6663 - acc: 0.5878 - val_loss: 0.6817 - val_acc: 0.5017 - lr: 0.0010\n",
      "Epoch 17/500\n",
      "23/23 [==============================] - 0s 5ms/step - loss: 0.6643 - acc: 0.6062 - val_loss: 0.6823 - val_acc: 0.5083 - lr: 1.0000e-04\n",
      "Epoch 18/500\n",
      "23/23 [==============================] - 0s 5ms/step - loss: 0.6641 - acc: 0.6062 - val_loss: 0.6829 - val_acc: 0.5116 - lr: 1.0000e-04\n",
      "Epoch 19/500\n",
      "23/23 [==============================] - 0s 5ms/step - loss: 0.6640 - acc: 0.6091 - val_loss: 0.6832 - val_acc: 0.5149 - lr: 1.0000e-04\n",
      "Epoch 20/500\n",
      "23/23 [==============================] - 0s 5ms/step - loss: 0.6636 - acc: 0.6105 - val_loss: 0.6836 - val_acc: 0.5248 - lr: 1.0000e-04\n",
      "Epoch 21/500\n",
      "23/23 [==============================] - 0s 6ms/step - loss: 0.6635 - acc: 0.6147 - val_loss: 0.6848 - val_acc: 0.5281 - lr: 1.0000e-04\n",
      "Epoch 21: early stopping\n"
     ]
    }
   ],
   "source": [
    "result = model.fit(x_train,y_train, epochs=500, validation_data=(x_test,y_test), callbacks=[\n",
    "        EarlyStopping(monitor = 'val_loss', patience = 20,  verbose = 1),\n",
    "        ReduceLROnPlateau(monitor = \"val_loss\", patience = 15, verbose = 1)\n",
    "])"
   ]
  },
  {
   "cell_type": "code",
   "execution_count": null,
   "metadata": {},
   "outputs": [
    {
     "data": {
      "image/png": "[encoded data removed]",
      "text/plain": [
       "<Figure size 2250x750 with 2 Axes>"
      ]
     },
     "metadata": {},
     "output_type": "display_data"
    },
    {
     "name": "stdout",
     "output_type": "stream",
     "text": [
      "23/23 [==============================] - 0s 1ms/step - loss: 0.6631 - acc: 0.6147\n",
      "최종 훈련 손실률: 0.663149, 최종 훈련 정확도: 0.614731\n",
      "10/10 [==============================] - 0s 3ms/step - loss: 0.6848 - acc: 0.5281\n",
      "최종 검증 손실률: 0.684834, 최종 검증 정확도: 0.528053\n"
     ]
    }
   ],
   "source": [
    "result_df = DataFrame(result.history)\n",
    "result_df['epochs'] = result_df.index+1\n",
    "result_df.set_index('epochs', inplace= True)    \n",
    "train_column_name = [result_df.columns[0], result_df.columns[1]]\n",
    "test_column_name = [result_df.columns[2], result_df.columns[3]]\n",
    "\n",
    "fig, ax = plt.subplots(1,2, figsize =(15,5), dpi = 150)\n",
    "for i, v in enumerate(ax):\n",
    "    sb.lineplot(x = result_df.index, y = train_column_name[i], data = result_df,  color = 'blue', label = train_column_name[i], ax =v)\n",
    "    sb.lineplot(x = result_df.index, y = test_column_name[i], data = result_df, color = 'orange', label = test_column_name[i], ax =v)\n",
    "    v.set_title(train_column_name[i])\n",
    "    v.set_xlabel('epochs')\n",
    "    v.set_ylabel(train_column_name[i])\n",
    "    v.grid()\n",
    "    v.legend()\n",
    "plt.show()\n",
    "plt.close()\n",
    "evaluate1 = model.evaluate(x_train, y_train)\n",
    "print(\"최종 훈련 손실률: %f, 최종 훈련 정확도: %f\" % (evaluate1[0], evaluate1[1]))\n",
    "\n",
    "evaluate2 = model.evaluate(x_test, y_test)\n",
    "print(\"최종 검증 손실률: %f, 최종 검증 정확도: %f\" % (evaluate2[0], evaluate2[1]))\n"
   ]
  },
  {
   "cell_type": "code",
   "execution_count": null,
   "metadata": {},
   "outputs": [],
   "source": []
  }
 ],
 "metadata": {
  "kernelspec": {
   "display_name": "Python 3",
   "language": "python",
   "name": "python3"
  },
  "language_info": {
   "codemirror_mode": {
    "name": "ipython",
    "version": 3
   },
   "file_extension": ".py",
   "mimetype": "text/x-python",
   "name": "python",
   "nbconvert_exporter": "python",
   "pygments_lexer": "ipython3",
   "version": "3.9.13"
  },
  "orig_nbformat": 4
 },
 "nbformat": 4,
 "nbformat_minor": 2
}
