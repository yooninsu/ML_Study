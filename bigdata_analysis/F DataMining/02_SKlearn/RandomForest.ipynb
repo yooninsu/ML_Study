{
 "cells": [
  {
   "cell_type": "markdown",
   "metadata": {},
   "source": [
    "# Random Forest(1)\n",
    "\n",
    "의사결정트리를 사용하는 가장 대표적인 배깅 모델\n",
    "\n",
    "의사결정트리의 단점(과적합이 자주 발생)을 보완하고 장점은 유지한다.\n",
    "\n",
    "최근 XGBoost, LightGBM, CatBoost와 함께 주목받는 알고리즘 중 하나.\n"
   ]
  },
  {
   "cell_type": "markdown",
   "metadata": {},
   "source": [
    "## 01. 패키지 참조"
   ]
  },
  {
   "cell_type": "code",
   "execution_count": 2,
   "metadata": {},
   "outputs": [],
   "source": [
    "from matplotlib import pyplot as plt\n",
    "import seaborn as sb\n",
    "import pandas as pd\n",
    "from sklearn.ensemble import RandomForestClassifier\n",
    "from sklearn.preprocessing import StandardScaler\n",
    "from sklearn.model_selection import train_test_split\n",
    "from sklearn.model_selection import cross_val_score, cross_validate\n",
    "from sklearn.metrics import accuracy_score\n",
    "from sklearn.model_selection import GridSearchCV\n",
    "\n",
    "\n",
    "# 데이터 불균형 해소를 위한 패키지\n",
    "from imblearn.under_sampling import RandomUnderSampler\n",
    "from imblearn.over_sampling import RandomOverSampler\n",
    "from imblearn.over_sampling import SMOTE"
   ]
  },
  {
   "cell_type": "markdown",
   "metadata": {},
   "source": [
    "## 02. 데이터 가져오기\n",
    "\n",
    "|필드이름|설명|\n",
    "|---|---|\n",
    "|target| 타겟(종속)변수 `Class_1~Class_9`|\n",
    "|feat_1~feat_93|설명(독립)변수|"
   ]
  },
  {
   "cell_type": "code",
   "execution_count": 19,
   "metadata": {},
   "outputs": [],
   "source": [
    "origin = pd.read_csv(\"./otto_train.csv\")"
   ]
  },
  {
   "cell_type": "code",
   "execution_count": 20,
   "metadata": {},
   "outputs": [],
   "source": [
    "origin = origin.drop(['id'],axis=1)"
   ]
  },
  {
   "cell_type": "code",
   "execution_count": 21,
   "metadata": {},
   "outputs": [
    {
     "data": {
      "text/html": [
       "<div>\n",
       "<style scoped>\n",
       "    .dataframe tbody tr th:only-of-type {\n",
       "        vertical-align: middle;\n",
       "    }\n",
       "\n",
       "    .dataframe tbody tr th {\n",
       "        vertical-align: top;\n",
       "    }\n",
       "\n",
       "    .dataframe thead th {\n",
       "        text-align: right;\n",
       "    }\n",
       "</style>\n",
       "<table border=\"1\" class=\"dataframe\">\n",
       "  <thead>\n",
       "    <tr style=\"text-align: right;\">\n",
       "      <th></th>\n",
       "      <th>feat_1</th>\n",
       "      <th>feat_2</th>\n",
       "      <th>feat_3</th>\n",
       "      <th>feat_4</th>\n",
       "      <th>feat_5</th>\n",
       "      <th>feat_6</th>\n",
       "      <th>feat_7</th>\n",
       "      <th>feat_8</th>\n",
       "      <th>feat_9</th>\n",
       "      <th>feat_10</th>\n",
       "      <th>...</th>\n",
       "      <th>feat_85</th>\n",
       "      <th>feat_86</th>\n",
       "      <th>feat_87</th>\n",
       "      <th>feat_88</th>\n",
       "      <th>feat_89</th>\n",
       "      <th>feat_90</th>\n",
       "      <th>feat_91</th>\n",
       "      <th>feat_92</th>\n",
       "      <th>feat_93</th>\n",
       "      <th>target</th>\n",
       "    </tr>\n",
       "  </thead>\n",
       "  <tbody>\n",
       "    <tr>\n",
       "      <th>0</th>\n",
       "      <td>1</td>\n",
       "      <td>0</td>\n",
       "      <td>0</td>\n",
       "      <td>0</td>\n",
       "      <td>0</td>\n",
       "      <td>0</td>\n",
       "      <td>0</td>\n",
       "      <td>0</td>\n",
       "      <td>0</td>\n",
       "      <td>0</td>\n",
       "      <td>...</td>\n",
       "      <td>1</td>\n",
       "      <td>0</td>\n",
       "      <td>0</td>\n",
       "      <td>0</td>\n",
       "      <td>0</td>\n",
       "      <td>0</td>\n",
       "      <td>0</td>\n",
       "      <td>0</td>\n",
       "      <td>0</td>\n",
       "      <td>Class_1</td>\n",
       "    </tr>\n",
       "    <tr>\n",
       "      <th>1</th>\n",
       "      <td>0</td>\n",
       "      <td>0</td>\n",
       "      <td>0</td>\n",
       "      <td>0</td>\n",
       "      <td>0</td>\n",
       "      <td>0</td>\n",
       "      <td>0</td>\n",
       "      <td>1</td>\n",
       "      <td>0</td>\n",
       "      <td>0</td>\n",
       "      <td>...</td>\n",
       "      <td>0</td>\n",
       "      <td>0</td>\n",
       "      <td>0</td>\n",
       "      <td>0</td>\n",
       "      <td>0</td>\n",
       "      <td>0</td>\n",
       "      <td>0</td>\n",
       "      <td>0</td>\n",
       "      <td>0</td>\n",
       "      <td>Class_1</td>\n",
       "    </tr>\n",
       "    <tr>\n",
       "      <th>2</th>\n",
       "      <td>0</td>\n",
       "      <td>0</td>\n",
       "      <td>0</td>\n",
       "      <td>0</td>\n",
       "      <td>0</td>\n",
       "      <td>0</td>\n",
       "      <td>0</td>\n",
       "      <td>1</td>\n",
       "      <td>0</td>\n",
       "      <td>0</td>\n",
       "      <td>...</td>\n",
       "      <td>0</td>\n",
       "      <td>0</td>\n",
       "      <td>0</td>\n",
       "      <td>0</td>\n",
       "      <td>0</td>\n",
       "      <td>0</td>\n",
       "      <td>0</td>\n",
       "      <td>0</td>\n",
       "      <td>0</td>\n",
       "      <td>Class_1</td>\n",
       "    </tr>\n",
       "    <tr>\n",
       "      <th>3</th>\n",
       "      <td>1</td>\n",
       "      <td>0</td>\n",
       "      <td>0</td>\n",
       "      <td>1</td>\n",
       "      <td>6</td>\n",
       "      <td>1</td>\n",
       "      <td>5</td>\n",
       "      <td>0</td>\n",
       "      <td>0</td>\n",
       "      <td>1</td>\n",
       "      <td>...</td>\n",
       "      <td>0</td>\n",
       "      <td>1</td>\n",
       "      <td>2</td>\n",
       "      <td>0</td>\n",
       "      <td>0</td>\n",
       "      <td>0</td>\n",
       "      <td>0</td>\n",
       "      <td>0</td>\n",
       "      <td>0</td>\n",
       "      <td>Class_1</td>\n",
       "    </tr>\n",
       "    <tr>\n",
       "      <th>4</th>\n",
       "      <td>0</td>\n",
       "      <td>0</td>\n",
       "      <td>0</td>\n",
       "      <td>0</td>\n",
       "      <td>0</td>\n",
       "      <td>0</td>\n",
       "      <td>0</td>\n",
       "      <td>0</td>\n",
       "      <td>0</td>\n",
       "      <td>0</td>\n",
       "      <td>...</td>\n",
       "      <td>1</td>\n",
       "      <td>0</td>\n",
       "      <td>0</td>\n",
       "      <td>0</td>\n",
       "      <td>0</td>\n",
       "      <td>1</td>\n",
       "      <td>0</td>\n",
       "      <td>0</td>\n",
       "      <td>0</td>\n",
       "      <td>Class_1</td>\n",
       "    </tr>\n",
       "  </tbody>\n",
       "</table>\n",
       "<p>5 rows × 94 columns</p>\n",
       "</div>"
      ],
      "text/plain": [
       "   feat_1  feat_2  feat_3  feat_4  feat_5  feat_6  feat_7  feat_8  feat_9  \\\n",
       "0       1       0       0       0       0       0       0       0       0   \n",
       "1       0       0       0       0       0       0       0       1       0   \n",
       "2       0       0       0       0       0       0       0       1       0   \n",
       "3       1       0       0       1       6       1       5       0       0   \n",
       "4       0       0       0       0       0       0       0       0       0   \n",
       "\n",
       "   feat_10  ...  feat_85  feat_86  feat_87  feat_88  feat_89  feat_90  \\\n",
       "0        0  ...        1        0        0        0        0        0   \n",
       "1        0  ...        0        0        0        0        0        0   \n",
       "2        0  ...        0        0        0        0        0        0   \n",
       "3        1  ...        0        1        2        0        0        0   \n",
       "4        0  ...        1        0        0        0        0        1   \n",
       "\n",
       "   feat_91  feat_92  feat_93   target  \n",
       "0        0        0        0  Class_1  \n",
       "1        0        0        0  Class_1  \n",
       "2        0        0        0  Class_1  \n",
       "3        0        0        0  Class_1  \n",
       "4        0        0        0  Class_1  \n",
       "\n",
       "[5 rows x 94 columns]"
      ]
     },
     "execution_count": 21,
     "metadata": {},
     "output_type": "execute_result"
    }
   ],
   "source": [
    "origin.head()"
   ]
  },
  {
   "cell_type": "code",
   "execution_count": 22,
   "metadata": {},
   "outputs": [
    {
     "data": {
      "text/plain": [
       "target\n",
       "0     1929\n",
       "1    16122\n",
       "2     8004\n",
       "3     2691\n",
       "4     2739\n",
       "5    14135\n",
       "6     2839\n",
       "7     8464\n",
       "8     4955\n",
       "Name: count, dtype: int64"
      ]
     },
     "execution_count": 22,
     "metadata": {},
     "output_type": "execute_result"
    }
   ],
   "source": [
    "origin['target'] = origin['target'].map({\n",
    "     \"Class_1\":0,\n",
    "     \"Class_2\":1,\n",
    "     \"Class_3\":2,\n",
    "     \"Class_4\":3,\n",
    "     \"Class_5\":4,\n",
    "     \"Class_6\":5,\n",
    "     \"Class_7\":6,\n",
    "     \"Class_8\":7,\n",
    "     \"Class_9\":8\n",
    "})\n",
    "origin['target'].value_counts().sort_index()"
   ]
  },
  {
   "cell_type": "code",
   "execution_count": 23,
   "metadata": {},
   "outputs": [
    {
     "data": {
      "text/plain": [
       "((61878, 93), (61878,))"
      ]
     },
     "execution_count": 23,
     "metadata": {},
     "output_type": "execute_result"
    }
   ],
   "source": [
    "x = origin.drop(\"target\", axis=1)\n",
    "y = origin['target']\n",
    "x.shape, y.shape"
   ]
  },
  {
   "cell_type": "code",
   "execution_count": 24,
   "metadata": {},
   "outputs": [
    {
     "data": {
      "text/plain": [
       "((43314, 93), (18564, 93), (43314,), (18564,))"
      ]
     },
     "execution_count": 24,
     "metadata": {},
     "output_type": "execute_result"
    }
   ],
   "source": [
    "x_train, x_test, y_train, y_test = train_test_split(\n",
    "    x, y, test_size = 0.3 , random_state = 111)\n",
    "x_train.shape, x_test.shape, y_train.shape, y_test.shape\n"
   ]
  },
  {
   "cell_type": "markdown",
   "metadata": {},
   "source": [
    "### 데이터 불균형 해소\n",
    "\n",
    "1) Under Sampling 방식 - Random Under Sampler\n",
    "\n",
    "많은 비율을 차지하는 다수 집단에서 일부만 샘플링하는 방식\n",
    "\n",
    "소수 집단의 데이터가 어느 정도 확보되었다고 여겨질 때, 다수 집단의 데이터를 줄여서 균형을 맞춘다.\n",
    "\n",
    "다수 집단의 유의미한 데이터를 손실할 수 있다는 단점이 있다.\n",
    "\n",
    "`sampling_strategy` 파라미터\n",
    "\n",
    "| 값 | 설명 |\n",
    "| --- | --- |\n",
    "| `majority` | 다수 클래스만 다시 샘플링 |\n",
    "| `not majority` | `다수 아님`  - 다수 클래스를 제외한 모든 클래스를 다시 샘플링 |\n",
    "| `not minority` | `소수 아님`  - 소수 클래스를 제외한 모든 클래스를 다시 샘플링 |\n",
    "| `all` | 모든 클래스를 다시 샘플링 |\n",
    "| `auto` | 자동 처리 |\n"
   ]
  },
  {
   "cell_type": "code",
   "execution_count": 26,
   "metadata": {},
   "outputs": [
    {
     "name": "stdout",
     "output_type": "stream",
     "text": [
      "(33356, 93) (33356,)\n"
     ]
    },
    {
     "data": {
      "text/plain": [
       "target\n",
       "0    1339\n",
       "1    1339\n",
       "2    5615\n",
       "3    1870\n",
       "4    1905\n",
       "5    9978\n",
       "6    1967\n",
       "7    5863\n",
       "8    3480\n",
       "Name: count, dtype: int64"
      ]
     },
     "execution_count": 26,
     "metadata": {},
     "output_type": "execute_result"
    }
   ],
   "source": [
    "undersampler = RandomUnderSampler(sampling_strategy=\"majority\", random_state = 111)\n",
    "x_under, y_under = undersampler.fit_resample(x_train, y_train)\n",
    "print(x_under.shape, y_under.shape)\n",
    "\n",
    "y_under.value_counts().sort_index()"
   ]
  },
  {
   "cell_type": "markdown",
   "metadata": {},
   "source": [
    "### Over Sampling - Random Over Sampler\n",
    "\n",
    "소수 집단에서 복원 추출을 수행하는 방법\n",
    "\n",
    "언더 샘플링처럼 데이터 중 일부를 취하는 것은 아니기 때문에 데이터 손실은 발생하지 않지만, 동일한 데이터를 여러번 학습 데이터에 포함시키므로 학습 정확도는 높지만 과적합 리스크가 크다.\n",
    "\n",
    "`sampling_strategy` 파라미터\n",
    "\n",
    "| 값 | 설명 |\n",
    "| --- | --- |\n",
    "| `minority` | 소수 클래스만 다시 샘플링 |\n",
    "| `not majority` | `다수 아님` - 다수 클래스를 제외한 모든 클래스를 다시 샘플링 |\n",
    "| `not minority`| `소수 아님`- 소수 클래스를 제외한 모든 클래스르 다시 샘플링 |\n",
    "| `all` | 모든 클래스를 다시 샘플링 |\n",
    "| `auto` | 자동 처리|"
   ]
  },
  {
   "cell_type": "code",
   "execution_count": 27,
   "metadata": {},
   "outputs": [
    {
     "name": "stdout",
     "output_type": "stream",
     "text": [
      "(53272, 93) (53272,)\n"
     ]
    },
    {
     "data": {
      "text/plain": [
       "target\n",
       "0    11297\n",
       "1    11297\n",
       "2     5615\n",
       "3     1870\n",
       "4     1905\n",
       "5     9978\n",
       "6     1967\n",
       "7     5863\n",
       "8     3480\n",
       "Name: count, dtype: int64"
      ]
     },
     "execution_count": 27,
     "metadata": {},
     "output_type": "execute_result"
    }
   ],
   "source": [
    "oversampler = RandomOverSampler(sampling_strategy=\"minority\", random_state = 111)\n",
    "x_over, y_over = oversampler.fit_resample(x_train, y_train)\n",
    "print(x_over.shape, y_over.shape)\n",
    "\n",
    "y_over.value_counts().sort_index()"
   ]
  },
  {
   "cell_type": "markdown",
   "metadata": {},
   "source": [
    "### Over Sampling - Random Over Sampler\n",
    "\n",
    "소수 집단의 데이터를 바탕으로 새로운 데이터를 생성.\n",
    "\n",
    "단순히 소수 집단의 데이터를 복원 추출하는 것이 아니라 소수 집단 데이터를 분석해 어떤 특징이 있는지 살피고 그와 유사한 패턴을 갖는 가짜 데이터를 생성한다.\n",
    "\n",
    "\n",
    "`sampling_strategy` 파라미터\n",
    "\n",
    "| 값 | 설명 |\n",
    "| --- | --- |\n",
    "| `minority` | 소수 클래스만 다시 샘플링 |\n",
    "| `not majority` | `다수 아님` - 다수 클래스를 제외한 모든 클래스를 다시 샘플링 |\n",
    "| `not minority`| `소수 아님`- 소수 클래스를 제외한 모든 클래스르 다시 샘플링 |\n",
    "| `all` | 모든 클래스를 다시 샘플링 |\n",
    "| `auto` | 자동 처리|\n",
    "\n",
    "혹은 실수 타입으로 설정할 경우 샘플 수의 비율을 의미\n",
    "\n",
    "`k_neighbors` 파라미터 (int)\n",
    "\n",
    "합성 샘플을 생성하는데 사용할 샘플의 가장 가까운 이웃 수 (기본값=5)"
   ]
  },
  {
   "cell_type": "code",
   "execution_count": 28,
   "metadata": {},
   "outputs": [
    {
     "name": "stdout",
     "output_type": "stream",
     "text": [
      "(53272, 93) (53272,)\n"
     ]
    },
    {
     "data": {
      "text/plain": [
       "target\n",
       "0    11297\n",
       "1    11297\n",
       "2     5615\n",
       "3     1870\n",
       "4     1905\n",
       "5     9978\n",
       "6     1967\n",
       "7     5863\n",
       "8     3480\n",
       "Name: count, dtype: int64"
      ]
     },
     "execution_count": 28,
     "metadata": {},
     "output_type": "execute_result"
    }
   ],
   "source": [
    "# \"sampling_strategy\" can be a float only when the type of target is binary\n",
    "smote_sampler = SMOTE(sampling_strategy=\"minority\", random_state=111)\n",
    "x_sm, y_sm = smote_sampler.fit_resample(x_train, y_train)\n",
    "print(x_sm.shape, y_sm.shape)\n",
    "\n",
    "y_sm.value_counts().sort_index()"
   ]
  },
  {
   "cell_type": "markdown",
   "metadata": {},
   "source": [
    "## 03. 랜덤포레스트 모델 적합\n",
    "#### 단일 모델 만들기"
   ]
  },
  {
   "cell_type": "code",
   "execution_count": 31,
   "metadata": {},
   "outputs": [
    {
     "name": "stdout",
     "output_type": "stream",
     "text": [
      "훈련 정확도:  0.5992750611811424\n",
      "훈련 정확도:  0.6641383858975897\n",
      "훈련 정확도:  0.609644841567803\n",
      "훈련 정확도:  0.6134367022075387\n",
      "테스트 정확도: 0.5347985347985348\n"
     ]
    }
   ],
   "source": [
    "rfc = RandomForestClassifier(n_estimators=20, max_depth = 5, random_state=111)\n",
    "\n",
    "# 원본 데이터로 학습 진행\n",
    "rfc.fit(x_train, y_train)\n",
    "print(\"훈련 정확도: \", rfc.score(x_train, y_train))\n",
    "\n",
    "# 언더샘플링 데이터로 학습 진행\n",
    "rfc.fit(x_under, y_under)\n",
    "print(\"훈련 정확도: \", rfc.score(x_under, y_under))\n",
    "\n",
    "# 오버샘플링 데이터로 학습 진행행\n",
    "rfc.fit(x_over, y_over)\n",
    "print(\"훈련 정확도: \", rfc.score(x_over, y_over))\n",
    "\n",
    "# SMOTE 데이터로 학습 진행행\n",
    "rfc.fit(x_sm, y_sm)\n",
    "print(\"훈련 정확도: \", rfc.score(x_sm, y_sm))\n",
    "\n",
    "print(\"테스트 정확도:\", rfc.score(x_test, y_test))"
   ]
  },
  {
   "cell_type": "code",
   "execution_count": 32,
   "metadata": {},
   "outputs": [
    {
     "name": "stdout",
     "output_type": "stream",
     "text": [
      "훈련 정확도:  0.6081405550168537\n",
      "훈련 정확도:  0.6797577647199904\n",
      "훈련 정확도:  0.6197627271362066\n",
      "훈련 정확도:  0.6118035741102268\n",
      "테스트 정확도: 0.5322128851540616\n"
     ]
    }
   ],
   "source": [
    "rfc = RandomForestClassifier(n_estimators=50, max_depth = 5, random_state=111)\n",
    "\n",
    "# 원본 데이터로 학습 진행\n",
    "rfc.fit(x_train, y_train)\n",
    "print(\"훈련 정확도: \", rfc.score(x_train, y_train))\n",
    "\n",
    "# 언더샘플링 데이터로 학습 진행\n",
    "rfc.fit(x_under, y_under)\n",
    "print(\"훈련 정확도: \", rfc.score(x_under, y_under))\n",
    "\n",
    "# 오버샘플링 데이터로 학습 진행행\n",
    "rfc.fit(x_over, y_over)\n",
    "print(\"훈련 정확도: \", rfc.score(x_over, y_over))\n",
    "\n",
    "# SMOTE 데이터로 학습 진행행\n",
    "rfc.fit(x_sm, y_sm)\n",
    "print(\"훈련 정확도: \", rfc.score(x_sm, y_sm))\n",
    "\n",
    "print(\"테스트 정확도:\", rfc.score(x_test, y_test))"
   ]
  },
  {
   "cell_type": "code",
   "execution_count": 33,
   "metadata": {},
   "outputs": [
    {
     "name": "stdout",
     "output_type": "stream",
     "text": [
      "훈련 정확도:  0.9742577457634944\n",
      "훈련 정확도:  0.9816224967022424\n",
      "훈련 정확도:  0.97809355759123\n",
      "훈련 정확도:  0.9780372428292536\n",
      "테스트 정확도: 0.7854988149105796\n"
     ]
    }
   ],
   "source": [
    "rfc = RandomForestClassifier(n_estimators=100, max_depth = 30, random_state=111)\n",
    "\n",
    "# 원본 데이터로 학습 진행\n",
    "rfc.fit(x_train, y_train)\n",
    "print(\"훈련 정확도: \", rfc.score(x_train, y_train))\n",
    "\n",
    "# 언더샘플링 데이터로 학습 진행\n",
    "rfc.fit(x_under, y_under)\n",
    "print(\"훈련 정확도: \", rfc.score(x_under, y_under))\n",
    "\n",
    "# 오버샘플링 데이터로 학습 진행행\n",
    "rfc.fit(x_over, y_over)\n",
    "print(\"훈련 정확도: \", rfc.score(x_over, y_over))\n",
    "\n",
    "# SMOTE 데이터로 학습 진행행\n",
    "rfc.fit(x_sm, y_sm)\n",
    "print(\"훈련 정확도: \", rfc.score(x_sm, y_sm))\n",
    "\n",
    "print(\"테스트 정확도:\", rfc.score(x_test, y_test))"
   ]
  },
  {
   "cell_type": "code",
   "execution_count": 34,
   "metadata": {},
   "outputs": [
    {
     "name": "stdout",
     "output_type": "stream",
     "text": [
      "훈련 정확도:  1.0\n",
      "훈련 정확도:  1.0\n",
      "훈련 정확도:  1.0\n",
      "훈련 정확도:  0.9999624568253491\n",
      "테스트 정확도: 0.7932557638439991\n"
     ]
    }
   ],
   "source": [
    "rfc = RandomForestClassifier(n_estimators=100, max_depth = 100, random_state=111)\n",
    "\n",
    "# 원본 데이터로 학습 진행\n",
    "rfc.fit(x_train, y_train)\n",
    "print(\"훈련 정확도: \", rfc.score(x_train, y_train))\n",
    "\n",
    "# 언더샘플링 데이터로 학습 진행\n",
    "rfc.fit(x_under, y_under)\n",
    "print(\"훈련 정확도: \", rfc.score(x_under, y_under))\n",
    "\n",
    "# 오버샘플링 데이터로 학습 진행행\n",
    "rfc.fit(x_over, y_over)\n",
    "print(\"훈련 정확도: \", rfc.score(x_over, y_over))\n",
    "\n",
    "# SMOTE 데이터로 학습 진행행\n",
    "rfc.fit(x_sm, y_sm)\n",
    "print(\"훈련 정확도: \", rfc.score(x_sm, y_sm))\n",
    "\n",
    "print(\"테스트 정확도:\", rfc.score(x_test, y_test))"
   ]
  },
  {
   "cell_type": "markdown",
   "metadata": {},
   "source": [
    "#### 하이퍼 파라미터 튜닝"
   ]
  },
  {
   "cell_type": "code",
   "execution_count": 36,
   "metadata": {},
   "outputs": [
    {
     "name": "stdout",
     "output_type": "stream",
     "text": [
      "최적의 하이퍼 파라미터: {'max_depth': 100, 'n_estimators': 100}\n",
      "최대 훈련 정확도: 0.8007572951556622\n",
      "최대 검증 정확도: 0.8035444947209653\n"
     ]
    },
    {
     "data": {
      "text/html": [
       "<div>\n",
       "<style scoped>\n",
       "    .dataframe tbody tr th:only-of-type {\n",
       "        vertical-align: middle;\n",
       "    }\n",
       "\n",
       "    .dataframe tbody tr th {\n",
       "        vertical-align: top;\n",
       "    }\n",
       "\n",
       "    .dataframe thead th {\n",
       "        text-align: right;\n",
       "    }\n",
       "</style>\n",
       "<table border=\"1\" class=\"dataframe\">\n",
       "  <thead>\n",
       "    <tr style=\"text-align: right;\">\n",
       "      <th></th>\n",
       "      <th>max_depth</th>\n",
       "      <th>n_estimators</th>\n",
       "      <th>mean_test_score</th>\n",
       "    </tr>\n",
       "  </thead>\n",
       "  <tbody>\n",
       "    <tr>\n",
       "      <th>8</th>\n",
       "      <td>100</td>\n",
       "      <td>100</td>\n",
       "      <td>0.800757</td>\n",
       "    </tr>\n",
       "    <tr>\n",
       "      <th>5</th>\n",
       "      <td>30</td>\n",
       "      <td>100</td>\n",
       "      <td>0.796579</td>\n",
       "    </tr>\n",
       "    <tr>\n",
       "      <th>7</th>\n",
       "      <td>100</td>\n",
       "      <td>50</td>\n",
       "      <td>0.796209</td>\n",
       "    </tr>\n",
       "    <tr>\n",
       "      <th>4</th>\n",
       "      <td>30</td>\n",
       "      <td>50</td>\n",
       "      <td>0.794524</td>\n",
       "    </tr>\n",
       "    <tr>\n",
       "      <th>6</th>\n",
       "      <td>100</td>\n",
       "      <td>20</td>\n",
       "      <td>0.787136</td>\n",
       "    </tr>\n",
       "    <tr>\n",
       "      <th>3</th>\n",
       "      <td>30</td>\n",
       "      <td>20</td>\n",
       "      <td>0.782680</td>\n",
       "    </tr>\n",
       "    <tr>\n",
       "      <th>2</th>\n",
       "      <td>5</td>\n",
       "      <td>100</td>\n",
       "      <td>0.616475</td>\n",
       "    </tr>\n",
       "    <tr>\n",
       "      <th>1</th>\n",
       "      <td>5</td>\n",
       "      <td>50</td>\n",
       "      <td>0.609872</td>\n",
       "    </tr>\n",
       "    <tr>\n",
       "      <th>0</th>\n",
       "      <td>5</td>\n",
       "      <td>20</td>\n",
       "      <td>0.601792</td>\n",
       "    </tr>\n",
       "  </tbody>\n",
       "</table>\n",
       "</div>"
      ],
      "text/plain": [
       "   max_depth  n_estimators  mean_test_score\n",
       "8        100           100         0.800757\n",
       "5         30           100         0.796579\n",
       "7        100            50         0.796209\n",
       "4         30            50         0.794524\n",
       "6        100            20         0.787136\n",
       "3         30            20         0.782680\n",
       "2          5           100         0.616475\n",
       "1          5            50         0.609872\n",
       "0          5            20         0.601792"
      ]
     },
     "execution_count": 36,
     "metadata": {},
     "output_type": "execute_result"
    }
   ],
   "source": [
    "rfc = RandomForestClassifier(random_state =111)\n",
    "\n",
    "params = {\n",
    "    \"n_estimators\": [20, 50 ,100],\n",
    "    \"max_depth\" : [5, 30, 100]\n",
    "}\n",
    "\n",
    "grid = GridSearchCV(rfc, param_grid=params, cv=5, n_jobs= -1)\n",
    "grid.fit(x_train, y_train)\n",
    "\n",
    "print(\"최적의 하이퍼 파라미터:\", grid.best_params_)\n",
    "print(\"최대 훈련 정확도:\", grid.best_score_)\n",
    "\n",
    "y_pred = grid.best_estimator_.predict(x_test)\n",
    "print(\"최대 검증 정확도:\", accuracy_score(y_test, y_pred))\n",
    "\n",
    "result_df = pd.DataFrame(grid.cv_results_['params'])\n",
    "result_df['mean_test_score'] = grid.cv_results_['mean_test_score']\n",
    "result_df.sort_values(by=\"mean_test_score\", ascending=False)"
   ]
  },
  {
   "cell_type": "code",
   "execution_count": null,
   "metadata": {},
   "outputs": [],
   "source": []
  }
 ],
 "metadata": {
  "kernelspec": {
   "display_name": "Python 3",
   "language": "python",
   "name": "python3"
  },
  "language_info": {
   "codemirror_mode": {
    "name": "ipython",
    "version": 3
   },
   "file_extension": ".py",
   "mimetype": "text/x-python",
   "name": "python",
   "nbconvert_exporter": "python",
   "pygments_lexer": "ipython3",
   "version": "3.9.13"
  }
 },
 "nbformat": 4,
 "nbformat_minor": 2
}
