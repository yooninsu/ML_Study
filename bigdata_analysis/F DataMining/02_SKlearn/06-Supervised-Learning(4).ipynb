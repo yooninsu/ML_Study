{
 "cells": [
  {
   "cell_type": "code",
   "execution_count": 1,
   "metadata": {},
   "outputs": [],
   "source": [
    "import sys\n",
    "\n",
    "import numpy as np\n",
    "import seaborn as sb\n",
    "from pandas import read_excel, DataFrame\n",
    "from matplotlib import pyplot as plt\n",
    "\n",
    "from sklearn.linear_model import LinearRegression\n",
    "from sklearn.model_selection import train_test_split\n",
    "from sklearn.preprocessing import PolynomialFeatures\n",
    "\n",
    "# 성능 측정 지표 모듈\n",
    "from sklearn.metrics import r2_score, mean_absolute_error, mean_squared_error, mean_squared_log_error"
   ]
  },
  {
   "cell_type": "code",
   "execution_count": 2,
   "metadata": {},
   "outputs": [],
   "source": [
    "origin = read_excel('cars.xlsx')"
   ]
  },
  {
   "cell_type": "code",
   "execution_count": 3,
   "metadata": {},
   "outputs": [
    {
     "data": {
      "text/html": [
       "<div>\n",
       "<style scoped>\n",
       "    .dataframe tbody tr th:only-of-type {\n",
       "        vertical-align: middle;\n",
       "    }\n",
       "\n",
       "    .dataframe tbody tr th {\n",
       "        vertical-align: top;\n",
       "    }\n",
       "\n",
       "    .dataframe thead th {\n",
       "        text-align: right;\n",
       "    }\n",
       "</style>\n",
       "<table border=\"1\" class=\"dataframe\">\n",
       "  <thead>\n",
       "    <tr style=\"text-align: right;\">\n",
       "      <th></th>\n",
       "      <th>speed</th>\n",
       "      <th>speed^2</th>\n",
       "    </tr>\n",
       "  </thead>\n",
       "  <tbody>\n",
       "    <tr>\n",
       "      <th>0</th>\n",
       "      <td>4.0</td>\n",
       "      <td>16.0</td>\n",
       "    </tr>\n",
       "    <tr>\n",
       "      <th>1</th>\n",
       "      <td>4.0</td>\n",
       "      <td>16.0</td>\n",
       "    </tr>\n",
       "    <tr>\n",
       "      <th>2</th>\n",
       "      <td>7.0</td>\n",
       "      <td>49.0</td>\n",
       "    </tr>\n",
       "    <tr>\n",
       "      <th>3</th>\n",
       "      <td>7.0</td>\n",
       "      <td>49.0</td>\n",
       "    </tr>\n",
       "    <tr>\n",
       "      <th>4</th>\n",
       "      <td>8.0</td>\n",
       "      <td>64.0</td>\n",
       "    </tr>\n",
       "  </tbody>\n",
       "</table>\n",
       "</div>"
      ],
      "text/plain": [
       "   speed  speed^2\n",
       "0    4.0     16.0\n",
       "1    4.0     16.0\n",
       "2    7.0     49.0\n",
       "3    7.0     49.0\n",
       "4    8.0     64.0"
      ]
     },
     "execution_count": 3,
     "metadata": {},
     "output_type": "execute_result"
    }
   ],
   "source": [
    "poly = PolynomialFeatures(include_bias=False)\n",
    "fit = poly.fit_transform(origin[['speed']])\n",
    "x = DataFrame(fit, columns=poly.get_feature_names_out())\n",
    "x.head()"
   ]
  },
  {
   "cell_type": "code",
   "execution_count": 4,
   "metadata": {},
   "outputs": [
    {
     "data": {
      "text/html": [
       "<div>\n",
       "<style scoped>\n",
       "    .dataframe tbody tr th:only-of-type {\n",
       "        vertical-align: middle;\n",
       "    }\n",
       "\n",
       "    .dataframe tbody tr th {\n",
       "        vertical-align: top;\n",
       "    }\n",
       "\n",
       "    .dataframe thead th {\n",
       "        text-align: right;\n",
       "    }\n",
       "</style>\n",
       "<table border=\"1\" class=\"dataframe\">\n",
       "  <thead>\n",
       "    <tr style=\"text-align: right;\">\n",
       "      <th></th>\n",
       "      <th>dist</th>\n",
       "    </tr>\n",
       "  </thead>\n",
       "  <tbody>\n",
       "    <tr>\n",
       "      <th>0</th>\n",
       "      <td>2</td>\n",
       "    </tr>\n",
       "    <tr>\n",
       "      <th>1</th>\n",
       "      <td>10</td>\n",
       "    </tr>\n",
       "    <tr>\n",
       "      <th>2</th>\n",
       "      <td>4</td>\n",
       "    </tr>\n",
       "    <tr>\n",
       "      <th>3</th>\n",
       "      <td>22</td>\n",
       "    </tr>\n",
       "    <tr>\n",
       "      <th>4</th>\n",
       "      <td>16</td>\n",
       "    </tr>\n",
       "  </tbody>\n",
       "</table>\n",
       "</div>"
      ],
      "text/plain": [
       "   dist\n",
       "0     2\n",
       "1    10\n",
       "2     4\n",
       "3    22\n",
       "4    16"
      ]
     },
     "execution_count": 4,
     "metadata": {},
     "output_type": "execute_result"
    }
   ],
   "source": [
    "y = origin[['dist']]\n",
    "y.head()\n"
   ]
  },
  {
   "cell_type": "code",
   "execution_count": 5,
   "metadata": {},
   "outputs": [
    {
     "data": {
      "text/plain": [
       "((35, 2), (15, 2), (35, 1), (15, 1))"
      ]
     },
     "execution_count": 5,
     "metadata": {},
     "output_type": "execute_result"
    }
   ],
   "source": [
    "x_train, x_test, y_train, y_test = train_test_split(x, y, test_size=0.3, random_state=123)\n",
    "x_train.shape, x_test.shape, y_train.shape, y_test.shape\n"
   ]
  },
  {
   "cell_type": "code",
   "execution_count": 6,
   "metadata": {},
   "outputs": [
    {
     "name": "stdout",
     "output_type": "stream",
     "text": [
      "계수:  [[0.73773403 0.09986278]]\n",
      "절편:  [4.70067321]\n",
      "훈련 데이터 설명력:  0.5941347702404498\n",
      "검증 데이터 설명력:  0.818350403785495\n"
     ]
    }
   ],
   "source": [
    "model = LinearRegression()\n",
    "fit = model.fit(x_train, y_train)\n",
    "\n",
    "print(\"계수: \", fit.coef_)\n",
    "print(\"절편: \", fit.intercept_)\n",
    "print(\"훈련 데이터 설명력: \", fit.score(x_train, y_train))\n",
    "print(\"검증 데이터 설명력: \", fit.score(x_test, y_test))"
   ]
  },
  {
   "cell_type": "code",
   "execution_count": 7,
   "metadata": {},
   "outputs": [
    {
     "data": {
      "text/plain": [
       "array([ 9.24941376, 22.06429118, 42.06928848, 85.55825922, 38.23580838,\n",
       "       50.33542533, 31.16802484, 54.76808209, 42.06928848, 22.06429118,\n",
       "       34.60205383, 79.92724915, 14.75808748, 38.23580838, 74.49596463,\n",
       "       16.99376316, 31.16802484, 54.76808209, 27.9337214 , 69.26440567,\n",
       "       38.23580838, 54.76808209, 59.40046439, 24.89914351, 50.33542533,\n",
       "       50.33542533, 34.60205383, 59.40046439, 34.60205383, 31.16802484,\n",
       "       59.40046439, 50.33542533, 46.10249413, 14.75808748, 79.92724915])"
      ]
     },
     "execution_count": 7,
     "metadata": {},
     "output_type": "execute_result"
    }
   ],
   "source": [
    "y_train_pred = fit.predict(x_train)\n",
    "y_train_pred = y_train_pred.reshape(-1)\n",
    "y_train_pred"
   ]
  },
  {
   "cell_type": "code",
   "execution_count": 8,
   "metadata": {},
   "outputs": [
    {
     "data": {
      "text/plain": [
       "array([24.89914351, 27.9337214 , 46.10249413, 79.92724915, 31.16802484,\n",
       "        9.24941376, 59.40046439, 27.9337214 , 46.10249413, 22.06429118,\n",
       "       34.60205383, 79.92724915, 27.9337214 , 59.40046439, 19.42916439])"
      ]
     },
     "execution_count": 8,
     "metadata": {},
     "output_type": "execute_result"
    }
   ],
   "source": [
    "y_test_pred = fit.predict(x_test)\n",
    "y_test_pred = y_test_pred.reshape(-1)\n",
    "y_test_pred"
   ]
  },
  {
   "cell_type": "code",
   "execution_count": 9,
   "metadata": {},
   "outputs": [
    {
     "name": "stdout",
     "output_type": "stream",
     "text": [
      "훈련 데이터 설명력:  0.5941347702404498\n",
      "검증 데이터 설명력:  0.818350403785495\n"
     ]
    }
   ],
   "source": [
    "\n",
    "print(\"훈련 데이터 설명력: \", fit.score(x_train, y_train))\n",
    "print(\"검증 데이터 설명력: \", fit.score(x_test, y_test))"
   ]
  },
  {
   "cell_type": "code",
   "execution_count": 10,
   "metadata": {},
   "outputs": [
    {
     "name": "stdout",
     "output_type": "stream",
     "text": [
      "훈련 데이터 설명력:  0.5941347702404498\n",
      "검증 데이터 설명력:  0.818350403785495\n"
     ]
    }
   ],
   "source": [
    "print(\"훈련 데이터 설명력: \", r2_score(y_train, y_train_pred))\n",
    "print(\"검증 데이터 설명력: \", r2_score(y_test, y_test_pred))"
   ]
  },
  {
   "cell_type": "markdown",
   "metadata": {},
   "source": [
    "| 종류   | 이름                             | 한글명            | 잔차계산 | 이상치에 영향 여부 |\n",
    "|---|---|---|---|---|\n",
    "| MAE  | Mean Absolute Error            | 평균절대오차         | 절대값  | Yes        |\n",
    "| MSE  | Mean Squared Error             | 평균제곱오차         | 제곱값  | No         |\n",
    "| RMSE | Root Mean Squared Error        | 평균오차           | 제곱값  | No         |\n",
    "| MAPE | Mean Absolute Percentage Error | 평균 절대 백분 오차 비율 | 절대값  | Yes        |\n",
    "| MPE  | Mean Percentage Error          | 평균 비율 오차       | N/A  | Yes        |"
   ]
  },
  {
   "cell_type": "markdown",
   "metadata": {},
   "source": [
    "MAE는 절대값을 취하는 지표이기에 실제보다 낮은 값(underperformance)인지 큰 (overperformance)값인지 알 수 없다.\n",
    "\n"
   ]
  },
  {
   "cell_type": "code",
   "execution_count": 11,
   "metadata": {},
   "outputs": [
    {
     "name": "stdout",
     "output_type": "stream",
     "text": [
      "훈련 데이터 MAE:  11.606654218318873\n",
      "검증 데이터 MAE:  9.579510632066908\n"
     ]
    }
   ],
   "source": [
    "print(\"훈련 데이터 MAE: \", mean_absolute_error(y_train, y_train_pred))\n",
    "print(\"검증 데이터 MAE: \", mean_absolute_error(y_test, y_test_pred))"
   ]
  },
  {
   "cell_type": "markdown",
   "metadata": {},
   "source": [
    "MSE .( = 특이치에 민감함)"
   ]
  },
  {
   "cell_type": "code",
   "execution_count": 12,
   "metadata": {},
   "outputs": [
    {
     "name": "stdout",
     "output_type": "stream",
     "text": [
      "훈련 데이터 MSE:  257.54915338176914\n",
      "검증 데이터 MSE:  124.43723939078457\n"
     ]
    }
   ],
   "source": [
    "print(\"훈련 데이터 MSE: \", mean_squared_error(y_train, y_train_pred))\n",
    "print(\"검증 데이터 MSE: \", mean_squared_error(y_test, y_test_pred))"
   ]
  },
  {
   "cell_type": "markdown",
   "metadata": {},
   "source": [
    "RMSE\n",
    "\n",
    "MSE를 구한 값에 루트를 씌운다.\n",
    "\n",
    "오류 지표를 실제 값과 유사한 단위로 변환하여 해석을 쉽게 한다.\n",
    "\n"
   ]
  },
  {
   "cell_type": "code",
   "execution_count": 13,
   "metadata": {},
   "outputs": [
    {
     "name": "stdout",
     "output_type": "stream",
     "text": [
      "훈련 데이터 RMSE:  16.048338025533024\n",
      "검증 데이터 RMSE:  11.155144077544879\n"
     ]
    }
   ],
   "source": [
    "print(\"훈련 데이터 RMSE: \", np.sqrt(mean_squared_error(y_train, y_train_pred)))\n",
    "print(\"검증 데이터 RMSE: \", np.sqrt(mean_squared_error(y_test, y_test_pred)))"
   ]
  },
  {
   "cell_type": "markdown",
   "metadata": {},
   "source": [
    "\n",
    "MAPE  (Mean Absolute Percentage Error) : 평균 절대 백분오차 비율\n",
    "\n",
    "MAE를 퍼센트로 변환한 것이다.\n",
    "\n",
    "MAE와 동일하게 MSE보다 이상치에 민감하며 실제값보다 낮은 값인지 높은 값인지 알 수 없다.\n",
    "\n",
    "모델에 대한 편향이 있다.(이를 대응하기 위해 MPE도 추가로 확인하는 것을 추천)\n",
    "\n"
   ]
  },
  {
   "cell_type": "code",
   "execution_count": 14,
   "metadata": {},
   "outputs": [
    {
     "name": "stdout",
     "output_type": "stream",
     "text": [
      "훈련 데이터 MAPE:  98.62187448277137\n",
      "검증 데이터 MAPE:  202.18312156089837\n"
     ]
    }
   ],
   "source": [
    "# API로 제공되는 기능이 아니고, 직접 계산해야 하기 때문에 관측치와 예측치의 데이터 타입이 일치해야 한다.\n",
    "# -> numpy 배열 혹은 Series 타입으로 통일해야 한다.\n",
    "print(\"훈련 데이터 MAPE: \", np.mean(np.abs((y_train.values - y_train_pred) / y_train.values) * 100))\n",
    "print(\"검증 데이터 MAPE: \", np.mean(np.abs((y_test.values - y_test_pred) / y_test.values) * 100))"
   ]
  },
  {
   "cell_type": "markdown",
   "metadata": {},
   "source": [
    "MPE  (Mean Percentage Error) : 평균 비율 오차\n",
    "\n",
    "MAPE와 비슷하지만 MAPE에서 절대값을 제외한 지표다.\n",
    "\n",
    "장점은 모델이 실제값보다 낮은 값인지 큰 값인지 판단 할 수 있다.\n",
    "\n"
   ]
  },
  {
   "cell_type": "code",
   "execution_count": 15,
   "metadata": {},
   "outputs": [
    {
     "name": "stdout",
     "output_type": "stream",
     "text": [
      "훈련 데이터 MPE:  -60.12543532614601\n",
      "검증 데이터 MPE:  -157.06332774885405\n"
     ]
    }
   ],
   "source": [
    "# API로 제공되는 기능이 아니고, 직접 계산해야 하기 때문에 관측치와 예측치의 데이터 타입이 일치해야 한다.\n",
    "# -> numpy 배열 혹은 Series 타입으로 통일해야 한다.\n",
    "print(\"훈련 데이터 MPE: \", np.mean((y_train.values - y_train_pred) / y_train.values * 100))\n",
    "print(\"검증 데이터 MPE: \", np.mean((y_test.values - y_test_pred) / y_test.values * 100))\n"
   ]
  },
  {
   "cell_type": "code",
   "execution_count": null,
   "metadata": {},
   "outputs": [],
   "source": []
  }
 ],
 "metadata": {
  "kernelspec": {
   "display_name": "Python 3",
   "language": "python",
   "name": "python3"
  },
  "language_info": {
   "codemirror_mode": {
    "name": "ipython",
    "version": 3
   },
   "file_extension": ".py",
   "mimetype": "text/x-python",
   "name": "python",
   "nbconvert_exporter": "python",
   "pygments_lexer": "ipython3",
   "version": "3.11.5"
  },
  "orig_nbformat": 4
 },
 "nbformat": 4,
 "nbformat_minor": 2
}
