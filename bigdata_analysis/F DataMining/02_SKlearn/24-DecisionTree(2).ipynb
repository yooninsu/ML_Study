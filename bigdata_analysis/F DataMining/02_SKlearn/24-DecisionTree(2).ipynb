{
 "cells": [
  {
   "cell_type": "markdown",
   "metadata": {},
   "source": [
    "# 의사결정트리 (2)\n",
    "\n",
    "## 개요\n",
    "\n",
    "과거에 수집된 데이터들을 분석하여 이들 사이에 존재하는 패턴(범주별 특성)을 속성으로 나타내는 분류 모형\n",
    "- 새로운 데이터에 대한 분류\n",
    "- 해당 범주의 값을 예측\n",
    "- 데이터로부터 트리 구조의 일반화된 지식을 추출\n",
    "\n",
    "## 의사결정트리 유형\n",
    "\n",
    "1. 범주형: 분류트리\n",
    "2. 연속형: 회귀트리\n",
    "\n",
    "## 의사결정트리 구성\n",
    "\n",
    "대표적으로 노드(Node), 가지(Branch), 깊이(Depth)로 구성\n",
    "\n",
    "-  Root Node: 시작점\n",
    "- Child Node:  하나 이상의 노드로부터 분리되어 나간 2개 이상의 노드\n",
    "- Parent Node: 특정 노드의 상위 노드\n",
    "- Terminal Node: 더이상 자식을 갖지 않는 노드\n",
    "- Internal Node: 부모와 자식을 모두 갖는 노드"
   ]
  },
  {
   "cell_type": "code",
   "execution_count": null,
   "metadata": {},
   "outputs": [],
   "source": []
  }
 ],
 "metadata": {
  "language_info": {
   "name": "python"
  }
 },
 "nbformat": 4,
 "nbformat_minor": 2
}
