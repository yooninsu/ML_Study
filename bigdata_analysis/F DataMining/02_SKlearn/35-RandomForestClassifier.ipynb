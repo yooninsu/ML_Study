{
 "cells": [
  {
   "cell_type": "code",
   "execution_count": 1,
   "metadata": {},
   "outputs": [
    {
     "ename": "ImportError",
     "evalue": "cannot import name 'if_delegate_has_method' from 'sklearn.utils.metaestimators' (c:\\Users\\yis82\\AppData\\Local\\Programs\\Python\\Python39\\lib\\site-packages\\sklearn\\utils\\metaestimators.py)",
     "output_type": "error",
     "traceback": [
      "\u001b[1;31m---------------------------------------------------------------------------\u001b[0m",
      "\u001b[1;31mImportError\u001b[0m                               Traceback (most recent call last)",
      "\u001b[1;32mc:\\Users\\yis82\\OneDrive\\Desktop\\bigdata_analysis\\F DataMining\\02_SKlearn\\35-RandomForestClassifier.ipynb Cell 1\u001b[0m line \u001b[0;36m1\n\u001b[0;32m      <a href='vscode-notebook-cell:/c%3A/Users/yis82/OneDrive/Desktop/bigdata_analysis/F%20DataMining/02_SKlearn/35-RandomForestClassifier.ipynb#W0sZmlsZQ%3D%3D?line=7'>8</a>\u001b[0m \u001b[39mfrom\u001b[39;00m \u001b[39msklearn\u001b[39;00m\u001b[39m.\u001b[39;00m\u001b[39mmetrics\u001b[39;00m \u001b[39mimport\u001b[39;00m accuracy_score\n\u001b[0;32m      <a href='vscode-notebook-cell:/c%3A/Users/yis82/OneDrive/Desktop/bigdata_analysis/F%20DataMining/02_SKlearn/35-RandomForestClassifier.ipynb#W0sZmlsZQ%3D%3D?line=8'>9</a>\u001b[0m \u001b[39mfrom\u001b[39;00m \u001b[39msklearn\u001b[39;00m\u001b[39m.\u001b[39;00m\u001b[39mmodel_selection\u001b[39;00m \u001b[39mimport\u001b[39;00m GridSearchCV\n\u001b[1;32m---> <a href='vscode-notebook-cell:/c%3A/Users/yis82/OneDrive/Desktop/bigdata_analysis/F%20DataMining/02_SKlearn/35-RandomForestClassifier.ipynb#W0sZmlsZQ%3D%3D?line=10'>11</a>\u001b[0m \u001b[39mfrom\u001b[39;00m \u001b[39mimblearn\u001b[39;00m\u001b[39m.\u001b[39;00m\u001b[39munder_sampling\u001b[39;00m \u001b[39mimport\u001b[39;00m RandomUnderSampler\n\u001b[0;32m     <a href='vscode-notebook-cell:/c%3A/Users/yis82/OneDrive/Desktop/bigdata_analysis/F%20DataMining/02_SKlearn/35-RandomForestClassifier.ipynb#W0sZmlsZQ%3D%3D?line=11'>12</a>\u001b[0m \u001b[39mfrom\u001b[39;00m \u001b[39mimblearn\u001b[39;00m\u001b[39m.\u001b[39;00m\u001b[39mover_sampling\u001b[39;00m \u001b[39mimport\u001b[39;00m RandomOverSampler\n\u001b[0;32m     <a href='vscode-notebook-cell:/c%3A/Users/yis82/OneDrive/Desktop/bigdata_analysis/F%20DataMining/02_SKlearn/35-RandomForestClassifier.ipynb#W0sZmlsZQ%3D%3D?line=12'>13</a>\u001b[0m \u001b[39mfrom\u001b[39;00m \u001b[39mimblearn\u001b[39;00m\u001b[39m.\u001b[39;00m\u001b[39mover_sampling\u001b[39;00m \u001b[39mimport\u001b[39;00m SMOTE\n",
      "File \u001b[1;32mc:\\Users\\yis82\\AppData\\Local\\Programs\\Python\\Python39\\lib\\site-packages\\imblearn\\__init__.py:38\u001b[0m\n\u001b[0;32m     35\u001b[0m \u001b[39mimport\u001b[39;00m \u001b[39mtypes\u001b[39;00m\n\u001b[0;32m     37\u001b[0m \u001b[39mfrom\u001b[39;00m \u001b[39m.\u001b[39;00m \u001b[39mimport\u001b[39;00m combine\n\u001b[1;32m---> 38\u001b[0m \u001b[39mfrom\u001b[39;00m \u001b[39m.\u001b[39;00m \u001b[39mimport\u001b[39;00m ensemble\n\u001b[0;32m     39\u001b[0m \u001b[39mfrom\u001b[39;00m \u001b[39m.\u001b[39;00m \u001b[39mimport\u001b[39;00m exceptions\n\u001b[0;32m     40\u001b[0m \u001b[39mfrom\u001b[39;00m \u001b[39m.\u001b[39;00m \u001b[39mimport\u001b[39;00m metrics\n",
      "File \u001b[1;32mc:\\Users\\yis82\\AppData\\Local\\Programs\\Python\\Python39\\lib\\site-packages\\imblearn\\ensemble\\__init__.py:6\u001b[0m\n\u001b[0;32m      1\u001b[0m \u001b[39m\"\"\"\u001b[39;00m\n\u001b[0;32m      2\u001b[0m \u001b[39mThe :mod:`imblearn.ensemble` module include methods generating\u001b[39;00m\n\u001b[0;32m      3\u001b[0m \u001b[39munder-sampled subsets combined inside an ensemble.\u001b[39;00m\n\u001b[0;32m      4\u001b[0m \u001b[39m\"\"\"\u001b[39;00m\n\u001b[1;32m----> 6\u001b[0m \u001b[39mfrom\u001b[39;00m \u001b[39m.\u001b[39;00m\u001b[39m_easy_ensemble\u001b[39;00m \u001b[39mimport\u001b[39;00m EasyEnsembleClassifier\n\u001b[0;32m      7\u001b[0m \u001b[39mfrom\u001b[39;00m \u001b[39m.\u001b[39;00m\u001b[39m_bagging\u001b[39;00m \u001b[39mimport\u001b[39;00m BalancedBaggingClassifier\n\u001b[0;32m      8\u001b[0m \u001b[39mfrom\u001b[39;00m \u001b[39m.\u001b[39;00m\u001b[39m_forest\u001b[39;00m \u001b[39mimport\u001b[39;00m BalancedRandomForestClassifier\n",
      "File \u001b[1;32mc:\\Users\\yis82\\AppData\\Local\\Programs\\Python\\Python39\\lib\\site-packages\\imblearn\\ensemble\\_easy_ensemble.py:21\u001b[0m\n\u001b[0;32m     19\u001b[0m \u001b[39mfrom\u001b[39;00m \u001b[39m.\u001b[39;00m\u001b[39m.\u001b[39;00m\u001b[39mutils\u001b[39;00m\u001b[39m.\u001b[39;00m\u001b[39m_docstring\u001b[39;00m \u001b[39mimport\u001b[39;00m _random_state_docstring\n\u001b[0;32m     20\u001b[0m \u001b[39mfrom\u001b[39;00m \u001b[39m.\u001b[39;00m\u001b[39m.\u001b[39;00m\u001b[39mutils\u001b[39;00m\u001b[39m.\u001b[39;00m\u001b[39m_validation\u001b[39;00m \u001b[39mimport\u001b[39;00m _deprecate_positional_args\n\u001b[1;32m---> 21\u001b[0m \u001b[39mfrom\u001b[39;00m \u001b[39m.\u001b[39;00m\u001b[39m.\u001b[39;00m\u001b[39mpipeline\u001b[39;00m \u001b[39mimport\u001b[39;00m Pipeline\n\u001b[0;32m     23\u001b[0m MAX_INT \u001b[39m=\u001b[39m np\u001b[39m.\u001b[39miinfo(np\u001b[39m.\u001b[39mint32)\u001b[39m.\u001b[39mmax\n\u001b[0;32m     26\u001b[0m \u001b[39m@Substitution\u001b[39m(\n\u001b[0;32m     27\u001b[0m     sampling_strategy\u001b[39m=\u001b[39mBaseUnderSampler\u001b[39m.\u001b[39m_sampling_strategy_docstring,\n\u001b[0;32m     28\u001b[0m     n_jobs\u001b[39m=\u001b[39m_n_jobs_docstring,\n\u001b[0;32m     29\u001b[0m     random_state\u001b[39m=\u001b[39m_random_state_docstring,\n\u001b[0;32m     30\u001b[0m )\n\u001b[0;32m     31\u001b[0m \u001b[39mclass\u001b[39;00m \u001b[39mEasyEnsembleClassifier\u001b[39;00m(BaggingClassifier):\n",
      "File \u001b[1;32mc:\\Users\\yis82\\AppData\\Local\\Programs\\Python\\Python39\\lib\\site-packages\\imblearn\\pipeline.py:18\u001b[0m\n\u001b[0;32m     16\u001b[0m \u001b[39mfrom\u001b[39;00m \u001b[39msklearn\u001b[39;00m\u001b[39m.\u001b[39;00m\u001b[39mbase\u001b[39;00m \u001b[39mimport\u001b[39;00m clone\n\u001b[0;32m     17\u001b[0m \u001b[39mfrom\u001b[39;00m \u001b[39msklearn\u001b[39;00m\u001b[39m.\u001b[39;00m\u001b[39mutils\u001b[39;00m \u001b[39mimport\u001b[39;00m _print_elapsed_time\n\u001b[1;32m---> 18\u001b[0m \u001b[39mfrom\u001b[39;00m \u001b[39msklearn\u001b[39;00m\u001b[39m.\u001b[39;00m\u001b[39mutils\u001b[39;00m\u001b[39m.\u001b[39;00m\u001b[39mmetaestimators\u001b[39;00m \u001b[39mimport\u001b[39;00m if_delegate_has_method\n\u001b[0;32m     19\u001b[0m \u001b[39mfrom\u001b[39;00m \u001b[39msklearn\u001b[39;00m\u001b[39m.\u001b[39;00m\u001b[39mutils\u001b[39;00m\u001b[39m.\u001b[39;00m\u001b[39mvalidation\u001b[39;00m \u001b[39mimport\u001b[39;00m check_memory\n\u001b[0;32m     21\u001b[0m __all__ \u001b[39m=\u001b[39m [\u001b[39m\"\u001b[39m\u001b[39mPipeline\u001b[39m\u001b[39m\"\u001b[39m, \u001b[39m\"\u001b[39m\u001b[39mmake_pipeline\u001b[39m\u001b[39m\"\u001b[39m]\n",
      "\u001b[1;31mImportError\u001b[0m: cannot import name 'if_delegate_has_method' from 'sklearn.utils.metaestimators' (c:\\Users\\yis82\\AppData\\Local\\Programs\\Python\\Python39\\lib\\site-packages\\sklearn\\utils\\metaestimators.py)"
     ]
    }
   ],
   "source": [
    "from matplotlib import pyplot as plt\n",
    "import seaborn as sb\n",
    "import pandas as pd\n",
    "from sklearn.ensemble import RandomForestClassifier\n",
    "from sklearn.preprocessing import StandardScaler\n",
    "from sklearn.model_selection import train_test_split\n",
    "from sklearn.model_selection import cross_val_score, cross_validate\n",
    "from sklearn.metrics import accuracy_score\n",
    "from sklearn.model_selection import GridSearchCV\n",
    "\n",
    "from imblearn.under_sampling import RandomUnderSampler\n",
    "from imblearn.over_sampling import RandomOverSampler\n",
    "from imblearn.over_sampling import SMOTE"
   ]
  },
  {
   "cell_type": "code",
   "execution_count": null,
   "metadata": {},
   "outputs": [],
   "source": [
    "origin = pd.read_excel(\"https://data.hossam.kr/G02/smoker_status.xlsx\")"
   ]
  },
  {
   "cell_type": "markdown",
   "metadata": {},
   "source": [
    "| 필드명 | 설명  |\n",
    "|---|---|\n",
    "| id | 고유 식별 번호 |\n",
    "| age | 나이 |\n",
    "| height(cm) | 키 |\n",
    "| weight(kg) | 몸무게 |\n",
    "| waist(cm) | 허리둘레 |\n",
    "| eyesight(left) | 시력(왼쪽) |\n",
    "| eyesight(right) | 시력(오른쪽) |\n",
    "| hearing(left) | 청력(왼쪽) |\n",
    "| hearing(right) | 청력(오른쪽) |\n",
    "| systolic | 수축기 혈압(mmHg 단위) |\n",
    "| relaxation | 휴식 혈압(mmHg 단위) |\n",
    "| fasting blood sugar | 공복 혈당 수치(mg/dL 단위) |\n",
    "| Cholesterol | 콜레스테롤 수치(mg/dL 단위) |\n",
    "| triglyceride | 중성지방 수치(mg/dL 단위) |\n",
    "| HDL | 고밀도 지단백 수치 (mg/dL) |\n",
    "| LDL | 저밀도 지단백 수치 (mg/dL) |\n",
    "| hemoglobin | 헤모글로빈 수치(g/dL) |\n",
    "| Urine protein | 소변내 단백질 수준 |\n",
    "| serum creatinine | 혈청 크레아티닌 수치(mg/dL) |\n",
    "| AST | 아스파르트 아미노전이효소(AST) 수준 |\n",
    "| ALT | 알라닌아미노 전이효소 수준 |\n",
    "| Gtp | 감마-글루타밀 전이효소 수준 |\n",
    "| dental caries | 1인당 치아우식증 유무를 나타내는 값(0: 없음, 1: 있음) |\n",
    "| smoking | 흡연상태(0: 비흡연자, 1: 흡연자) |"
   ]
  },
  {
   "cell_type": "markdown",
   "metadata": {},
   "source": [
    "## 03. 데이터 전처리\n",
    "### 데이터 전처리"
   ]
  },
  {
   "cell_type": "code",
   "execution_count": null,
   "metadata": {},
   "outputs": [
    {
     "name": "stdout",
     "output_type": "stream",
     "text": [
      "(159256, 23)\n",
      "age                    False\n",
      "height(cm)             False\n",
      "weight(kg)             False\n",
      "waist(cm)              False\n",
      "eyesight(left)         False\n",
      "eyesight(right)        False\n",
      "hearing(left)          False\n",
      "hearing(right)         False\n",
      "systolic               False\n",
      "relaxation             False\n",
      "fasting blood sugar    False\n",
      "Cholesterol            False\n",
      "triglyceride           False\n",
      "HDL                    False\n",
      "LDL                    False\n",
      "hemoglobin             False\n",
      "Urine protein          False\n",
      "serum creatinine       False\n",
      "AST                    False\n",
      "ALT                    False\n",
      "Gtp                    False\n",
      "dental caries          False\n",
      "smoking                False\n",
      "dtype: bool\n"
     ]
    }
   ],
   "source": [
    "print(origin.shape)\n",
    "print(origin.isnull().any())"
   ]
  },
  {
   "cell_type": "code",
   "execution_count": null,
   "metadata": {},
   "outputs": [
    {
     "name": "stdout",
     "output_type": "stream",
     "text": [
      "<class 'pandas.core.frame.DataFrame'>\n",
      "RangeIndex: 159256 entries, 0 to 159255\n",
      "Data columns (total 23 columns):\n",
      " #   Column               Non-Null Count   Dtype  \n",
      "---  ------               --------------   -----  \n",
      " 0   age                  159256 non-null  int64  \n",
      " 1   height(cm)           159256 non-null  int64  \n",
      " 2   weight(kg)           159256 non-null  int64  \n",
      " 3   waist(cm)            159256 non-null  float64\n",
      " 4   eyesight(left)       159256 non-null  float64\n",
      " 5   eyesight(right)      159256 non-null  float64\n",
      " 6   hearing(left)        159256 non-null  int64  \n",
      " 7   hearing(right)       159256 non-null  int64  \n",
      " 8   systolic             159256 non-null  int64  \n",
      " 9   relaxation           159256 non-null  int64  \n",
      " 10  fasting blood sugar  159256 non-null  int64  \n",
      " 11  Cholesterol          159256 non-null  int64  \n",
      " 12  triglyceride         159256 non-null  int64  \n",
      " 13  HDL                  159256 non-null  int64  \n",
      " 14  LDL                  159256 non-null  int64  \n",
      " 15  hemoglobin           159256 non-null  float64\n",
      " 16  Urine protein        159256 non-null  int64  \n",
      " 17  serum creatinine     159256 non-null  float64\n",
      " 18  AST                  159256 non-null  int64  \n",
      " 19  ALT                  159256 non-null  int64  \n",
      " 20  Gtp                  159256 non-null  int64  \n",
      " 21  dental caries        159256 non-null  int64  \n",
      " 22  smoking              159256 non-null  int64  \n",
      "dtypes: float64(5), int64(18)\n",
      "memory usage: 27.9 MB\n"
     ]
    }
   ],
   "source": [
    "origin.info()"
   ]
  },
  {
   "cell_type": "markdown",
   "metadata": {},
   "source": [
    "### 목적변수 비율 확인"
   ]
  },
  {
   "cell_type": "code",
   "execution_count": null,
   "metadata": {},
   "outputs": [
    {
     "data": {
      "image/png": "[encoded data removed]",
      "text/plain": [
       "<Figure size 500x500 with 1 Axes>"
      ]
     },
     "metadata": {},
     "output_type": "display_data"
    }
   ],
   "source": [
    "plt.figure(figsize=(5,5))\n",
    "    plt.pie(origin['smoking'].value_counts(), labels=['non-smoker', 'smoker'], autopct = \"%1.1f%%\")\n",
    "plt.show()\n",
    "plt.close()"
   ]
  },
  {
   "cell_type": "code",
   "execution_count": null,
   "metadata": {},
   "outputs": [
    {
     "data": {
      "text/plain": [
       "((159256, 22), (159256,))"
      ]
     },
     "execution_count": 9,
     "metadata": {},
     "output_type": "execute_result"
    }
   ],
   "source": [
    "x = origin.drop(['smoking'], axis = 1)\n",
    "y = origin['smoking']\n",
    "x.shape, y.shape"
   ]
  },
  {
   "cell_type": "markdown",
   "metadata": {},
   "source": [
    "### 훈련, 검증 데이터 분할"
   ]
  },
  {
   "cell_type": "code",
   "execution_count": null,
   "metadata": {},
   "outputs": [
    {
     "data": {
      "text/plain": [
       "((119442, 22), (39814, 22), (119442,), (39814,))"
      ]
     },
     "execution_count": 13,
     "metadata": {},
     "output_type": "execute_result"
    }
   ],
   "source": [
    "x_train, x_test, y_train, y_test = train_test_split(x,y ,random_state= 111)\n",
    "x_train.shape, x_test.shape, y_train.shape, y_test.shape"
   ]
  },
  {
   "cell_type": "markdown",
   "metadata": {},
   "source": [
    "### 데이터 불균형 해소"
   ]
  },
  {
   "cell_type": "code",
   "execution_count": null,
   "metadata": {},
   "outputs": [],
   "source": [
    "smote_sampler = SMOTE(sampling_strategy='minority', random_state=111)\n",
    "x_sm, y_sm = smote_sampler.fit_resample(x_train, y_train)\n"
   ]
  },
  {
   "cell_type": "code",
   "execution_count": null,
   "metadata": {},
   "outputs": [
    {
     "name": "stdout",
     "output_type": "stream",
     "text": [
      "최적의 하이퍼 파라미터: {'max_depth': 100, 'n_estimators': 100}\n",
      "최적의 모델 평균 성능(훈련데이터):  0.7981579071051248\n",
      "최종 모델의 성능(테스트 데이터):  0.7733711759682523\n"
     ]
    }
   ],
   "source": [
    "rfc = RandomForestClassifier(random_state=111)\n",
    "\n",
    "params = {\n",
    "        \"n_estimators\" : [20, 50, 100],\n",
    "        'max_depth' : [5, 30, 100]\n",
    "}\n",
    "\n",
    "grid = GridSearchCV(rfc, param_grid=params, cv=5, n_jobs = -1)\n",
    "grid.fit(x_sm,y_sm)\n",
    "\n",
    "print(\"최적의 하이퍼 파라미터:\", grid.best_params_)\n",
    "print(\"최적의 모델 평균 성능(훈련데이터): \", grid.best_score_)\n",
    "\n",
    "best_model = grid.best_estimator_\n",
    "y_pred = best_model.predict(x_test)\n",
    "print('최종 모델의 성능(테스트 데이터): ', accuracy_score(y_test,y_pred))"
   ]
  },
  {
   "cell_type": "markdown",
   "metadata": {},
   "source": [
    "## 04. 훈련모델 적합\n",
    "\n",
    "### RandomForestClassifier 하이퍼파라미터\n",
    "\n",
    "| 파라미터 | 설명 |\n",
    "| -- | --- |\n",
    "| n_estimators | 결정트리의 갯수를 지정 (기본값 = 10) 성능에 비례, 속도에 반비례 |\n",
    "| min_samples_split | 노드를 분할하기 위한 최소한의 샘플 데이터 수 과적합을 제어하는데 사용(기본값 = 2), 값이 작을수록 분할 노드가 증가하여 과적합 가능성이 높아짐|\n",
    "| min_samples_leaf| 리프노드가 되기 위한 최소한의 샘플 데이터 수, 과적합을 제어하는데 사용|\n",
    "| max_features | 최적의 분할을 이해 고려할 최대 feature 개수(기본값=auto), int형일 경우 갯수, float형일 경우 비율, auto일 경우 전체 feature 만큼 선정|\n",
    "| max_depth | 트리의 최대 깊이 (기본값=None) |\n",
    "| max_leaf_nodes | 리프 노드의 최대 개수 |\n",
    "\n",
    "`max_depth` 가 "
   ]
  },
  {
   "cell_type": "code",
   "execution_count": null,
   "metadata": {},
   "outputs": [],
   "source": []
  }
 ],
 "metadata": {
  "kernelspec": {
   "display_name": "Python 3",
   "language": "python",
   "name": "python3"
  },
  "language_info": {
   "codemirror_mode": {
    "name": "ipython",
    "version": 3
   },
   "file_extension": ".py",
   "mimetype": "text/x-python",
   "name": "python",
   "nbconvert_exporter": "python",
   "pygments_lexer": "ipython3",
   "version": "3.9.13"
  }
 },
 "nbformat": 4,
 "nbformat_minor": 2
}
