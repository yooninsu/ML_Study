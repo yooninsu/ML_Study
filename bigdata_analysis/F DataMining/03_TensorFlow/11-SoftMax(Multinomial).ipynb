{
 "cells": [
  {
   "cell_type": "markdown",
   "metadata": {},
   "source": [
    "# 소프트맥스 회귀\n",
    "## 다항분류 (다중 클래스 분류)의 이해\n",
    "### 1) 다항 분류\n",
    "- 이진 분류: 두 개의 선택지 중 하나를 고르는 문제\n",
    "- 다항 분류: 세 개 이상의 선택지 중 하나를 고르는 문제\n",
    "### 2) 소프트맥스 함수\n",
    "- 다항 분류 활성화 함수\n",
    "- 뉴런의 출력값에 대하여 class 분류를 위하여 마지막 단계에서 출력값에 대한 정규화를 해주는 함수\n",
    "- 결과물의 수치의 합은 언제나 1.0이다.\n",
    "- 소프트맥스 함수의 출력값은 확률로 해석할 수 있다.\n",
    "\n",
    "    사진속 인물이 지금 슬픈 표정인지, 웃는 표정인지, 화난 표정인지 확률적으로 수치화한다고 했을때, 슬픔 (11%), 웃음 (29%), 화남(60%) 과같이 확률적 분류를 할 때 용이\n",
    "\n",
    "\n",
    "<img src=\"./img/softmax.png\" alt=\"Soft Max Algorithm\" width=\"1000\" height=\"400\">\n",
    "\n",
    "- exp(x)는 지수함수(Exponential Function)이다(e는 자연상수).\n",
    "- n은 출력층의 뉴런 수, yk는 그 중 k번째 출력을 뜻한다.\n",
    "\n"
   ]
  },
  {
   "cell_type": "code",
   "execution_count": 3,
   "metadata": {},
   "outputs": [],
   "source": [
    "import numpy as np\n",
    "from pandas import read_excel, DataFrame, pivot_table\n",
    "from matplotlib import pyplot as plt\n",
    "import seaborn as sb\n",
    "\n",
    "from sklearn.model_selection import train_test_split\n",
    "from sklearn.metrics import confusion_matrix\n",
    "\n",
    "from tensorflow.keras.models import Sequential\n",
    "from tensorflow.keras.layers import Dense\n",
    "from tensorflow.keras.callbacks import EarlyStopping, ReduceLROnPlateau\n",
    "from tensorflow.keras.utils import to_categorical"
   ]
  },
  {
   "cell_type": "markdown",
   "metadata": {},
   "source": [
    "## 02. 데이터셋 준비하기\n",
    "- 아이리스(붓꽃)의 꽃잎에 대한 각 부분의 너비와 길이등을 측정한 데이터이며 150개의 레코드로 구성.\n",
    "- 꽃받침의 길이, 너비, 꽃잎의 길이, 너비등을 토대로 3가지로 나뉘는 붗꽃의 종류를 분류하는 학습 모델을 구성할 수 있다"
   ]
  },
  {
   "cell_type": "code",
   "execution_count": 4,
   "metadata": {},
   "outputs": [],
   "source": [
    "origin = read_excel(\"https://data.hossam.kr/F03/iris.xlsx\")\n",
    "origin"
   ]
  },
  {
   "cell_type": "markdown",
   "metadata": {},
   "source": [
    "## 03. 데이터 전처리\n",
    "#### 결측치 확인\n"
   ]
  },
  {
   "cell_type": "code",
   "execution_count": 5,
   "metadata": {},
   "outputs": [
    {
     "data": {
      "text/plain": [
       "Sepal.Length    0\n",
       "Sepal.Width     0\n",
       "Petal.Length    0\n",
       "Petal.Width     0\n",
       "Species         0\n",
       "dtype: int64"
      ]
     },
     "execution_count": 5,
     "metadata": {},
     "output_type": "execute_result"
    }
   ],
   "source": [
    "origin.isna().sum()\n"
   ]
  },
  {
   "cell_type": "markdown",
   "metadata": {},
   "source": [
    "#### 종속변수 라벨링을 위해 값의 종류 확인"
   ]
  },
  {
   "cell_type": "code",
   "execution_count": 6,
   "metadata": {},
   "outputs": [
    {
     "name": "stdout",
     "output_type": "stream",
     "text": [
      "['setosa' 'versicolor' 'virginica']\n"
     ]
    }
   ],
   "source": [
    "uni = origin['Species'].unique()\n",
    "print(uni)"
   ]
  },
  {
   "cell_type": "markdown",
   "metadata": {},
   "source": []
  }
 ],
 "metadata": {
  "kernelspec": {
   "display_name": "Python 3",
   "language": "python",
   "name": "python3"
  },
  "language_info": {
   "codemirror_mode": {
    "name": "ipython",
    "version": 3
   },
   "file_extension": ".py",
   "mimetype": "text/x-python",
   "name": "python",
   "nbconvert_exporter": "python",
   "pygments_lexer": "ipython3",
   "version": "3.9.13"
  },
  "orig_nbformat": 4
 },
 "nbformat": 4,
 "nbformat_minor": 2
}
