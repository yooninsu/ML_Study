{
 "cells": [
  {
   "cell_type": "code",
   "execution_count": 1,
   "metadata": {},
   "outputs": [],
   "source": [
    "import tensorflow as tf"
   ]
  },
  {
   "cell_type": "markdown",
   "metadata": {},
   "source": [
    "## 02. 균등 분포 난수\n",
    "\n",
    "일반적으로 각 이벤트의 결과값을 알 수 없는 경우 미래에 발생할 이벤트의 결과값 \n",
    "가 각 예상되는 범위별로 균등한 확률로 일어날 것이라고 예상될 때 사용.\n",
    "\n",
    "### 1) 균등 분포 난수의 사용 예\n",
    "#### 주사위에 대한 확률\n",
    "- 200번을 던지고 201번째  주사위를 던진다고 했을 때 201번째 결과값은 앞의 1에서 200번까지 결과값에 영향을 받지 않는다.\n",
    "- 201번째 결과값이 1,2,3,4,5,6 각각의 결과값으로 나올 확률은 6분의 1이며 이는 앞의 1~200번째 결과값에 영향을 받아 줄어들거나 늘어나지 않는다는 것이다.\n",
    "- 이처럼 미래 결과값이 경험적으로 알 수 없을 상황에서 사용하는 것이 균등분포이다.\n",
    "### 2) 균등 분포 난수 실험\n",
    "#### 스칼라 형태의 균등 분포 난수\n"
   ]
  },
  {
   "cell_type": "code",
   "execution_count": 9,
   "metadata": {},
   "outputs": [
    {
     "name": "stdout",
     "output_type": "stream",
     "text": [
      "77\n"
     ]
    }
   ],
   "source": [
    "uni_rnd1 = tf.random.uniform(shape=[],minval = 0, maxval = 100, dtype= tf.int32)\n",
    "tf.print(uni_rnd1)"
   ]
  },
  {
   "cell_type": "markdown",
   "metadata": {},
   "source": [
    "#### 백터 형태의 균등 분포 난수"
   ]
  },
  {
   "cell_type": "code",
   "execution_count": 2,
   "metadata": {},
   "outputs": [
    {
     "name": "stdout",
     "output_type": "stream",
     "text": [
      "[95 7 13 29 74]\n"
     ]
    }
   ],
   "source": [
    "uni_rnd2 = tf.random.uniform(shape=[5], minval=0, maxval=100, dtype=tf.int32)\n",
    "tf.print(uni_rnd2)"
   ]
  },
  {
   "cell_type": "markdown",
   "metadata": {},
   "source": [
    "#### 행렬 형태의 균등 분포 난수"
   ]
  },
  {
   "cell_type": "code",
   "execution_count": 11,
   "metadata": {},
   "outputs": [
    {
     "name": "stdout",
     "output_type": "stream",
     "text": [
      "[[26 38 25]\n",
      " [28 74 98]]\n"
     ]
    }
   ],
   "source": [
    "uni_rnd3 = tf.random.uniform(shape=[2, 3], minval = 0, maxval = 100, dtype = tf.int32)\n",
    "tf.print(uni_rnd3)"
   ]
  },
  {
   "cell_type": "markdown",
   "metadata": {},
   "source": [
    "#### 텐서 형태의 균등 분포 난수"
   ]
  },
  {
   "cell_type": "code",
   "execution_count": 14,
   "metadata": {},
   "outputs": [
    {
     "name": "stdout",
     "output_type": "stream",
     "text": [
      "[[[37 28 26 89]\n",
      "  [31 47 2 19]\n",
      "  [96 31 30 64]]\n",
      "\n",
      " [[4 50 38 43]\n",
      "  [68 71 13 51]\n",
      "  [57 40 70 30]]]\n"
     ]
    }
   ],
   "source": [
    "uni_rnd4 = tf.random.uniform(shape=[2, 3 ,4], minval = 0, maxval = 100, dtype = tf.int32)\n",
    "tf.print(uni_rnd4)"
   ]
  },
  {
   "cell_type": "markdown",
   "metadata": {},
   "source": [
    "### 3) 렌덤값을 갖는 행렬 곱 예시\n",
    "#### 랜덤값을 갖는 3행2열의 행렬을 변수 x로 정의\n"
   ]
  },
  {
   "cell_type": "code",
   "execution_count": 15,
   "metadata": {},
   "outputs": [
    {
     "name": "stdout",
     "output_type": "stream",
     "text": [
      "[[0.783233047 0.339364886]\n",
      " [0.955718279 0.699849963]\n",
      " [0.326861501 0.758394361]]\n"
     ]
    }
   ],
   "source": [
    "x = tf.Variable(tf.random.uniform([3, 2]))\n",
    "tf.print(x)\n"
   ]
  },
  {
   "cell_type": "markdown",
   "metadata": {},
   "source": [
    "#### 랜덤값을 갖는 2행1열의 행렬을 변수 y로 정의"
   ]
  },
  {
   "cell_type": "code",
   "execution_count": 16,
   "metadata": {},
   "outputs": [
    {
     "name": "stdout",
     "output_type": "stream",
     "text": [
      "[[0.0527613163]\n",
      " [0.530131936]]\n"
     ]
    }
   ],
   "source": [
    "y = tf.Variable(tf.random.uniform([2, 1]))\n",
    "tf.print(y)\n"
   ]
  },
  {
   "cell_type": "markdown",
   "metadata": {},
   "source": [
    "#### 행렬곱에 대한 연산을 수행하는 노드 정의"
   ]
  },
  {
   "cell_type": "code",
   "execution_count": 17,
   "metadata": {},
   "outputs": [
    {
     "data": {
      "text/plain": [
       "<tf.Tensor: shape=(3, 1), dtype=float32, numpy=\n",
       "array([[0.22123258],\n",
       "       [0.42143777],\n",
       "       [0.41929471]], dtype=float32)>"
      ]
     },
     "execution_count": 17,
     "metadata": {},
     "output_type": "execute_result"
    }
   ],
   "source": [
    "expr = tf.matmul(x, y)\n",
    "expr"
   ]
  },
  {
   "cell_type": "markdown",
   "metadata": {},
   "source": [
    "## 03. 정규 분포 난수\n",
    "정규분포란 과거의 축적된 경험적 데이터를 이미 보유하고 있는 상태에서 이용하여 미래에 발생할 결과값 \n",
    "의 각 예상되는 범위별로 발생될 확률을 어느 정도 추정할 수 있을 때 사용\n",
    "\n",
    "### 1) 정규 분포 난수의 사용 예\n",
    "#### 매장의 매출액 예측\n",
    "- 이전 3개월의 매출이 2천만원, 2천백만원, 2천2백원 발생한 경우 평균이나 범위에 대한 예측이 가능하다.\n",
    "- 평균에 대한 예측 → 이번달 매출은 과거 3개월의 매출평균인 2천백만원으로 예측.\n",
    "- 범위에 대한 예측 → 최소 2천만원 ~  최대 2천2백만원까지 매출이 발생할 수 있다는 예상이 가능함.\n",
    "\n",
    "#### 로또 추첨\n",
    "- 64개의 공 중에서 하나를 랜덤으로 추출하면, 두 번째 랜덤 범위는 첫 번째 추출된 공을 제외한 범위 안에서 생성된다.\n",
    "- 만약 로또 추첨시 하나의 공을 뽑아 번호를 확인하고 그 공을 다시 추첨 대상에 포함시켰다면 균등분포 난수가 된다.\n",
    "### 2) 정규 분포 난수 실험\n",
    "정규 분포 난수를 생성할 때는 평균(mean)과 표준편차(stddev)를 지정해야 한다.\n",
    "\n",
    "#### 스칼라 형태의 정규 분포 난수"
   ]
  },
  {
   "cell_type": "code",
   "execution_count": 18,
   "metadata": {},
   "outputs": [
    {
     "name": "stdout",
     "output_type": "stream",
     "text": [
      "0.362656534\n"
     ]
    }
   ],
   "source": [
    "normal_rnd1 = tf.random.normal(shape=[], mean=0.0, stddev=1.0)\n",
    "tf.print(normal_rnd1)"
   ]
  },
  {
   "cell_type": "markdown",
   "metadata": {},
   "source": [
    "#### 백터 형태의 정규 분포 난수"
   ]
  },
  {
   "cell_type": "code",
   "execution_count": 39,
   "metadata": {},
   "outputs": [
    {
     "name": "stdout",
     "output_type": "stream",
     "text": [
      "[0.64469856 -0.791777074 0.0967347 2.36336136 0.117465913]\n"
     ]
    }
   ],
   "source": [
    "uni_rnd2 = tf.random.normal(shape=[5], mean=0.0, stddev=1.0)\n",
    "tf.print(uni_rnd2)\n"
   ]
  },
  {
   "cell_type": "markdown",
   "metadata": {},
   "source": [
    "#### 행렬 형태의 정규 분포 난수"
   ]
  },
  {
   "cell_type": "code",
   "execution_count": 40,
   "metadata": {},
   "outputs": [
    {
     "name": "stdout",
     "output_type": "stream",
     "text": [
      "[[0.474039 0.685015261 2.78343225]\n",
      " [-0.414915979 -0.659171522 0.639701843]]\n"
     ]
    }
   ],
   "source": [
    "normal_rnd3 = tf.random.normal(shape=[2,3], mean=0.0, stddev=1.0)\n",
    "tf.print(normal_rnd3)        "
   ]
  },
  {
   "cell_type": "markdown",
   "metadata": {},
   "source": [
    "#### 텐서 형태의 정규 분포 난수"
   ]
  },
  {
   "cell_type": "code",
   "execution_count": 41,
   "metadata": {},
   "outputs": [
    {
     "name": "stdout",
     "output_type": "stream",
     "text": [
      "[[[-0.164383128 -1.57331026 -0.167570159 -0.572207272]\n",
      "  [-0.0652373135 -0.461083472 0.300094098 -0.849888742]\n",
      "  [1.50635517 1.73133898 0.329100311 -1.48078549]]\n",
      "\n",
      " [[0.159701794 -0.192494929 -0.26984176 -0.583861291]\n",
      "  [-1.76132596 -0.348786175 -1.46203744 -0.848909795]\n",
      "  [0.176924393 0.745863318 1.73027587 -0.248933375]]]\n"
     ]
    }
   ],
   "source": [
    "normal_rnd4 = tf.random.normal(shape=[2,3,4], mean=0.0, stddev=1.0)\n",
    "tf.print(normal_rnd4)"
   ]
  },
  {
   "cell_type": "code",
   "execution_count": null,
   "metadata": {},
   "outputs": [],
   "source": []
  }
 ],
 "metadata": {
  "kernelspec": {
   "display_name": "Python 3",
   "language": "python",
   "name": "python3"
  },
  "language_info": {
   "codemirror_mode": {
    "name": "ipython",
    "version": 3
   },
   "file_extension": ".py",
   "mimetype": "text/x-python",
   "name": "python",
   "nbconvert_exporter": "python",
   "pygments_lexer": "ipython3",
   "version": "3.9.13"
  },
  "orig_nbformat": 4
 },
 "nbformat": 4,
 "nbformat_minor": 2
}
