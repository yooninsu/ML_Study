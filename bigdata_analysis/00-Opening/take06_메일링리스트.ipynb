{
 "cells": [
  {
   "cell_type": "code",
   "execution_count": 17,
   "metadata": {},
   "outputs": [],
   "source": [
    "import Sendmail \n",
    "import datetime as dt\n"
   ]
  },
  {
   "cell_type": "code",
   "execution_count": 18,
   "metadata": {},
   "outputs": [
    {
     "name": "stdout",
     "output_type": "stream",
     "text": [
      "2023 6 23\n"
     ]
    }
   ],
   "source": [
    "today = dt.datetime.now()\n",
    "year = today.year\n",
    "month = today.month\n",
    "day = today.day\n",
    "print(year, month, day)"
   ]
  },
  {
   "cell_type": "code",
   "execution_count": 19,
   "metadata": {},
   "outputs": [],
   "source": [
    "fromAddr = \"yis8248@naver.com\"\n",
    "\n",
    "subjectTmpl = \"{name}님의 {yy}년 {mm}월 급여명세서 입니다.\""
   ]
  },
  {
   "cell_type": "code",
   "execution_count": 20,
   "metadata": {},
   "outputs": [
    {
     "name": "stdout",
     "output_type": "stream",
     "text": [
      "안녕하세요 {name}님\n",
      "\n",
      "{yy}년도 {mm}월 급여명세서와 결산보고서 보내드립니다.\n",
      "\n",
      "귀하의 노고에 감사드립니다.\n",
      "\n",
      "- {yy}년 {mm}월 {dd}일 / 운영지원팀 드림\n"
     ]
    }
   ],
   "source": [
    "with open('mail/content.txt', 'r', encoding = 'utf-8') as f:\n",
    "    comtentTmpl = f.read()\n",
    "    print(comtentTmpl)"
   ]
  },
  {
   "cell_type": "code",
   "execution_count": 21,
   "metadata": {},
   "outputs": [
    {
     "name": "stdout",
     "output_type": "stream",
     "text": [
      "yis8248@naver.com님에게 메일이 발송되었습니다.\n",
      "yis8248@naver.com님에게 메일이 발송되었습니다.\n",
      "yis8248@naver.com님에게 메일이 발송되었습니다.\n",
      "yis8248@naver.com님에게 메일이 발송되었습니다.\n",
      "yis8248@naver.com님에게 메일이 발송되었습니다.\n"
     ]
    }
   ],
   "source": [
    "with open(\"mail/mail_list.csv\", \"r\", encoding = \"euc-kr\") as f:\n",
    "    csv = f.readlines()\n",
    "\n",
    "    for line in csv:\n",
    "\n",
    "        name, email, file1, file2 = line.strip().split(',')\n",
    "        subject = subjectTmpl.format(name = name, yy=year, mm=month)\n",
    "        content = comtentTmpl.format(name = name, yy = year, mm = month, dd = day)\n",
    "        Sendmail.sendMail(fromAddr, email, subject, content, [file1, file2])\n",
    "        print( \"%s님에게 메일이 발송되었습니다.\" % email)"
   ]
  },
  {
   "attachments": {},
   "cell_type": "markdown",
   "metadata": {},
   "source": []
  },
  {
   "cell_type": "code",
   "execution_count": null,
   "metadata": {},
   "outputs": [],
   "source": []
  }
 ],
 "metadata": {
  "kernelspec": {
   "display_name": "Python 3",
   "language": "python",
   "name": "python3"
  },
  "language_info": {
   "codemirror_mode": {
    "name": "ipython",
    "version": 3
   },
   "file_extension": ".py",
   "mimetype": "text/x-python",
   "name": "python",
   "nbconvert_exporter": "python",
   "pygments_lexer": "ipython3",
   "version": "3.11.4"
  },
  "orig_nbformat": 4
 },
 "nbformat": 4,
 "nbformat_minor": 2
}
