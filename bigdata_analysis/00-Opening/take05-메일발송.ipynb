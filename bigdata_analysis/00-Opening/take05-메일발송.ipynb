{
 "cells": [
  {
   "cell_type": "code",
   "execution_count": 37,
   "metadata": {},
   "outputs": [],
   "source": [
    "import os # 경로 정보를 취득하기 위한 모듈\n",
    "from smtplib import SMTP # 발송서버와 연동하기 위한 모듈\n",
    "from email.mime.text import MIMEText # 본문 구성 기능\n",
    "from email.mime.application import MIMEApplication # 파일을 Multipart 형식으로 변환\n",
    "from email.mime.multipart import MIMEMultipart # 파일을 본문에 추가하는 기능 제공"
   ]
  },
  {
   "cell_type": "code",
   "execution_count": 48,
   "metadata": {},
   "outputs": [],
   "source": [
    "# 보내는 사람 주소 (로그인 계정과 동일 해야 함)\n",
    "from_addr = \"yis8248@naver.com\"\n",
    "# 받는 사람 주소\n",
    "to_addr = \"yis8248@naevr.com\"\n",
    "# 제목\n",
    "subject = \"파이썬 메일 발송 테스트 입니다.\"\n",
    "# 본문내용 작성 -> 삼중따옴표 안에서는 줄바꿈이 자유롭다\n",
    "content = \"\"\"메일 보내기 연습중~\"\"\"\n",
    "# 첨부파일이 필요 없는 경우\n",
    "#files = []\n",
    "# 첨부파일이 필요한 경우 (파일이 실제로 존재해야 함)\n",
    "files= [\"hello.txt\"]"
   ]
  },
  {
   "cell_type": "code",
   "execution_count": 49,
   "metadata": {},
   "outputs": [],
   "source": [
    "# 컨텐츠 형식 (plain or html)\n",
    "content_type = \"plain\"\n",
    "# 로그인 계정 이름 (네이버=아이디, 구글=메일주소)\n",
    "username = \"yis8248\"\n",
    "# 비밀번호 (네이버=개인비밀번호,애플리케이션 비밀번호, 구글=앱 비밀번호)\n",
    "password = \"alchemist6659\"\n",
    "\n",
    "# 구글 발송 서버 주소와 포트 (고정값)\n",
    "smtp = \"smtp.naver.com\"\n",
    "port = 465"
   ]
  },
  {
   "cell_type": "code",
   "execution_count": 50,
   "metadata": {},
   "outputs": [],
   "source": [
    "# 메일 발송 정보를 저장하기 위한 객체\n",
    "msg=MIMEMultipart()\n",
    "\n",
    "msg['subject'] = subject\n",
    "# 메일 제목\n",
    "msg['From'] = from_addr\n",
    "# 보내는 사람\n",
    "msg['To'] = to_addr\n",
    "# 받는사람\n",
    "# 본문 설정 -> 메일의 내용과 형식 지정\n",
    "msg.attach(MIMEText(content,content_type))"
   ]
  },
  {
   "cell_type": "code",
   "execution_count": 51,
   "metadata": {},
   "outputs": [],
   "source": [
    "# 리스트 변수의 원소가 하나라도 존재할 경우 True\n",
    "if files:\n",
    "    for f in files:\n",
    "# 바이너리(b) 형식으로 읽기(r)\n",
    "        with open(f,'rb') as a_file:\n",
    "            basename = os.path.basename(f)   \n",
    "            # 파일의 내용과 파일이름을 메일에 첨부할 형식으로 변환\n",
    "            part = MIMEApplication(a_file.read(),Name=basename)\n",
    "            # 파일첨부  \n",
    "            part['Content-Disposition']='attachment; filename=\"%s\"' % basename \n",
    "            msg.attach(part)"
   ]
  },
  {
   "cell_type": "code",
   "execution_count": 52,
   "metadata": {},
   "outputs": [
    {
     "data": {
      "text/plain": [
       "(221, b'2.0.0 Closing connection WiwIVgAyT7O7gVNPsKX4Lw - nsmtp')"
      ]
     },
     "execution_count": 52,
     "metadata": {},
     "output_type": "execute_result"
    }
   ],
   "source": [
    "mail=SMTP(smtp)\n",
    "# 메일 서버 접속\n",
    "mail.ehlo()\n",
    "# 메일 서버 연동 설정\n",
    "mail.starttls()\n",
    "# 메일 서버 로그인\n",
    "mail.login(username,password)\n",
    "# 메일 보내기\n",
    "mail.sendmail(from_addr,to_addr,msg.as_string())\n",
    "# 메일 서버 접속 종료\n",
    "mail.quit()"
   ]
  },
  {
   "cell_type": "code",
   "execution_count": null,
   "metadata": {},
   "outputs": [],
   "source": []
  },
  {
   "cell_type": "code",
   "execution_count": null,
   "metadata": {},
   "outputs": [],
   "source": []
  }
 ],
 "metadata": {
  "kernelspec": {
   "display_name": "Python 3",
   "language": "python",
   "name": "python3"
  },
  "language_info": {
   "codemirror_mode": {
    "name": "ipython",
    "version": 3
   },
   "file_extension": ".py",
   "mimetype": "text/x-python",
   "name": "python",
   "nbconvert_exporter": "python",
   "pygments_lexer": "ipython3",
   "version": "3.11.4"
  },
  "orig_nbformat": 4
 },
 "nbformat": 4,
 "nbformat_minor": 2
}
