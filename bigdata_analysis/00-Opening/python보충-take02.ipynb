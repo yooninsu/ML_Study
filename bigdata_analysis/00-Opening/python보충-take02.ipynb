{
 "cells": [
  {
   "cell_type": "code",
   "execution_count": 2,
   "metadata": {},
   "outputs": [],
   "source": [
    "import sys #현재 시스템의 정보를 제공하는 모듈\n",
    "import os # 운영체제의 기능에 접근할 수 있는 모듈"
   ]
  },
  {
   "cell_type": "code",
   "execution_count": 3,
   "metadata": {},
   "outputs": [
    {
     "name": "stdout",
     "output_type": "stream",
     "text": [
      "win32\n"
     ]
    }
   ],
   "source": [
    "print(sys.platform)"
   ]
  },
  {
   "cell_type": "code",
   "execution_count": 8,
   "metadata": {},
   "outputs": [
    {
     "name": "stdout",
     "output_type": "stream",
     "text": [
      "['01-통계의_이해.pdf', '02-JSON 가져오기.ipynb.pdf', '02-데이터분석_개요.pdf', '03-파일 다운로드 받기.ipynb.pdf', 'hello.txt', 'jupyternotebook1.ipynb', 'problem1.py', 'Python보충-take01.ipynb.pdf', 'python보충-take02.ipynb', 'sample.pdf', 'sample.png', 'stylesample.html', '프로젝트_샘플.pdf']\n"
     ]
    }
   ],
   "source": [
    "# 현재 폴더 내의 하위 항목들의 이름을 리스트로 리턴받음\n",
    "print(os.listdir('./'))"
   ]
  },
  {
   "cell_type": "code",
   "execution_count": 7,
   "metadata": {},
   "outputs": [
    {
     "name": "stdout",
     "output_type": "stream",
     "text": [
      "False\n"
     ]
    }
   ],
   "source": [
    "# 특정 폴더나 파일이 존재하는지 확인 -> 상대경로일 경우 현재 소스파일 기준\n",
    "print(os.path.exists('./hello'))"
   ]
  },
  {
   "cell_type": "code",
   "execution_count": 9,
   "metadata": {},
   "outputs": [
    {
     "name": "stdout",
     "output_type": "stream",
     "text": [
      "c:\\Users\\yis82\\OneDrive\\Desktop\\bigdata_analysis\\00-Opening\\hello\n"
     ]
    }
   ],
   "source": [
    "#절대경로 확인 -> 존재하지 않더라도 경로값은 확인 가능.\n",
    "print(os.path.abspath('./hello'))"
   ]
  },
  {
   "cell_type": "code",
   "execution_count": 14,
   "metadata": {},
   "outputs": [
    {
     "name": "stdout",
     "output_type": "stream",
     "text": [
      "hello 폴더를 삭제했습니다.\n"
     ]
    }
   ],
   "source": [
    "if os.path.exists('./hello') == False:\n",
    "    # 없다면 생성\n",
    "    os.mkdir('./hello')\n",
    "    print('hello 폴더를 생성했습니다.')\n",
    "else:\n",
    "    # 있다면 삭제 --> 빈 폴더만 삭제가능\n",
    "    os.rmdir('./hello')\n",
    "    print('hello 폴더를 삭제했습니다.')"
   ]
  },
  {
   "cell_type": "code",
   "execution_count": 15,
   "metadata": {},
   "outputs": [],
   "source": [
    "import glob as gl"
   ]
  },
  {
   "cell_type": "code",
   "execution_count": 18,
   "metadata": {},
   "outputs": [
    {
     "name": "stdout",
     "output_type": "stream",
     "text": [
      "['01-통계의_이해.pdf', '02-JSON 가져오기.ipynb.pdf', '02-데이터분석_개요.pdf', '03-파일 다운로드 받기.ipynb.pdf', 'hello.txt', 'jupyternotebook1.ipynb', 'problem1.py', 'Python보충-take01.ipynb.pdf', 'python보충-take02.ipynb', 'sample.pdf', 'sample.png', 'stylesample.html', '프로젝트_샘플.pdf']\n"
     ]
    }
   ],
   "source": [
    "#현재 폴더의 모든 하위 요소들 조회\n",
    "print(gl.glob('*'))\n"
   ]
  },
  {
   "cell_type": "code",
   "execution_count": 19,
   "metadata": {},
   "outputs": [
    {
     "name": "stdout",
     "output_type": "stream",
     "text": [
      "['jupyternotebook1.ipynb', 'python보충-take02.ipynb']\n"
     ]
    }
   ],
   "source": [
    "# '.ipynb'로 끝나는 모든 요소 조회\n",
    "print(gl.glob('*.ipynb'))"
   ]
  },
  {
   "cell_type": "code",
   "execution_count": 20,
   "metadata": {},
   "outputs": [],
   "source": [
    "import shutil # 파일, 폴더 관련 작업에 확장된 기능을 제공"
   ]
  },
  {
   "cell_type": "code",
   "execution_count": 31,
   "metadata": {},
   "outputs": [
    {
     "name": "stdout",
     "output_type": "stream",
     "text": [
      "python 폴더와 하위 폴더들을 생성 했습니다.\n"
     ]
    }
   ],
   "source": [
    "# 현재 작업 위치에서 python이라는 이름의 폴더가 없다면?\n",
    "if os.path.exists('python') == False:\n",
    "    #순환적으로 폴더 생성 -> exist_ok=True 옵션은 이미 존재하더라도 에러 발생 X\n",
    "    os.makedirs('python/test/hello/world', exist_ok=True)\n",
    "    print('python 폴더와 하위 폴더들을 생성 했습니다.')\n",
    "\n",
    "else:\n",
    "    #비어있지 않은 폴더도 강제 삭제 -> 존재하지 않는 경우 에러\n",
    "    shutil.rmtree('python')\n",
    "    print('python 폴더가 삭제되었습니다.')"
   ]
  },
  {
   "cell_type": "code",
   "execution_count": 28,
   "metadata": {},
   "outputs": [
    {
     "name": "stdout",
     "output_type": "stream",
     "text": [
      "python 폴더가 ../created 폴더로 이동되었습니다.\n"
     ]
    }
   ],
   "source": [
    "# 폴더의 이동\n",
    "if os.path.exists('python'):\n",
    "    shutil.move('python', '../created')\n",
    "    print('python 폴더가 ../created 폴더로 이동되었습니다.') \n"
   ]
  },
  {
   "cell_type": "code",
   "execution_count": 32,
   "metadata": {},
   "outputs": [
    {
     "name": "stdout",
     "output_type": "stream",
     "text": [
      "python 폴더가 copy로 복사되었습니다.\n"
     ]
    }
   ],
   "source": [
    "if os.path.exists('../created'):\n",
    "    shutil.copytree('../created', './copy')\n",
    "    print('python 폴더가 copy로 복사되었습니다.')"
   ]
  },
  {
   "cell_type": "code",
   "execution_count": 43,
   "metadata": {},
   "outputs": [
    {
     "name": "stdout",
     "output_type": "stream",
     "text": [
      "hello.txt 파일을 생성했습니다.\n",
      "hello.txt가 world.txt로 복사되었습니다.\n"
     ]
    }
   ],
   "source": [
    "# os모듈 내의 path 객체가 갖는 exists() 함수를 사용.\n",
    "# -> 'hello.txt' 라는 파일이 존재하지 않는다면?\n",
    "if os.path.exists('hello.txt') == False:\n",
    "    # 테스트용 파일 생성\n",
    "    with open('hello.txt', \"w\", encoding = 'utf-8') as f:\n",
    "        f.write('Life is too short, you need python')\n",
    "        print('hello.txt 파일을 생성했습니다.')\n",
    "\n",
    "    # 생성한 파일을 복사함 -> 이미 존재할 경우 덮어씀\n",
    "    shutil.copy('hello.txt', 'world.txt')\n",
    "    print('hello.txt가 world.txt로 복사되었습니다.')\n",
    "# 그렇지 않다면?\n",
    "# -> 'hello.txt'라는 파일이 존재 한다면?\n",
    "else:\n",
    "    os.remove('hello.txt')\n",
    "    print('hello.txt가 삭제되었습니다.')\n",
    "    os.remove('world.txt')\n",
    "    print('world.txt가 삭제되었습니다.')"
   ]
  },
  {
   "cell_type": "code",
   "execution_count": null,
   "metadata": {},
   "outputs": [],
   "source": []
  }
 ],
 "metadata": {
  "kernelspec": {
   "display_name": "Python 3",
   "language": "python",
   "name": "python3"
  },
  "language_info": {
   "codemirror_mode": {
    "name": "ipython",
    "version": 3
   },
   "file_extension": ".py",
   "mimetype": "text/x-python",
   "name": "python",
   "nbconvert_exporter": "python",
   "pygments_lexer": "ipython3",
   "version": "3.11.4"
  },
  "orig_nbformat": 4
 },
 "nbformat": 4,
 "nbformat_minor": 2
}
