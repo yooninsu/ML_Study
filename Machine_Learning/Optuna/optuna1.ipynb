{
 "cells": [
  {
   "cell_type": "code",
   "execution_count": 2,
   "metadata": {},
   "outputs": [],
   "source": [
    "import optuna"
   ]
  },
  {
   "cell_type": "code",
   "execution_count": 3,
   "metadata": {},
   "outputs": [],
   "source": [
    "def objective(trial):\n",
    "    x = trial.suggest_float(\"x\", -10, 10)\n",
    "    return (x - 2) ** 2"
   ]
  },
  {
   "cell_type": "code",
   "execution_count": 5,
   "metadata": {},
   "outputs": [
    {
     "name": "stderr",
     "output_type": "stream",
     "text": [
      "[I 2023-11-07 11:23:48,339] A new study created in memory with name: no-name-4aed5c74-8a74-4c0d-8541-992496292c09\n",
      "[I 2023-11-07 11:23:48,343] Trial 0 finished with value: 30.264682626433462 and parameters: {'x': 7.501334622292436}. Best is trial 0 with value: 30.264682626433462.\n",
      "[I 2023-11-07 11:23:48,345] Trial 1 finished with value: 84.66208785692999 and parameters: {'x': -7.201200348700705}. Best is trial 0 with value: 30.264682626433462.\n",
      "[I 2023-11-07 11:23:48,348] Trial 2 finished with value: 80.16454645120817 and parameters: {'x': -6.95346561121492}. Best is trial 0 with value: 30.264682626433462.\n",
      "[I 2023-11-07 11:23:48,351] Trial 3 finished with value: 11.03634105284815 and parameters: {'x': -1.322098892695422}. Best is trial 3 with value: 11.03634105284815.\n",
      "[I 2023-11-07 11:23:48,353] Trial 4 finished with value: 5.144136696398133 and parameters: {'x': -0.2680689355480652}. Best is trial 4 with value: 5.144136696398133.\n",
      "[I 2023-11-07 11:23:48,354] Trial 5 finished with value: 10.435152532719126 and parameters: {'x': 5.230348670456353}. Best is trial 4 with value: 5.144136696398133.\n",
      "[I 2023-11-07 11:23:48,356] Trial 6 finished with value: 40.094207082295966 and parameters: {'x': -4.331998664110406}. Best is trial 4 with value: 5.144136696398133.\n",
      "[I 2023-11-07 11:23:48,357] Trial 7 finished with value: 32.291774560483994 and parameters: {'x': 7.682585200459734}. Best is trial 4 with value: 5.144136696398133.\n",
      "[I 2023-11-07 11:23:48,359] Trial 8 finished with value: 0.7506549767754549 and parameters: {'x': 1.133596527721954}. Best is trial 8 with value: 0.7506549767754549.\n",
      "[I 2023-11-07 11:23:48,360] Trial 9 finished with value: 29.1886938685517 and parameters: {'x': 7.402656186409764}. Best is trial 8 with value: 0.7506549767754549.\n",
      "[I 2023-11-07 11:23:48,372] Trial 10 finished with value: 1.4359849297400458 and parameters: {'x': 3.198325886284714}. Best is trial 8 with value: 0.7506549767754549.\n",
      "[I 2023-11-07 11:23:48,386] Trial 11 finished with value: 0.9102597426463674 and parameters: {'x': 2.9540753338423373}. Best is trial 8 with value: 0.7506549767754549.\n",
      "[I 2023-11-07 11:23:48,398] Trial 12 finished with value: 1.6007463501044794 and parameters: {'x': 3.2652060504536324}. Best is trial 8 with value: 0.7506549767754549.\n",
      "[I 2023-11-07 11:23:48,407] Trial 13 finished with value: 0.6474224495775257 and parameters: {'x': 1.1953743419592402}. Best is trial 13 with value: 0.6474224495775257.\n",
      "[I 2023-11-07 11:23:48,416] Trial 14 finished with value: 16.294060163352707 and parameters: {'x': -2.0365901653936467}. Best is trial 13 with value: 0.6474224495775257.\n",
      "[I 2023-11-07 11:23:48,423] Trial 15 finished with value: 0.7960070567049125 and parameters: {'x': 1.1078077243637936}. Best is trial 13 with value: 0.6474224495775257.\n",
      "[I 2023-11-07 11:23:48,429] Trial 16 finished with value: 61.86592022224729 and parameters: {'x': 9.865489191540936}. Best is trial 13 with value: 0.6474224495775257.\n",
      "[I 2023-11-07 11:23:48,436] Trial 17 finished with value: 34.20380230774001 and parameters: {'x': -3.848401688302541}. Best is trial 13 with value: 0.6474224495775257.\n",
      "[I 2023-11-07 11:23:48,451] Trial 18 finished with value: 0.9446037223759799 and parameters: {'x': 1.0280927398275184}. Best is trial 13 with value: 0.6474224495775257.\n",
      "[I 2023-11-07 11:23:48,463] Trial 19 finished with value: 1.152732770353607 and parameters: {'x': 0.9263460658323804}. Best is trial 13 with value: 0.6474224495775257.\n",
      "[I 2023-11-07 11:23:48,481] Trial 20 finished with value: 24.230331465664957 and parameters: {'x': -2.9224314587066584}. Best is trial 13 with value: 0.6474224495775257.\n",
      "[I 2023-11-07 11:23:48,494] Trial 21 finished with value: 3.0266730382267624 and parameters: {'x': 0.2602663887172949}. Best is trial 13 with value: 0.6474224495775257.\n",
      "[I 2023-11-07 11:23:48,499] Trial 22 finished with value: 0.08060833743320586 and parameters: {'x': 1.7160839253701794}. Best is trial 22 with value: 0.08060833743320586.\n",
      "[I 2023-11-07 11:23:48,508] Trial 23 finished with value: 10.94028320945555 and parameters: {'x': -1.3076098937836593}. Best is trial 22 with value: 0.08060833743320586.\n",
      "[I 2023-11-07 11:23:48,521] Trial 24 finished with value: 0.10602054582638684 and parameters: {'x': 2.325607963395226}. Best is trial 22 with value: 0.08060833743320586.\n",
      "[I 2023-11-07 11:23:48,530] Trial 25 finished with value: 0.12258939159613097 and parameters: {'x': 2.350127678991723}. Best is trial 22 with value: 0.08060833743320586.\n",
      "[I 2023-11-07 11:23:48,535] Trial 26 finished with value: 3.3974545249793198 and parameters: {'x': 3.8432185233930674}. Best is trial 22 with value: 0.08060833743320586.\n",
      "[I 2023-11-07 11:23:48,541] Trial 27 finished with value: 8.295554133316754 and parameters: {'x': 4.880200363397789}. Best is trial 22 with value: 0.08060833743320586.\n",
      "[I 2023-11-07 11:23:48,545] Trial 28 finished with value: 0.024707677047041635 and parameters: {'x': 2.157186758497787}. Best is trial 28 with value: 0.024707677047041635.\n",
      "[I 2023-11-07 11:23:48,552] Trial 29 finished with value: 6.2760813128417015 and parameters: {'x': -0.5052108320142839}. Best is trial 28 with value: 0.024707677047041635.\n",
      "[I 2023-11-07 11:23:48,558] Trial 30 finished with value: 7.882147347937277 and parameters: {'x': 4.8075162239846945}. Best is trial 28 with value: 0.024707677047041635.\n",
      "[I 2023-11-07 11:23:48,570] Trial 31 finished with value: 0.09042529085683433 and parameters: {'x': 2.300707982695562}. Best is trial 28 with value: 0.024707677047041635.\n",
      "[I 2023-11-07 11:23:48,589] Trial 32 finished with value: 0.41882021588268764 and parameters: {'x': 2.647163206527293}. Best is trial 28 with value: 0.024707677047041635.\n",
      "[I 2023-11-07 11:23:48,608] Trial 33 finished with value: 0.005320158085497626 and parameters: {'x': 1.9270605861999315}. Best is trial 33 with value: 0.005320158085497626.\n",
      "[I 2023-11-07 11:23:48,618] Trial 34 finished with value: 0.005882810119026569 and parameters: {'x': 1.9233005207382308}. Best is trial 33 with value: 0.005320158085497626.\n",
      "[I 2023-11-07 11:23:48,625] Trial 35 finished with value: 131.4623606882904 and parameters: {'x': -9.46570367174603}. Best is trial 33 with value: 0.005320158085497626.\n",
      "[I 2023-11-07 11:23:48,631] Trial 36 finished with value: 5.75740023444245 and parameters: {'x': -0.3994583210471587}. Best is trial 33 with value: 0.005320158085497626.\n",
      "[I 2023-11-07 11:23:48,637] Trial 37 finished with value: 3.200831953522938 and parameters: {'x': 3.7890869049665916}. Best is trial 33 with value: 0.005320158085497626.\n",
      "[I 2023-11-07 11:23:48,644] Trial 38 finished with value: 10.581103450217114 and parameters: {'x': -1.2528608101511374}. Best is trial 33 with value: 0.005320158085497626.\n",
      "[I 2023-11-07 11:23:48,648] Trial 39 finished with value: 0.15156963500085538 and parameters: {'x': 1.6106805489050728}. Best is trial 33 with value: 0.005320158085497626.\n",
      "[I 2023-11-07 11:23:48,653] Trial 40 finished with value: 3.475925612051498 and parameters: {'x': 0.13561655981085852}. Best is trial 33 with value: 0.005320158085497626.\n",
      "[I 2023-11-07 11:23:48,661] Trial 41 finished with value: 0.04431928178090556 and parameters: {'x': 1.789478547931795}. Best is trial 33 with value: 0.005320158085497626.\n",
      "[I 2023-11-07 11:23:48,668] Trial 42 finished with value: 0.00043705310929233746 and parameters: {'x': 2.0209058152027692}. Best is trial 42 with value: 0.00043705310929233746.\n",
      "[I 2023-11-07 11:23:48,675] Trial 43 finished with value: 4.892409732454963 and parameters: {'x': 4.21187923098323}. Best is trial 42 with value: 0.00043705310929233746.\n",
      "[I 2023-11-07 11:23:48,680] Trial 44 finished with value: 13.52908942757362 and parameters: {'x': 5.678191053707463}. Best is trial 42 with value: 0.00043705310929233746.\n",
      "[I 2023-11-07 11:23:48,687] Trial 45 finished with value: 1.627623860987915 and parameters: {'x': 3.2757836262422853}. Best is trial 42 with value: 0.00043705310929233746.\n",
      "[I 2023-11-07 11:23:48,693] Trial 46 finished with value: 0.013804386216309219 and parameters: {'x': 1.8825079312621094}. Best is trial 42 with value: 0.00043705310929233746.\n",
      "[I 2023-11-07 11:23:48,700] Trial 47 finished with value: 2.1931081749375254 and parameters: {'x': 0.5190853586592084}. Best is trial 42 with value: 0.00043705310929233746.\n",
      "[I 2023-11-07 11:23:48,705] Trial 48 finished with value: 0.719902084170133 and parameters: {'x': 2.8484704380060233}. Best is trial 42 with value: 0.00043705310929233746.\n",
      "[I 2023-11-07 11:23:48,712] Trial 49 finished with value: 3.8444443654457117 and parameters: {'x': 0.03927453083158228}. Best is trial 42 with value: 0.00043705310929233746.\n",
      "[I 2023-11-07 11:23:48,719] Trial 50 finished with value: 0.0030998034488804354 and parameters: {'x': 1.9443241214808384}. Best is trial 42 with value: 0.00043705310929233746.\n",
      "[I 2023-11-07 11:23:48,727] Trial 51 finished with value: 0.0053315994325322715 and parameters: {'x': 2.0730178021617487}. Best is trial 42 with value: 0.00043705310929233746.\n",
      "[I 2023-11-07 11:23:48,732] Trial 52 finished with value: 0.2936417694827105 and parameters: {'x': 1.458112770511511}. Best is trial 42 with value: 0.00043705310929233746.\n",
      "[I 2023-11-07 11:23:48,736] Trial 53 finished with value: 1.6385341481079614 and parameters: {'x': 0.7199475994679119}. Best is trial 42 with value: 0.00043705310929233746.\n",
      "[I 2023-11-07 11:23:48,742] Trial 54 finished with value: 0.8731226032264745 and parameters: {'x': 2.934410297046471}. Best is trial 42 with value: 0.00043705310929233746.\n",
      "[I 2023-11-07 11:23:48,746] Trial 55 finished with value: 0.5181434554749478 and parameters: {'x': 1.2801781779669723}. Best is trial 42 with value: 0.00043705310929233746.\n",
      "[I 2023-11-07 11:23:48,752] Trial 56 finished with value: 3.5043416056624457 and parameters: {'x': 3.8719886766918346}. Best is trial 42 with value: 0.00043705310929233746.\n",
      "[I 2023-11-07 11:23:48,758] Trial 57 finished with value: 7.277556791503795 and parameters: {'x': -0.6976947179960515}. Best is trial 42 with value: 0.00043705310929233746.\n",
      "[I 2023-11-07 11:23:48,763] Trial 58 finished with value: 1.713799408013219 and parameters: {'x': 0.6908783830318823}. Best is trial 42 with value: 0.00043705310929233746.\n",
      "[I 2023-11-07 11:23:48,768] Trial 59 finished with value: 0.010884099106160743 and parameters: {'x': 1.8956731141739545}. Best is trial 42 with value: 0.00043705310929233746.\n",
      "[I 2023-11-07 11:23:48,776] Trial 60 finished with value: 1.306424729121591 and parameters: {'x': 3.1429893827685325}. Best is trial 42 with value: 0.00043705310929233746.\n",
      "[I 2023-11-07 11:23:48,781] Trial 61 finished with value: 0.005936023381312204 and parameters: {'x': 1.9229544071259608}. Best is trial 42 with value: 0.00043705310929233746.\n",
      "[I 2023-11-07 11:23:48,789] Trial 62 finished with value: 0.000269829277307149 and parameters: {'x': 1.9835735190224093}. Best is trial 62 with value: 0.000269829277307149.\n",
      "[I 2023-11-07 11:23:48,796] Trial 63 finished with value: 1.647151150492657 and parameters: {'x': 0.7165861343694868}. Best is trial 62 with value: 0.000269829277307149.\n",
      "[I 2023-11-07 11:23:48,808] Trial 64 finished with value: 0.21058956993772066 and parameters: {'x': 2.458900392174294}. Best is trial 62 with value: 0.000269829277307149.\n",
      "[I 2023-11-07 11:23:48,823] Trial 65 finished with value: 0.4857960847785366 and parameters: {'x': 1.3030092649263287}. Best is trial 62 with value: 0.000269829277307149.\n",
      "[I 2023-11-07 11:23:48,828] Trial 66 finished with value: 1.9192478374992692 and parameters: {'x': 3.3853692062043494}. Best is trial 62 with value: 0.000269829277307149.\n",
      "[I 2023-11-07 11:23:48,839] Trial 67 finished with value: 0.20399539569718 and parameters: {'x': 2.4516584945477944}. Best is trial 62 with value: 0.000269829277307149.\n",
      "[I 2023-11-07 11:23:48,846] Trial 68 finished with value: 2.6407142670014676 and parameters: {'x': 0.3749725334624441}. Best is trial 62 with value: 0.000269829277307149.\n",
      "[I 2023-11-07 11:23:48,857] Trial 69 finished with value: 4.717812942674683 and parameters: {'x': -0.17205270255458638}. Best is trial 62 with value: 0.000269829277307149.\n",
      "[I 2023-11-07 11:23:48,866] Trial 70 finished with value: 0.6778025721506505 and parameters: {'x': 1.1767123393669436}. Best is trial 62 with value: 0.000269829277307149.\n",
      "[I 2023-11-07 11:23:48,873] Trial 71 finished with value: 0.002473745613362388 and parameters: {'x': 2.049736763197482}. Best is trial 62 with value: 0.000269829277307149.\n",
      "[I 2023-11-07 11:23:48,882] Trial 72 finished with value: 0.00024564652914536996 and parameters: {'x': 2.015673114851406}. Best is trial 72 with value: 0.00024564652914536996.\n",
      "[I 2023-11-07 11:23:48,888] Trial 73 finished with value: 0.5061550150831807 and parameters: {'x': 2.711445721811004}. Best is trial 72 with value: 0.00024564652914536996.\n",
      "[I 2023-11-07 11:23:48,894] Trial 74 finished with value: 0.06784633792094669 and parameters: {'x': 2.260473295984342}. Best is trial 72 with value: 0.00024564652914536996.\n",
      "[I 2023-11-07 11:23:48,899] Trial 75 finished with value: 0.4909021713924509 and parameters: {'x': 1.299355888205395}. Best is trial 72 with value: 0.00024564652914536996.\n",
      "[I 2023-11-07 11:23:48,905] Trial 76 finished with value: 1.7769327784614328 and parameters: {'x': 3.3330164209271516}. Best is trial 72 with value: 0.00024564652914536996.\n",
      "[I 2023-11-07 11:23:48,912] Trial 77 finished with value: 0.09074765240670489 and parameters: {'x': 1.6987564898513083}. Best is trial 72 with value: 0.00024564652914536996.\n",
      "[I 2023-11-07 11:23:48,923] Trial 78 finished with value: 6.359391737250291 and parameters: {'x': 4.5217834437656}. Best is trial 72 with value: 0.00024564652914536996.\n",
      "[I 2023-11-07 11:23:48,930] Trial 79 finished with value: 3.1651521188712017 and parameters: {'x': 3.7790874399172183}. Best is trial 72 with value: 0.00024564652914536996.\n",
      "[I 2023-11-07 11:23:48,937] Trial 80 finished with value: 0.41112152457953 and parameters: {'x': 2.641187589227622}. Best is trial 72 with value: 0.00024564652914536996.\n",
      "[I 2023-11-07 11:23:48,946] Trial 81 finished with value: 0.040584321488650835 and parameters: {'x': 1.7985444925333367}. Best is trial 72 with value: 0.00024564652914536996.\n",
      "[I 2023-11-07 11:23:48,951] Trial 82 finished with value: 0.0008660157811003125 and parameters: {'x': 2.029428146069712}. Best is trial 72 with value: 0.00024564652914536996.\n",
      "[I 2023-11-07 11:23:48,959] Trial 83 finished with value: 1.1887991300096015 and parameters: {'x': 0.9096793453256049}. Best is trial 72 with value: 0.00024564652914536996.\n",
      "[I 2023-11-07 11:23:48,965] Trial 84 finished with value: 3.3188968730593285 and parameters: {'x': 0.1782160191012414}. Best is trial 72 with value: 0.00024564652914536996.\n",
      "[I 2023-11-07 11:23:48,971] Trial 85 finished with value: 0.11485223154412927 and parameters: {'x': 2.33889855642084}. Best is trial 72 with value: 0.00024564652914536996.\n",
      "[I 2023-11-07 11:23:48,977] Trial 86 finished with value: 1.055034125608873 and parameters: {'x': 3.027148541160855}. Best is trial 72 with value: 0.00024564652914536996.\n",
      "[I 2023-11-07 11:23:48,983] Trial 87 finished with value: 0.19148251074023032 and parameters: {'x': 1.5624128535477415}. Best is trial 72 with value: 0.00024564652914536996.\n",
      "[I 2023-11-07 11:23:48,988] Trial 88 finished with value: 0.01184713623908159 and parameters: {'x': 2.1088445508010465}. Best is trial 72 with value: 0.00024564652914536996.\n",
      "[I 2023-11-07 11:23:48,994] Trial 89 finished with value: 1.1512777711753586 and parameters: {'x': 0.9270238720384509}. Best is trial 72 with value: 0.00024564652914536996.\n",
      "[I 2023-11-07 11:23:48,999] Trial 90 finished with value: 7.572712777472686 and parameters: {'x': -0.7518562421523194}. Best is trial 72 with value: 0.00024564652914536996.\n",
      "[I 2023-11-07 11:23:49,003] Trial 91 finished with value: 8.92673658599826e-05 and parameters: {'x': 2.009448140867916}. Best is trial 91 with value: 8.92673658599826e-05.\n",
      "[I 2023-11-07 11:23:49,012] Trial 92 finished with value: 0.014606683156678329 and parameters: {'x': 2.1208581116709935}. Best is trial 91 with value: 8.92673658599826e-05.\n",
      "[I 2023-11-07 11:23:49,017] Trial 93 finished with value: 0.8460394796141181 and parameters: {'x': 2.9198040441388144}. Best is trial 91 with value: 8.92673658599826e-05.\n",
      "[I 2023-11-07 11:23:49,024] Trial 94 finished with value: 2.311245619392697 and parameters: {'x': 3.520278138826148}. Best is trial 91 with value: 8.92673658599826e-05.\n",
      "[I 2023-11-07 11:23:49,033] Trial 95 finished with value: 4.528510634549459 and parameters: {'x': 4.128029754150411}. Best is trial 91 with value: 8.92673658599826e-05.\n",
      "[I 2023-11-07 11:23:49,040] Trial 96 finished with value: 0.35911832975923436 and parameters: {'x': 1.4007351756032778}. Best is trial 91 with value: 8.92673658599826e-05.\n",
      "[I 2023-11-07 11:23:49,046] Trial 97 finished with value: 2.0531360713865077 and parameters: {'x': 0.5671231485621286}. Best is trial 91 with value: 8.92673658599826e-05.\n",
      "[I 2023-11-07 11:23:49,057] Trial 98 finished with value: 0.9387874467836118 and parameters: {'x': 2.9689104431182542}. Best is trial 91 with value: 8.92673658599826e-05.\n",
      "[I 2023-11-07 11:23:49,072] Trial 99 finished with value: 0.28866640724110393 and parameters: {'x': 2.5372768441326166}. Best is trial 91 with value: 8.92673658599826e-05.\n"
     ]
    }
   ],
   "source": [
    "study = optuna.create_study()\n",
    "study.optimize(objective, n_trials = 100)"
   ]
  },
  {
   "cell_type": "code",
   "execution_count": 25,
   "metadata": {},
   "outputs": [],
   "source": [
    "import random\n",
    "import numpy as np\n",
    "import tensorflow as tf\n",
    "w = tf.Variable(random.random())\n",
    "b = tf.Variable(random.random())"
   ]
  },
  {
   "cell_type": "code",
   "execution_count": 24,
   "metadata": {},
   "outputs": [
    {
     "ename": "NameError",
     "evalue": "name 'np' is not defined",
     "output_type": "error",
     "traceback": [
      "\u001b[1;31m---------------------------------------------------------------------------\u001b[0m",
      "\u001b[1;31mNameError\u001b[0m                                 Traceback (most recent call last)",
      "\u001b[1;32mc:\\Users\\yis82\\OneDrive\\Desktop\\Machine_Learning\\Optuna\\optuna1.ipynb Cell 5\u001b[0m line \u001b[0;36m1\n\u001b[1;32m----> <a href='vscode-notebook-cell:/c%3A/Users/yis82/OneDrive/Desktop/Machine_Learning/Optuna/optuna1.ipynb#X13sZmlsZQ%3D%3D?line=0'>1</a>\u001b[0m x \u001b[39m=\u001b[39m \u001b[39m2\u001b[39m \u001b[39m*\u001b[39m np\u001b[39m.\u001b[39mrandom\u001b[39m.\u001b[39mrand(\u001b[39m100\u001b[39m, \u001b[39m1\u001b[39m)\n\u001b[0;32m      <a href='vscode-notebook-cell:/c%3A/Users/yis82/OneDrive/Desktop/Machine_Learning/Optuna/optuna1.ipynb#X13sZmlsZQ%3D%3D?line=1'>2</a>\u001b[0m y \u001b[39m=\u001b[39m \u001b[39m4\u001b[39m \u001b[39m+\u001b[39m \u001b[39m3\u001b[39m \u001b[39m*\u001b[39m x \u001b[39m+\u001b[39m np\u001b[39m.\u001b[39mrandom\u001b[39m.\u001b[39mrandn(\u001b[39m100\u001b[39m, \u001b[39m1\u001b[39m)\n",
      "\u001b[1;31mNameError\u001b[0m: name 'np' is not defined"
     ]
    }
   ],
   "source": [
    "x = 2 * np.random.rand(100, 1)\n",
    "y = 6 * (x ** 2) + 3 * x + 4 + np.random.randn(100, 1)"
   ]
  },
  {
   "cell_type": "code",
   "execution_count": 20,
   "metadata": {},
   "outputs": [],
   "source": [
    "def residue():\n",
    "  y_pred = w * x + b\n",
    "  re= tf.reduce_mean((y - y_pred) ** 2)\n",
    "  return re"
   ]
  },
  {
   "cell_type": "code",
   "execution_count": 22,
   "metadata": {},
   "outputs": [
    {
     "name": "stderr",
     "output_type": "stream",
     "text": [
      "WARNING:absl:`lr` is deprecated in Keras optimizer, please use `learning_rate` or use the legacy optimizer, e.g.,tf.keras.optimizers.legacy.Adam.\n"
     ]
    },
    {
     "ename": "NameError",
     "evalue": "name 'x' is not defined",
     "output_type": "error",
     "traceback": [
      "\u001b[1;31m---------------------------------------------------------------------------\u001b[0m",
      "\u001b[1;31mNameError\u001b[0m                                 Traceback (most recent call last)",
      "\u001b[1;32mc:\\Users\\yis82\\OneDrive\\Desktop\\Machine_Learning\\Optuna\\optuna1.ipynb Cell 6\u001b[0m line \u001b[0;36m3\n\u001b[0;32m      <a href='vscode-notebook-cell:/c%3A/Users/yis82/OneDrive/Desktop/Machine_Learning/Optuna/optuna1.ipynb#W4sZmlsZQ%3D%3D?line=0'>1</a>\u001b[0m optimizer \u001b[39m=\u001b[39m tf\u001b[39m.\u001b[39moptimizers\u001b[39m.\u001b[39mAdam(lr\u001b[39m=\u001b[39m\u001b[39m0.07\u001b[39m)\n\u001b[0;32m      <a href='vscode-notebook-cell:/c%3A/Users/yis82/OneDrive/Desktop/Machine_Learning/Optuna/optuna1.ipynb#W4sZmlsZQ%3D%3D?line=1'>2</a>\u001b[0m \u001b[39mfor\u001b[39;00m i \u001b[39min\u001b[39;00m \u001b[39mrange\u001b[39m(\u001b[39m1000\u001b[39m):\n\u001b[1;32m----> <a href='vscode-notebook-cell:/c%3A/Users/yis82/OneDrive/Desktop/Machine_Learning/Optuna/optuna1.ipynb#W4sZmlsZQ%3D%3D?line=2'>3</a>\u001b[0m   optimizer\u001b[39m.\u001b[39;49mminimize(residue, var_list\u001b[39m=\u001b[39;49m[w,b])\n\u001b[0;32m      <a href='vscode-notebook-cell:/c%3A/Users/yis82/OneDrive/Desktop/Machine_Learning/Optuna/optuna1.ipynb#W4sZmlsZQ%3D%3D?line=4'>5</a>\u001b[0m   \u001b[39mif\u001b[39;00m i \u001b[39m%\u001b[39m \u001b[39m100\u001b[39m \u001b[39m==\u001b[39m \u001b[39m99\u001b[39m:\n\u001b[0;32m      <a href='vscode-notebook-cell:/c%3A/Users/yis82/OneDrive/Desktop/Machine_Learning/Optuna/optuna1.ipynb#W4sZmlsZQ%3D%3D?line=5'>6</a>\u001b[0m     \u001b[39mprint\u001b[39m(i, \u001b[39m'\u001b[39m\u001b[39mw:\u001b[39m\u001b[39m'\u001b[39m, w\u001b[39m.\u001b[39mnumpy(), \u001b[39m'\u001b[39m\u001b[39mb:\u001b[39m\u001b[39m'\u001b[39m, b\u001b[39m.\u001b[39mnumpy(), \u001b[39m'\u001b[39m\u001b[39mloss:\u001b[39m\u001b[39m'\u001b[39m, residue()\u001b[39m.\u001b[39mnumpy())\n",
      "File \u001b[1;32mc:\\Users\\yis82\\AppData\\Local\\Programs\\Python\\Python39\\lib\\site-packages\\keras\\src\\optimizers\\optimizer.py:543\u001b[0m, in \u001b[0;36m_BaseOptimizer.minimize\u001b[1;34m(self, loss, var_list, tape)\u001b[0m\n\u001b[0;32m    522\u001b[0m \u001b[39mdef\u001b[39;00m \u001b[39mminimize\u001b[39m(\u001b[39mself\u001b[39m, loss, var_list, tape\u001b[39m=\u001b[39m\u001b[39mNone\u001b[39;00m):\n\u001b[0;32m    523\u001b[0m \u001b[39m    \u001b[39m\u001b[39m\"\"\"Minimize `loss` by updating `var_list`.\u001b[39;00m\n\u001b[0;32m    524\u001b[0m \n\u001b[0;32m    525\u001b[0m \u001b[39m    This method simply computes gradient using `tf.GradientTape` and calls\u001b[39;00m\n\u001b[1;32m   (...)\u001b[0m\n\u001b[0;32m    541\u001b[0m \u001b[39m      None\u001b[39;00m\n\u001b[0;32m    542\u001b[0m \u001b[39m    \"\"\"\u001b[39;00m\n\u001b[1;32m--> 543\u001b[0m     grads_and_vars \u001b[39m=\u001b[39m \u001b[39mself\u001b[39;49m\u001b[39m.\u001b[39;49mcompute_gradients(loss, var_list, tape)\n\u001b[0;32m    544\u001b[0m     \u001b[39mself\u001b[39m\u001b[39m.\u001b[39mapply_gradients(grads_and_vars)\n",
      "File \u001b[1;32mc:\\Users\\yis82\\AppData\\Local\\Programs\\Python\\Python39\\lib\\site-packages\\keras\\src\\optimizers\\optimizer.py:272\u001b[0m, in \u001b[0;36m_BaseOptimizer.compute_gradients\u001b[1;34m(self, loss, var_list, tape)\u001b[0m\n\u001b[0;32m    270\u001b[0m \u001b[39mif\u001b[39;00m \u001b[39mnot\u001b[39;00m \u001b[39mcallable\u001b[39m(var_list):\n\u001b[0;32m    271\u001b[0m     tape\u001b[39m.\u001b[39mwatch(var_list)\n\u001b[1;32m--> 272\u001b[0m loss \u001b[39m=\u001b[39m loss()\n\u001b[0;32m    273\u001b[0m \u001b[39mif\u001b[39;00m \u001b[39mcallable\u001b[39m(var_list):\n\u001b[0;32m    274\u001b[0m     var_list \u001b[39m=\u001b[39m var_list()\n",
      "\u001b[1;32mc:\\Users\\yis82\\OneDrive\\Desktop\\Machine_Learning\\Optuna\\optuna1.ipynb Cell 6\u001b[0m line \u001b[0;36m2\n\u001b[0;32m      <a href='vscode-notebook-cell:/c%3A/Users/yis82/OneDrive/Desktop/Machine_Learning/Optuna/optuna1.ipynb#W4sZmlsZQ%3D%3D?line=0'>1</a>\u001b[0m \u001b[39mdef\u001b[39;00m \u001b[39mresidue\u001b[39m():\n\u001b[1;32m----> <a href='vscode-notebook-cell:/c%3A/Users/yis82/OneDrive/Desktop/Machine_Learning/Optuna/optuna1.ipynb#W4sZmlsZQ%3D%3D?line=1'>2</a>\u001b[0m   y_pred \u001b[39m=\u001b[39m w \u001b[39m*\u001b[39m x \u001b[39m+\u001b[39m b\n\u001b[0;32m      <a href='vscode-notebook-cell:/c%3A/Users/yis82/OneDrive/Desktop/Machine_Learning/Optuna/optuna1.ipynb#W4sZmlsZQ%3D%3D?line=2'>3</a>\u001b[0m   re\u001b[39m=\u001b[39m tf\u001b[39m.\u001b[39mreduce_mean((y \u001b[39m-\u001b[39m y_pred) \u001b[39m*\u001b[39m\u001b[39m*\u001b[39m \u001b[39m2\u001b[39m)\n\u001b[0;32m      <a href='vscode-notebook-cell:/c%3A/Users/yis82/OneDrive/Desktop/Machine_Learning/Optuna/optuna1.ipynb#W4sZmlsZQ%3D%3D?line=3'>4</a>\u001b[0m   \u001b[39mreturn\u001b[39;00m re\n",
      "\u001b[1;31mNameError\u001b[0m: name 'x' is not defined"
     ]
    }
   ],
   "source": [
    "optimizer = tf.optimizers.Adam(lr=0.07)\n",
    "for i in range(1000):\n",
    "  optimizer.minimize(residue, var_list=[w,b])\n",
    "\n",
    "  if i % 100 == 99:\n",
    "    print(i, 'w:', w.numpy(), 'b:', b.numpy(), 'loss:', residue().numpy())\n"
   ]
  },
  {
   "cell_type": "code",
   "execution_count": null,
   "metadata": {},
   "outputs": [],
   "source": []
  }
 ],
 "metadata": {
  "kernelspec": {
   "display_name": "Python 3",
   "language": "python",
   "name": "python3"
  },
  "language_info": {
   "codemirror_mode": {
    "name": "ipython",
    "version": 3
   },
   "file_extension": ".py",
   "mimetype": "text/x-python",
   "name": "python",
   "nbconvert_exporter": "python",
   "pygments_lexer": "ipython3",
   "version": "3.9.13"
  }
 },
 "nbformat": 4,
 "nbformat_minor": 2
}
