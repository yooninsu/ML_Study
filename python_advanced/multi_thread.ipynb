{
 "cells": [
  {
   "cell_type": "markdown",
   "metadata": {},
   "source": [
    "# 비동기 처리\n",
    "\n",
    "## Process\n",
    "\n",
    "현재 실행중인 하나의 프로그램\n",
    "\n",
    "내가 작성한 소스코드도 실행하는 동안 하나의 프로세스가 된다.\n",
    "\n",
    "## Thread\n",
    "\n",
    "하나의 프로세스 안에서 가동되는 작업 단위\n",
    "\n",
    "기본적으로 모든 프로세스는 싱글 쓰레드 단위로 작업을 수행한다.\n",
    "\n",
    "두 개 이상의 쓰레드를 가동하게 되면 동시에 쓰레드 수 만큼의 작업을 수행할 수 있게 된다.\n",
    "\n",
    "## 일반적인 프로그램 구현 (싱글 쓰레드 형태)\n"
   ]
  },
  {
   "cell_type": "code",
   "execution_count": 1,
   "metadata": {},
   "outputs": [],
   "source": [
    "import time\n",
    "import threading"
   ]
  },
  {
   "cell_type": "code",
   "execution_count": 3,
   "metadata": {},
   "outputs": [],
   "source": [
    "# 다소 시간이 소요되는 작업을 가정한 함수 (ex: OpenAPI 연동 등)\n",
    "def sum(myname: str, low: int, high: int) -> None:\n",
    "    total: int = 0\n",
    "\n",
    "    for i in range(low, high):\n",
    "        total += i\n",
    "        time.sleep(1)\n",
    "        print(\"[%s] total=%d\" % (myname, total))"
   ]
  },
  {
   "cell_type": "code",
   "execution_count": 9,
   "metadata": {},
   "outputs": [
    {
     "name": "stdout",
     "output_type": "stream",
     "text": [
      "[A] total=1\n",
      "[A] total=3\n",
      "[A] total=6\n",
      "[A] total=10\n",
      "[B] total=5\n",
      "[B] total=11\n",
      "[B] total=18\n",
      "[B] total=26\n",
      "[B] total=35\n",
      "[C] total=10\n",
      "[C] total=21\n",
      "[C] total=33\n",
      "[C] total=46\n",
      "[C] total=60\n",
      "Done!!!\n"
     ]
    }
   ],
   "source": [
    "sum(\"A\", 1, 5)\n",
    "sum(\"B\", 5, 10)\n",
    "sum(\"C\", 10, 15)\n",
    "print(\"Done!!!\")"
   ]
  },
  {
   "cell_type": "markdown",
   "metadata": {},
   "source": [
    "## 멀티 쓰레딩 형태 구현"
   ]
  },
  {
   "cell_type": "code",
   "execution_count": 7,
   "metadata": {},
   "outputs": [],
   "source": [
    "# threading.Thread 클래스를 상속받는 클래스 정의\n",
    "class MyThread(threading.Thread):\n",
    "    # 함수 구현시 전달하는 파라미터는 생성자로 전달하여 멤버변수에 저장\n",
    "    def __init__(self, myname:str, low:int, high:int):\n",
    "        # 상위 클래스에 대한 초기화 --> 멀티 쓰레딩 초기화\n",
    "        threading.Thread.__init__(self)\n",
    "\n",
    "        # 전달된 파라미터를 맴버변수에 복사\n",
    "        self.myname = myname\n",
    "        self.low = low\n",
    "        self.high = high\n",
    "\n",
    "    # 처리 해야 하는 작업을 run() 이름의 매서드로 구현\n",
    "    # 이 매서드의 이름은 사전에 약속되어 있으며 파라미터를 전달할 수 없다.\n",
    "    def run(self):\n",
    "        total: int = 0\n",
    "\n",
    "        for i in range(self.low, self.high):\n",
    "            total += i\n",
    "            time.sleep(1)\n",
    "            print(\"[%s] total = %d\" % (self.myname, total))"
   ]
  },
  {
   "cell_type": "code",
   "execution_count": 8,
   "metadata": {},
   "outputs": [
    {
     "name": "stdout",
     "output_type": "stream",
     "text": [
      "Done!!!\n"
     ]
    },
    {
     "name": "stdout",
     "output_type": "stream",
     "text": [
      "[C] total = 10\n",
      "[A] total = 1\n",
      "[B] total = 5\n",
      "[B] total = 11[A] total = 3\n",
      "[C] total = 21\n",
      "\n",
      "[B] total = 18[C] total = 33\n",
      "[A] total = 6\n",
      "\n",
      "[B] total = 26[A] total = 10\n",
      "[C] total = 46\n",
      "\n",
      "[C] total = 60\n",
      "[B] total = 35\n"
     ]
    }
   ],
   "source": [
    "# Thraed 객체 생성\n",
    "a = MyThread(\"A\", 1, 5)\n",
    "b = MyThread(\"B\", 5, 10)\n",
    "c = MyThread(\"C\", 10, 15)\n",
    "\n",
    "# 각 Thread 가동 --> 해당 객체의 run() 매서드가 호출된다.\n",
    "a.start()\n",
    "b.start()\n",
    "c.start()\n",
    "\n",
    "print(\"Done!!!\")"
   ]
  },
  {
   "cell_type": "code",
   "execution_count": null,
   "metadata": {},
   "outputs": [],
   "source": []
  }
 ],
 "metadata": {
  "kernelspec": {
   "display_name": "Python 3",
   "language": "python",
   "name": "python3"
  },
  "language_info": {
   "codemirror_mode": {
    "name": "ipython",
    "version": 3
   },
   "file_extension": ".py",
   "mimetype": "text/x-python",
   "name": "python",
   "nbconvert_exporter": "python",
   "pygments_lexer": "ipython3",
   "version": "3.9.13"
  }
 },
 "nbformat": 4,
 "nbformat_minor": 2
}
